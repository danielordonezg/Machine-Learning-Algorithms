{
  "nbformat": 4,
  "nbformat_minor": 0,
  "metadata": {
    "colab": {
      "name": "RegresionPolinomial_Parte1 (1).ipynb",
      "provenance": []
    },
    "kernelspec": {
      "name": "python3",
      "display_name": "Python 3"
    },
    "language_info": {
      "name": "python"
    }
  },
  "cells": [
    {
      "cell_type": "code",
      "metadata": {
        "id": "AkNRc2C4kkAw"
      },
      "source": [
        "import numpy as np\n",
        "from matplotlib import pyplot as plt"
      ],
      "execution_count": null,
      "outputs": []
    },
    {
      "cell_type": "code",
      "metadata": {
        "id": "KxqOC_v8k69t"
      },
      "source": [
        "x = np.array([0 , 0.5, 1,  1.5,  2,   2.5, 3,  3.5, 4,  4.5])\n",
        "y = np.array([2.74387106,  2.50872786,  4.54690415,  5.1426297,   4.20945749,  8.58091376,\n",
        "  8.20209686, 11.44516117, 13.39977291, 15.18328192])"
      ],
      "execution_count": null,
      "outputs": []
    },
    {
      "cell_type": "code",
      "metadata": {
        "colab": {
          "base_uri": "https://localhost:8080/"
        },
        "id": "nkFd9rU30ePl",
        "outputId": "3b1a7060-0faf-48cf-a9ad-87bc951ef6b5"
      },
      "source": [
        "X = np.array([[xi, xi**2, xi**3, xi**4] for xi in x])\n",
        "X"
      ],
      "execution_count": null,
      "outputs": [
        {
          "output_type": "execute_result",
          "data": {
            "text/plain": [
              "array([[0.000000e+00, 0.000000e+00, 0.000000e+00, 0.000000e+00],\n",
              "       [5.000000e-01, 2.500000e-01, 1.250000e-01, 6.250000e-02],\n",
              "       [1.000000e+00, 1.000000e+00, 1.000000e+00, 1.000000e+00],\n",
              "       [1.500000e+00, 2.250000e+00, 3.375000e+00, 5.062500e+00],\n",
              "       [2.000000e+00, 4.000000e+00, 8.000000e+00, 1.600000e+01],\n",
              "       [2.500000e+00, 6.250000e+00, 1.562500e+01, 3.906250e+01],\n",
              "       [3.000000e+00, 9.000000e+00, 2.700000e+01, 8.100000e+01],\n",
              "       [3.500000e+00, 1.225000e+01, 4.287500e+01, 1.500625e+02],\n",
              "       [4.000000e+00, 1.600000e+01, 6.400000e+01, 2.560000e+02],\n",
              "       [4.500000e+00, 2.025000e+01, 9.112500e+01, 4.100625e+02]])"
            ]
          },
          "metadata": {
            "tags": []
          },
          "execution_count": 11
        }
      ]
    },
    {
      "cell_type": "code",
      "metadata": {
        "colab": {
          "base_uri": "https://localhost:8080/",
          "height": 279
        },
        "id": "yuuepnOb4Let",
        "outputId": "ad91db33-bc9e-44c5-b673-0418696dc213"
      },
      "source": [
        "Y = [sum(xi) for xi in X]\n",
        "plt.plot(x, Y)\n",
        "plt.scatter(x, y)\n",
        "plt.xlabel('x')\n",
        "plt.ylabel('Y');"
      ],
      "execution_count": null,
      "outputs": [
        {
          "output_type": "display_data",
          "data": {
            "image/png": "[encoded data removed]",
            "text/plain": [
              "<Figure size 432x288 with 1 Axes>"
            ]
          },
          "metadata": {
            "tags": [],
            "needs_background": "light"
          }
        }
      ]
    },
    {
      "cell_type": "code",
      "metadata": {
        "id": "bNWtRymD6YpL"
      },
      "source": [
        ""
      ],
      "execution_count": null,
      "outputs": []
    }
  ]
}