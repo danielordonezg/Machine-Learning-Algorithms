{
  "nbformat": 4,
  "nbformat_minor": 0,
  "metadata": {
    "colab": {
      "name": "TALLER_02MARZO_ANALITICA_DATOS_DANIELG (2).ipynb",
      "provenance": [],
      "collapsed_sections": []
    },
    "kernelspec": {
      "name": "python3",
      "display_name": "Python 3"
    }
  },
  "cells": [
    {
      "cell_type": "markdown",
      "metadata": {
        "id": "jPfQkCm3_uSL"
      },
      "source": [
        "**SE REQUIERE PRESENTAR UNA APROXIMACION ENTRE LA CALIDAD DE VIDA Y EL PIB PER CAPITA DE PAISES EN EL AÑO 2019**"
      ]
    },
    {
      "cell_type": "code",
      "metadata": {
        "id": "MNGlBpoA2AYT"
      },
      "source": [
        "import pandas as pd\n",
        "import numpy as np\n",
        "import matplotlib.pyplot as plt\n",
        "import sklearn.linear_model "
      ],
      "execution_count": null,
      "outputs": []
    },
    {
      "cell_type": "markdown",
      "metadata": {
        "id": "1qbH439__4ol"
      },
      "source": [
        "**Se asigna el dataset de OCDE 2019 a la variable OCDE2019**"
      ]
    },
    {
      "cell_type": "code",
      "metadata": {
        "colab": {
          "base_uri": "https://localhost:8080/",
          "height": 428
        },
        "id": "NsWXqbq72Ehb",
        "outputId": "680c7e36-7310-4d01-c30a-1a7e2f974eff"
      },
      "source": [
        "OCDE_2019 = pd.read_csv('https://raw.githubusercontent.com/danielordonezg/analisis-de-datos/main/ocde_2019.csv')\n",
        "OCDE_2019.head()"
      ],
      "execution_count": null,
      "outputs": [
        {
          "output_type": "execute_result",
          "data": {
            "text/html": [
              "<div>\n",
              "<style scoped>\n",
              "    .dataframe tbody tr th:only-of-type {\n",
              "        vertical-align: middle;\n",
              "    }\n",
              "\n",
              "    .dataframe tbody tr th {\n",
              "        vertical-align: top;\n",
              "    }\n",
              "\n",
              "    .dataframe thead th {\n",
              "        text-align: right;\n",
              "    }\n",
              "</style>\n",
              "<table border=\"1\" class=\"dataframe\">\n",
              "  <thead>\n",
              "    <tr style=\"text-align: right;\">\n",
              "      <th></th>\n",
              "      <th>LOCATION</th>\n",
              "      <th>Country</th>\n",
              "      <th>INDICATOR</th>\n",
              "      <th>Indicator</th>\n",
              "      <th>MEASURE</th>\n",
              "      <th>Measure</th>\n",
              "      <th>INEQUALITY</th>\n",
              "      <th>Inequality</th>\n",
              "      <th>Unit Code</th>\n",
              "      <th>Unit</th>\n",
              "      <th>PowerCode Code</th>\n",
              "      <th>PowerCode</th>\n",
              "      <th>Reference Period Code</th>\n",
              "      <th>Reference Period</th>\n",
              "      <th>Value</th>\n",
              "      <th>Flag Codes</th>\n",
              "      <th>Flags</th>\n",
              "    </tr>\n",
              "  </thead>\n",
              "  <tbody>\n",
              "    <tr>\n",
              "      <th>0</th>\n",
              "      <td>AUS</td>\n",
              "      <td>Australia</td>\n",
              "      <td>JE_LMIS</td>\n",
              "      <td>Labour market insecurity</td>\n",
              "      <td>L</td>\n",
              "      <td>Value</td>\n",
              "      <td>TOT</td>\n",
              "      <td>Total</td>\n",
              "      <td>PC</td>\n",
              "      <td>Percentage</td>\n",
              "      <td>0</td>\n",
              "      <td>Units</td>\n",
              "      <td>NaN</td>\n",
              "      <td>NaN</td>\n",
              "      <td>5.4</td>\n",
              "      <td>NaN</td>\n",
              "      <td>NaN</td>\n",
              "    </tr>\n",
              "    <tr>\n",
              "      <th>1</th>\n",
              "      <td>AUT</td>\n",
              "      <td>Austria</td>\n",
              "      <td>JE_LMIS</td>\n",
              "      <td>Labour market insecurity</td>\n",
              "      <td>L</td>\n",
              "      <td>Value</td>\n",
              "      <td>TOT</td>\n",
              "      <td>Total</td>\n",
              "      <td>PC</td>\n",
              "      <td>Percentage</td>\n",
              "      <td>0</td>\n",
              "      <td>Units</td>\n",
              "      <td>NaN</td>\n",
              "      <td>NaN</td>\n",
              "      <td>3.5</td>\n",
              "      <td>NaN</td>\n",
              "      <td>NaN</td>\n",
              "    </tr>\n",
              "    <tr>\n",
              "      <th>2</th>\n",
              "      <td>BEL</td>\n",
              "      <td>Belgium</td>\n",
              "      <td>JE_LMIS</td>\n",
              "      <td>Labour market insecurity</td>\n",
              "      <td>L</td>\n",
              "      <td>Value</td>\n",
              "      <td>TOT</td>\n",
              "      <td>Total</td>\n",
              "      <td>PC</td>\n",
              "      <td>Percentage</td>\n",
              "      <td>0</td>\n",
              "      <td>Units</td>\n",
              "      <td>NaN</td>\n",
              "      <td>NaN</td>\n",
              "      <td>3.7</td>\n",
              "      <td>NaN</td>\n",
              "      <td>NaN</td>\n",
              "    </tr>\n",
              "    <tr>\n",
              "      <th>3</th>\n",
              "      <td>CAN</td>\n",
              "      <td>Canada</td>\n",
              "      <td>JE_LMIS</td>\n",
              "      <td>Labour market insecurity</td>\n",
              "      <td>L</td>\n",
              "      <td>Value</td>\n",
              "      <td>TOT</td>\n",
              "      <td>Total</td>\n",
              "      <td>PC</td>\n",
              "      <td>Percentage</td>\n",
              "      <td>0</td>\n",
              "      <td>Units</td>\n",
              "      <td>NaN</td>\n",
              "      <td>NaN</td>\n",
              "      <td>6.0</td>\n",
              "      <td>NaN</td>\n",
              "      <td>NaN</td>\n",
              "    </tr>\n",
              "    <tr>\n",
              "      <th>4</th>\n",
              "      <td>CZE</td>\n",
              "      <td>Czech Republic</td>\n",
              "      <td>JE_LMIS</td>\n",
              "      <td>Labour market insecurity</td>\n",
              "      <td>L</td>\n",
              "      <td>Value</td>\n",
              "      <td>TOT</td>\n",
              "      <td>Total</td>\n",
              "      <td>PC</td>\n",
              "      <td>Percentage</td>\n",
              "      <td>0</td>\n",
              "      <td>Units</td>\n",
              "      <td>NaN</td>\n",
              "      <td>NaN</td>\n",
              "      <td>3.1</td>\n",
              "      <td>NaN</td>\n",
              "      <td>NaN</td>\n",
              "    </tr>\n",
              "  </tbody>\n",
              "</table>\n",
              "</div>"
            ],
            "text/plain": [
              "  LOCATION         Country INDICATOR  ... Value Flag Codes Flags\n",
              "0      AUS       Australia   JE_LMIS  ...   5.4        NaN   NaN\n",
              "1      AUT         Austria   JE_LMIS  ...   3.5        NaN   NaN\n",
              "2      BEL         Belgium   JE_LMIS  ...   3.7        NaN   NaN\n",
              "3      CAN          Canada   JE_LMIS  ...   6.0        NaN   NaN\n",
              "4      CZE  Czech Republic   JE_LMIS  ...   3.1        NaN   NaN\n",
              "\n",
              "[5 rows x 17 columns]"
            ]
          },
          "metadata": {
            "tags": []
          },
          "execution_count": 49
        }
      ]
    },
    {
      "cell_type": "markdown",
      "metadata": {
        "id": "tEXWkusqAKDW"
      },
      "source": [
        "**DIMENSIONES DEL DATASET**"
      ]
    },
    {
      "cell_type": "code",
      "metadata": {
        "colab": {
          "base_uri": "https://localhost:8080/"
        },
        "id": "c_3M0q-E2zD_",
        "outputId": "9b7a8040-2f56-470e-bfe3-20aa6cd29a78"
      },
      "source": [
        "OCDE_2019.shape"
      ],
      "execution_count": null,
      "outputs": [
        {
          "output_type": "execute_result",
          "data": {
            "text/plain": [
              "(2369, 17)"
            ]
          },
          "metadata": {
            "tags": []
          },
          "execution_count": 50
        }
      ]
    },
    {
      "cell_type": "markdown",
      "metadata": {
        "id": "_3pZMhF6ANd_"
      },
      "source": [
        "\n",
        "**NOMBRES DE LAS COLUMNAS**"
      ]
    },
    {
      "cell_type": "code",
      "metadata": {
        "colab": {
          "base_uri": "https://localhost:8080/"
        },
        "id": "P5MVIBe73VKk",
        "outputId": "2e313f99-ae1e-453f-b457-7d1938a32560"
      },
      "source": [
        "OCDE_2019.columns"
      ],
      "execution_count": null,
      "outputs": [
        {
          "output_type": "execute_result",
          "data": {
            "text/plain": [
              "Index(['LOCATION', 'Country', 'INDICATOR', 'Indicator', 'MEASURE', 'Measure',\n",
              "       'INEQUALITY', 'Inequality', 'Unit Code', 'Unit', 'PowerCode Code',\n",
              "       'PowerCode', 'Reference Period Code', 'Reference Period', 'Value',\n",
              "       'Flag Codes', 'Flags'],\n",
              "      dtype='object')"
            ]
          },
          "metadata": {
            "tags": []
          },
          "execution_count": 51
        }
      ]
    },
    {
      "cell_type": "markdown",
      "metadata": {
        "id": "sZldR27rAWK5"
      },
      "source": [
        "**CATEGORIAS UNICAS DE LA COLUMNA INEQUALITY**"
      ]
    },
    {
      "cell_type": "code",
      "metadata": {
        "colab": {
          "base_uri": "https://localhost:8080/"
        },
        "id": "oSIB4v3o3jKK",
        "outputId": "33d4c890-a3eb-415f-8739-0370ef018c28"
      },
      "source": [
        "OCDE_2019['INEQUALITY'].unique()"
      ],
      "execution_count": null,
      "outputs": [
        {
          "output_type": "execute_result",
          "data": {
            "text/plain": [
              "array(['TOT', 'MN', 'WMN', 'HGH', 'LW'], dtype=object)"
            ]
          },
          "metadata": {
            "tags": []
          },
          "execution_count": 52
        }
      ]
    },
    {
      "cell_type": "markdown",
      "metadata": {
        "id": "UrOvYNThAa2M"
      },
      "source": [
        "**SE REQUIERE QUE EL DATASET TENGA SOLAMENTE LA CATEGORIA TOT DE LA COLUMNA INEQUIALITY**"
      ]
    },
    {
      "cell_type": "code",
      "metadata": {
        "colab": {
          "base_uri": "https://localhost:8080/",
          "height": 428
        },
        "id": "N8PxVqJ13und",
        "outputId": "c35b39cd-e5eb-4847-8350-8e32c0514491"
      },
      "source": [
        "OCDE_2019 = OCDE_2019[OCDE_2019['INEQUALITY'] == 'TOT']\n",
        "OCDE_2019.head()"
      ],
      "execution_count": null,
      "outputs": [
        {
          "output_type": "execute_result",
          "data": {
            "text/html": [
              "<div>\n",
              "<style scoped>\n",
              "    .dataframe tbody tr th:only-of-type {\n",
              "        vertical-align: middle;\n",
              "    }\n",
              "\n",
              "    .dataframe tbody tr th {\n",
              "        vertical-align: top;\n",
              "    }\n",
              "\n",
              "    .dataframe thead th {\n",
              "        text-align: right;\n",
              "    }\n",
              "</style>\n",
              "<table border=\"1\" class=\"dataframe\">\n",
              "  <thead>\n",
              "    <tr style=\"text-align: right;\">\n",
              "      <th></th>\n",
              "      <th>LOCATION</th>\n",
              "      <th>Country</th>\n",
              "      <th>INDICATOR</th>\n",
              "      <th>Indicator</th>\n",
              "      <th>MEASURE</th>\n",
              "      <th>Measure</th>\n",
              "      <th>INEQUALITY</th>\n",
              "      <th>Inequality</th>\n",
              "      <th>Unit Code</th>\n",
              "      <th>Unit</th>\n",
              "      <th>PowerCode Code</th>\n",
              "      <th>PowerCode</th>\n",
              "      <th>Reference Period Code</th>\n",
              "      <th>Reference Period</th>\n",
              "      <th>Value</th>\n",
              "      <th>Flag Codes</th>\n",
              "      <th>Flags</th>\n",
              "    </tr>\n",
              "  </thead>\n",
              "  <tbody>\n",
              "    <tr>\n",
              "      <th>0</th>\n",
              "      <td>AUS</td>\n",
              "      <td>Australia</td>\n",
              "      <td>JE_LMIS</td>\n",
              "      <td>Labour market insecurity</td>\n",
              "      <td>L</td>\n",
              "      <td>Value</td>\n",
              "      <td>TOT</td>\n",
              "      <td>Total</td>\n",
              "      <td>PC</td>\n",
              "      <td>Percentage</td>\n",
              "      <td>0</td>\n",
              "      <td>Units</td>\n",
              "      <td>NaN</td>\n",
              "      <td>NaN</td>\n",
              "      <td>5.4</td>\n",
              "      <td>NaN</td>\n",
              "      <td>NaN</td>\n",
              "    </tr>\n",
              "    <tr>\n",
              "      <th>1</th>\n",
              "      <td>AUT</td>\n",
              "      <td>Austria</td>\n",
              "      <td>JE_LMIS</td>\n",
              "      <td>Labour market insecurity</td>\n",
              "      <td>L</td>\n",
              "      <td>Value</td>\n",
              "      <td>TOT</td>\n",
              "      <td>Total</td>\n",
              "      <td>PC</td>\n",
              "      <td>Percentage</td>\n",
              "      <td>0</td>\n",
              "      <td>Units</td>\n",
              "      <td>NaN</td>\n",
              "      <td>NaN</td>\n",
              "      <td>3.5</td>\n",
              "      <td>NaN</td>\n",
              "      <td>NaN</td>\n",
              "    </tr>\n",
              "    <tr>\n",
              "      <th>2</th>\n",
              "      <td>BEL</td>\n",
              "      <td>Belgium</td>\n",
              "      <td>JE_LMIS</td>\n",
              "      <td>Labour market insecurity</td>\n",
              "      <td>L</td>\n",
              "      <td>Value</td>\n",
              "      <td>TOT</td>\n",
              "      <td>Total</td>\n",
              "      <td>PC</td>\n",
              "      <td>Percentage</td>\n",
              "      <td>0</td>\n",
              "      <td>Units</td>\n",
              "      <td>NaN</td>\n",
              "      <td>NaN</td>\n",
              "      <td>3.7</td>\n",
              "      <td>NaN</td>\n",
              "      <td>NaN</td>\n",
              "    </tr>\n",
              "    <tr>\n",
              "      <th>3</th>\n",
              "      <td>CAN</td>\n",
              "      <td>Canada</td>\n",
              "      <td>JE_LMIS</td>\n",
              "      <td>Labour market insecurity</td>\n",
              "      <td>L</td>\n",
              "      <td>Value</td>\n",
              "      <td>TOT</td>\n",
              "      <td>Total</td>\n",
              "      <td>PC</td>\n",
              "      <td>Percentage</td>\n",
              "      <td>0</td>\n",
              "      <td>Units</td>\n",
              "      <td>NaN</td>\n",
              "      <td>NaN</td>\n",
              "      <td>6.0</td>\n",
              "      <td>NaN</td>\n",
              "      <td>NaN</td>\n",
              "    </tr>\n",
              "    <tr>\n",
              "      <th>4</th>\n",
              "      <td>CZE</td>\n",
              "      <td>Czech Republic</td>\n",
              "      <td>JE_LMIS</td>\n",
              "      <td>Labour market insecurity</td>\n",
              "      <td>L</td>\n",
              "      <td>Value</td>\n",
              "      <td>TOT</td>\n",
              "      <td>Total</td>\n",
              "      <td>PC</td>\n",
              "      <td>Percentage</td>\n",
              "      <td>0</td>\n",
              "      <td>Units</td>\n",
              "      <td>NaN</td>\n",
              "      <td>NaN</td>\n",
              "      <td>3.1</td>\n",
              "      <td>NaN</td>\n",
              "      <td>NaN</td>\n",
              "    </tr>\n",
              "  </tbody>\n",
              "</table>\n",
              "</div>"
            ],
            "text/plain": [
              "  LOCATION         Country INDICATOR  ... Value Flag Codes Flags\n",
              "0      AUS       Australia   JE_LMIS  ...   5.4        NaN   NaN\n",
              "1      AUT         Austria   JE_LMIS  ...   3.5        NaN   NaN\n",
              "2      BEL         Belgium   JE_LMIS  ...   3.7        NaN   NaN\n",
              "3      CAN          Canada   JE_LMIS  ...   6.0        NaN   NaN\n",
              "4      CZE  Czech Republic   JE_LMIS  ...   3.1        NaN   NaN\n",
              "\n",
              "[5 rows x 17 columns]"
            ]
          },
          "metadata": {
            "tags": []
          },
          "execution_count": 53
        }
      ]
    },
    {
      "cell_type": "markdown",
      "metadata": {
        "id": "4ZGSKlU7AiCF"
      },
      "source": [
        "**SE REQUIERE QUE LA COLUMNA COUNTRY QUEDE COMO INDEX**"
      ]
    },
    {
      "cell_type": "code",
      "metadata": {
        "colab": {
          "base_uri": "https://localhost:8080/",
          "height": 357
        },
        "id": "5wREiq6_4ORb",
        "outputId": "6cd835e7-fb44-4b77-e270-94cb6431ea67"
      },
      "source": [
        "OCDE_2019 = OCDE_2019.pivot(index='Country', columns='Indicator', values='Value')\n",
        "OCDE_2019.head()"
      ],
      "execution_count": null,
      "outputs": [
        {
          "output_type": "execute_result",
          "data": {
            "text/html": [
              "<div>\n",
              "<style scoped>\n",
              "    .dataframe tbody tr th:only-of-type {\n",
              "        vertical-align: middle;\n",
              "    }\n",
              "\n",
              "    .dataframe tbody tr th {\n",
              "        vertical-align: top;\n",
              "    }\n",
              "\n",
              "    .dataframe thead th {\n",
              "        text-align: right;\n",
              "    }\n",
              "</style>\n",
              "<table border=\"1\" class=\"dataframe\">\n",
              "  <thead>\n",
              "    <tr style=\"text-align: right;\">\n",
              "      <th>Indicator</th>\n",
              "      <th>Air pollution</th>\n",
              "      <th>Dwellings without basic facilities</th>\n",
              "      <th>Educational attainment</th>\n",
              "      <th>Employees working very long hours</th>\n",
              "      <th>Employment rate</th>\n",
              "      <th>Feeling safe walking alone at night</th>\n",
              "      <th>Homicide rate</th>\n",
              "      <th>Household net adjusted disposable income</th>\n",
              "      <th>Household net wealth</th>\n",
              "      <th>Housing expenditure</th>\n",
              "      <th>Labour market insecurity</th>\n",
              "      <th>Life expectancy</th>\n",
              "      <th>Life satisfaction</th>\n",
              "      <th>Long-term unemployment rate</th>\n",
              "      <th>Personal earnings</th>\n",
              "      <th>Quality of support network</th>\n",
              "      <th>Rooms per person</th>\n",
              "      <th>Self-reported health</th>\n",
              "      <th>Stakeholder engagement for developing regulations</th>\n",
              "      <th>Student skills</th>\n",
              "      <th>Time devoted to leisure and personal care</th>\n",
              "      <th>Voter turnout</th>\n",
              "      <th>Water quality</th>\n",
              "      <th>Years in education</th>\n",
              "    </tr>\n",
              "    <tr>\n",
              "      <th>Country</th>\n",
              "      <th></th>\n",
              "      <th></th>\n",
              "      <th></th>\n",
              "      <th></th>\n",
              "      <th></th>\n",
              "      <th></th>\n",
              "      <th></th>\n",
              "      <th></th>\n",
              "      <th></th>\n",
              "      <th></th>\n",
              "      <th></th>\n",
              "      <th></th>\n",
              "      <th></th>\n",
              "      <th></th>\n",
              "      <th></th>\n",
              "      <th></th>\n",
              "      <th></th>\n",
              "      <th></th>\n",
              "      <th></th>\n",
              "      <th></th>\n",
              "      <th></th>\n",
              "      <th></th>\n",
              "      <th></th>\n",
              "      <th></th>\n",
              "    </tr>\n",
              "  </thead>\n",
              "  <tbody>\n",
              "    <tr>\n",
              "      <th>Australia</th>\n",
              "      <td>5.0</td>\n",
              "      <td>NaN</td>\n",
              "      <td>81.0</td>\n",
              "      <td>13.04</td>\n",
              "      <td>73.0</td>\n",
              "      <td>63.5</td>\n",
              "      <td>1.1</td>\n",
              "      <td>32759.0</td>\n",
              "      <td>427064.0</td>\n",
              "      <td>20.0</td>\n",
              "      <td>5.4</td>\n",
              "      <td>82.5</td>\n",
              "      <td>7.3</td>\n",
              "      <td>1.31</td>\n",
              "      <td>49126.0</td>\n",
              "      <td>95.0</td>\n",
              "      <td>NaN</td>\n",
              "      <td>85.0</td>\n",
              "      <td>2.7</td>\n",
              "      <td>502.0</td>\n",
              "      <td>14.35</td>\n",
              "      <td>91.0</td>\n",
              "      <td>93.0</td>\n",
              "      <td>21.0</td>\n",
              "    </tr>\n",
              "    <tr>\n",
              "      <th>Austria</th>\n",
              "      <td>16.0</td>\n",
              "      <td>0.9</td>\n",
              "      <td>85.0</td>\n",
              "      <td>6.66</td>\n",
              "      <td>72.0</td>\n",
              "      <td>80.6</td>\n",
              "      <td>0.5</td>\n",
              "      <td>33541.0</td>\n",
              "      <td>308325.0</td>\n",
              "      <td>21.0</td>\n",
              "      <td>3.5</td>\n",
              "      <td>81.7</td>\n",
              "      <td>7.1</td>\n",
              "      <td>1.84</td>\n",
              "      <td>50349.0</td>\n",
              "      <td>92.0</td>\n",
              "      <td>1.6</td>\n",
              "      <td>70.0</td>\n",
              "      <td>1.3</td>\n",
              "      <td>492.0</td>\n",
              "      <td>14.55</td>\n",
              "      <td>80.0</td>\n",
              "      <td>92.0</td>\n",
              "      <td>17.0</td>\n",
              "    </tr>\n",
              "    <tr>\n",
              "      <th>Belgium</th>\n",
              "      <td>15.0</td>\n",
              "      <td>1.9</td>\n",
              "      <td>77.0</td>\n",
              "      <td>4.75</td>\n",
              "      <td>63.0</td>\n",
              "      <td>70.1</td>\n",
              "      <td>1.0</td>\n",
              "      <td>30364.0</td>\n",
              "      <td>386006.0</td>\n",
              "      <td>21.0</td>\n",
              "      <td>3.7</td>\n",
              "      <td>81.5</td>\n",
              "      <td>6.9</td>\n",
              "      <td>3.54</td>\n",
              "      <td>49675.0</td>\n",
              "      <td>91.0</td>\n",
              "      <td>2.2</td>\n",
              "      <td>74.0</td>\n",
              "      <td>2.0</td>\n",
              "      <td>503.0</td>\n",
              "      <td>15.70</td>\n",
              "      <td>89.0</td>\n",
              "      <td>84.0</td>\n",
              "      <td>19.3</td>\n",
              "    </tr>\n",
              "    <tr>\n",
              "      <th>Brazil</th>\n",
              "      <td>10.0</td>\n",
              "      <td>6.7</td>\n",
              "      <td>49.0</td>\n",
              "      <td>7.13</td>\n",
              "      <td>61.0</td>\n",
              "      <td>35.6</td>\n",
              "      <td>26.7</td>\n",
              "      <td>NaN</td>\n",
              "      <td>NaN</td>\n",
              "      <td>NaN</td>\n",
              "      <td>NaN</td>\n",
              "      <td>74.8</td>\n",
              "      <td>6.4</td>\n",
              "      <td>NaN</td>\n",
              "      <td>NaN</td>\n",
              "      <td>90.0</td>\n",
              "      <td>NaN</td>\n",
              "      <td>NaN</td>\n",
              "      <td>2.2</td>\n",
              "      <td>395.0</td>\n",
              "      <td>NaN</td>\n",
              "      <td>79.0</td>\n",
              "      <td>73.0</td>\n",
              "      <td>16.2</td>\n",
              "    </tr>\n",
              "    <tr>\n",
              "      <th>Canada</th>\n",
              "      <td>7.0</td>\n",
              "      <td>0.2</td>\n",
              "      <td>91.0</td>\n",
              "      <td>3.69</td>\n",
              "      <td>73.0</td>\n",
              "      <td>82.2</td>\n",
              "      <td>1.3</td>\n",
              "      <td>30854.0</td>\n",
              "      <td>423849.0</td>\n",
              "      <td>22.0</td>\n",
              "      <td>6.0</td>\n",
              "      <td>81.9</td>\n",
              "      <td>7.4</td>\n",
              "      <td>0.77</td>\n",
              "      <td>47622.0</td>\n",
              "      <td>93.0</td>\n",
              "      <td>2.6</td>\n",
              "      <td>88.0</td>\n",
              "      <td>2.9</td>\n",
              "      <td>523.0</td>\n",
              "      <td>14.56</td>\n",
              "      <td>68.0</td>\n",
              "      <td>91.0</td>\n",
              "      <td>17.3</td>\n",
              "    </tr>\n",
              "  </tbody>\n",
              "</table>\n",
              "</div>"
            ],
            "text/plain": [
              "Indicator  Air pollution  ...  Years in education\n",
              "Country                   ...                    \n",
              "Australia            5.0  ...                21.0\n",
              "Austria             16.0  ...                17.0\n",
              "Belgium             15.0  ...                19.3\n",
              "Brazil              10.0  ...                16.2\n",
              "Canada               7.0  ...                17.3\n",
              "\n",
              "[5 rows x 24 columns]"
            ]
          },
          "metadata": {
            "tags": []
          },
          "execution_count": 54
        }
      ]
    },
    {
      "cell_type": "markdown",
      "metadata": {
        "id": "qRUTSbJNAoXk"
      },
      "source": [
        "**SE IMPORTA EL DATASET Y SE LE ASIGNA A VARIABLE GDP_2019**"
      ]
    },
    {
      "cell_type": "code",
      "metadata": {
        "colab": {
          "base_uri": "https://localhost:8080/",
          "height": 204
        },
        "id": "tiQEvFRJ5eYN",
        "outputId": "56d68a93-306a-4fb2-eace-120e4ad7f06d"
      },
      "source": [
        "GDP_2019 = pd.read_csv('https://raw.githubusercontent.com/danielordonezg/analisis-de-datos/main/gdp_per_capita_2019.csv')\n",
        "GDP_2019.head()"
      ],
      "execution_count": null,
      "outputs": [
        {
          "output_type": "execute_result",
          "data": {
            "text/html": [
              "<div>\n",
              "<style scoped>\n",
              "    .dataframe tbody tr th:only-of-type {\n",
              "        vertical-align: middle;\n",
              "    }\n",
              "\n",
              "    .dataframe tbody tr th {\n",
              "        vertical-align: top;\n",
              "    }\n",
              "\n",
              "    .dataframe thead th {\n",
              "        text-align: right;\n",
              "    }\n",
              "</style>\n",
              "<table border=\"1\" class=\"dataframe\">\n",
              "  <thead>\n",
              "    <tr style=\"text-align: right;\">\n",
              "      <th></th>\n",
              "      <th>Series Name</th>\n",
              "      <th>Series Code</th>\n",
              "      <th>Country Name</th>\n",
              "      <th>Country Code</th>\n",
              "      <th>2019 [YR2019]</th>\n",
              "    </tr>\n",
              "  </thead>\n",
              "  <tbody>\n",
              "    <tr>\n",
              "      <th>0</th>\n",
              "      <td>GDP per capita (current US$)</td>\n",
              "      <td>NY.GDP.PCAP.CD</td>\n",
              "      <td>Afghanistan</td>\n",
              "      <td>AFG</td>\n",
              "      <td>507.103431871987</td>\n",
              "    </tr>\n",
              "    <tr>\n",
              "      <th>1</th>\n",
              "      <td>GDP per capita (current US$)</td>\n",
              "      <td>NY.GDP.PCAP.CD</td>\n",
              "      <td>Albania</td>\n",
              "      <td>ALB</td>\n",
              "      <td>5353.2448564014</td>\n",
              "    </tr>\n",
              "    <tr>\n",
              "      <th>2</th>\n",
              "      <td>GDP per capita (current US$)</td>\n",
              "      <td>NY.GDP.PCAP.CD</td>\n",
              "      <td>Algeria</td>\n",
              "      <td>DZA</td>\n",
              "      <td>3973.96407191565</td>\n",
              "    </tr>\n",
              "    <tr>\n",
              "      <th>3</th>\n",
              "      <td>GDP per capita (current US$)</td>\n",
              "      <td>NY.GDP.PCAP.CD</td>\n",
              "      <td>American Samoa</td>\n",
              "      <td>ASM</td>\n",
              "      <td>..</td>\n",
              "    </tr>\n",
              "    <tr>\n",
              "      <th>4</th>\n",
              "      <td>GDP per capita (current US$)</td>\n",
              "      <td>NY.GDP.PCAP.CD</td>\n",
              "      <td>Andorra</td>\n",
              "      <td>AND</td>\n",
              "      <td>40886.3911648431</td>\n",
              "    </tr>\n",
              "  </tbody>\n",
              "</table>\n",
              "</div>"
            ],
            "text/plain": [
              "                    Series Name     Series Code  ... Country Code     2019 [YR2019]\n",
              "0  GDP per capita (current US$)  NY.GDP.PCAP.CD  ...          AFG  507.103431871987\n",
              "1  GDP per capita (current US$)  NY.GDP.PCAP.CD  ...          ALB   5353.2448564014\n",
              "2  GDP per capita (current US$)  NY.GDP.PCAP.CD  ...          DZA  3973.96407191565\n",
              "3  GDP per capita (current US$)  NY.GDP.PCAP.CD  ...          ASM                ..\n",
              "4  GDP per capita (current US$)  NY.GDP.PCAP.CD  ...          AND  40886.3911648431\n",
              "\n",
              "[5 rows x 5 columns]"
            ]
          },
          "metadata": {
            "tags": []
          },
          "execution_count": 55
        }
      ]
    },
    {
      "cell_type": "markdown",
      "metadata": {
        "id": "fas01ovqA78y"
      },
      "source": [
        "**DIMENSIONES DEL DATASET**"
      ]
    },
    {
      "cell_type": "code",
      "metadata": {
        "colab": {
          "base_uri": "https://localhost:8080/"
        },
        "id": "MbFXpfBS6x9u",
        "outputId": "54e478c5-c4f9-493e-c116-795b358e9d9f"
      },
      "source": [
        "GDP_2019.shape"
      ],
      "execution_count": null,
      "outputs": [
        {
          "output_type": "execute_result",
          "data": {
            "text/plain": [
              "(222, 5)"
            ]
          },
          "metadata": {
            "tags": []
          },
          "execution_count": 56
        }
      ]
    },
    {
      "cell_type": "markdown",
      "metadata": {
        "id": "zMY1UP4PBAET"
      },
      "source": [
        "**NOMBRE DE LAS COLUMNAS DEL DATASET**"
      ]
    },
    {
      "cell_type": "code",
      "metadata": {
        "colab": {
          "base_uri": "https://localhost:8080/"
        },
        "id": "Refid--464OZ",
        "outputId": "ec33d760-75b2-46e0-9759-e1fdd476bfa4"
      },
      "source": [
        "GDP_2019.columns"
      ],
      "execution_count": null,
      "outputs": [
        {
          "output_type": "execute_result",
          "data": {
            "text/plain": [
              "Index(['Series Name', 'Series Code', 'Country Name', 'Country Code',\n",
              "       '2019 [YR2019]'],\n",
              "      dtype='object')"
            ]
          },
          "metadata": {
            "tags": []
          },
          "execution_count": 57
        }
      ]
    },
    {
      "cell_type": "markdown",
      "metadata": {
        "id": "Xl2KeQzCBD8J"
      },
      "source": [
        "**CAMBIAR COLUMNA 2019 POR GDP PER CAPITA Y QUE LA COLUMNA COUNTRY NAME SEA EL INDICE**"
      ]
    },
    {
      "cell_type": "code",
      "metadata": {
        "colab": {
          "base_uri": "https://localhost:8080/",
          "height": 235
        },
        "id": "0yOfErgT69FC",
        "outputId": "e4b5c168-31ce-4b5e-a956-f2bb844525c9"
      },
      "source": [
        "GDP_2019.rename(columns={'2019 [YR2019]': 'GDP per capita'}, inplace=True)\n",
        "GDP_2019.set_index('Country Name', inplace=True)\n",
        "GDP_2019.head()"
      ],
      "execution_count": null,
      "outputs": [
        {
          "output_type": "execute_result",
          "data": {
            "text/html": [
              "<div>\n",
              "<style scoped>\n",
              "    .dataframe tbody tr th:only-of-type {\n",
              "        vertical-align: middle;\n",
              "    }\n",
              "\n",
              "    .dataframe tbody tr th {\n",
              "        vertical-align: top;\n",
              "    }\n",
              "\n",
              "    .dataframe thead th {\n",
              "        text-align: right;\n",
              "    }\n",
              "</style>\n",
              "<table border=\"1\" class=\"dataframe\">\n",
              "  <thead>\n",
              "    <tr style=\"text-align: right;\">\n",
              "      <th></th>\n",
              "      <th>Series Name</th>\n",
              "      <th>Series Code</th>\n",
              "      <th>Country Code</th>\n",
              "      <th>GDP per capita</th>\n",
              "    </tr>\n",
              "    <tr>\n",
              "      <th>Country Name</th>\n",
              "      <th></th>\n",
              "      <th></th>\n",
              "      <th></th>\n",
              "      <th></th>\n",
              "    </tr>\n",
              "  </thead>\n",
              "  <tbody>\n",
              "    <tr>\n",
              "      <th>Afghanistan</th>\n",
              "      <td>GDP per capita (current US$)</td>\n",
              "      <td>NY.GDP.PCAP.CD</td>\n",
              "      <td>AFG</td>\n",
              "      <td>507.103431871987</td>\n",
              "    </tr>\n",
              "    <tr>\n",
              "      <th>Albania</th>\n",
              "      <td>GDP per capita (current US$)</td>\n",
              "      <td>NY.GDP.PCAP.CD</td>\n",
              "      <td>ALB</td>\n",
              "      <td>5353.2448564014</td>\n",
              "    </tr>\n",
              "    <tr>\n",
              "      <th>Algeria</th>\n",
              "      <td>GDP per capita (current US$)</td>\n",
              "      <td>NY.GDP.PCAP.CD</td>\n",
              "      <td>DZA</td>\n",
              "      <td>3973.96407191565</td>\n",
              "    </tr>\n",
              "    <tr>\n",
              "      <th>American Samoa</th>\n",
              "      <td>GDP per capita (current US$)</td>\n",
              "      <td>NY.GDP.PCAP.CD</td>\n",
              "      <td>ASM</td>\n",
              "      <td>..</td>\n",
              "    </tr>\n",
              "    <tr>\n",
              "      <th>Andorra</th>\n",
              "      <td>GDP per capita (current US$)</td>\n",
              "      <td>NY.GDP.PCAP.CD</td>\n",
              "      <td>AND</td>\n",
              "      <td>40886.3911648431</td>\n",
              "    </tr>\n",
              "  </tbody>\n",
              "</table>\n",
              "</div>"
            ],
            "text/plain": [
              "                                 Series Name  ...    GDP per capita\n",
              "Country Name                                  ...                  \n",
              "Afghanistan     GDP per capita (current US$)  ...  507.103431871987\n",
              "Albania         GDP per capita (current US$)  ...   5353.2448564014\n",
              "Algeria         GDP per capita (current US$)  ...  3973.96407191565\n",
              "American Samoa  GDP per capita (current US$)  ...                ..\n",
              "Andorra         GDP per capita (current US$)  ...  40886.3911648431\n",
              "\n",
              "[5 rows x 4 columns]"
            ]
          },
          "metadata": {
            "tags": []
          },
          "execution_count": 58
        }
      ]
    },
    {
      "cell_type": "markdown",
      "metadata": {
        "id": "J2o1rtRmBbts"
      },
      "source": [
        "**SE REQUIERE SABER LOS TIPOS DE DATOS DEL DATAFRAME**"
      ]
    },
    {
      "cell_type": "code",
      "metadata": {
        "colab": {
          "base_uri": "https://localhost:8080/"
        },
        "id": "OaTIttx375ph",
        "outputId": "77c9e24a-cbc2-4030-cd3e-4ca6ea23a0e1"
      },
      "source": [
        "GDP_2019.info()"
      ],
      "execution_count": null,
      "outputs": [
        {
          "output_type": "stream",
          "text": [
            "<class 'pandas.core.frame.DataFrame'>\n",
            "Index: 222 entries, Afghanistan to nan\n",
            "Data columns (total 4 columns):\n",
            " #   Column          Non-Null Count  Dtype \n",
            "---  ------          --------------  ----- \n",
            " 0   Series Name     219 non-null    object\n",
            " 1   Series Code     217 non-null    object\n",
            " 2   Country Code    217 non-null    object\n",
            " 3   GDP per capita  217 non-null    object\n",
            "dtypes: object(4)\n",
            "memory usage: 8.7+ KB\n"
          ],
          "name": "stdout"
        }
      ]
    },
    {
      "cell_type": "markdown",
      "metadata": {
        "id": "t-V687iqBjYJ"
      },
      "source": [
        "**SE REQUIERE QUE LA COLUMNA DE GDP PER CAPITA SEA TIPO NUMERICO**"
      ]
    },
    {
      "cell_type": "code",
      "metadata": {
        "colab": {
          "base_uri": "https://localhost:8080/",
          "height": 235
        },
        "id": "1SAiBD8Z8EPh",
        "outputId": "11efdea0-2dc4-4ef0-deaa-b80f13dc4d94"
      },
      "source": [
        "GDP_2019['GDP per capita'] = GDP_2019['GDP per capita'].apply(pd.to_numeric, errors='coerce')\n",
        "GDP_2019.head()"
      ],
      "execution_count": null,
      "outputs": [
        {
          "output_type": "execute_result",
          "data": {
            "text/html": [
              "<div>\n",
              "<style scoped>\n",
              "    .dataframe tbody tr th:only-of-type {\n",
              "        vertical-align: middle;\n",
              "    }\n",
              "\n",
              "    .dataframe tbody tr th {\n",
              "        vertical-align: top;\n",
              "    }\n",
              "\n",
              "    .dataframe thead th {\n",
              "        text-align: right;\n",
              "    }\n",
              "</style>\n",
              "<table border=\"1\" class=\"dataframe\">\n",
              "  <thead>\n",
              "    <tr style=\"text-align: right;\">\n",
              "      <th></th>\n",
              "      <th>Series Name</th>\n",
              "      <th>Series Code</th>\n",
              "      <th>Country Code</th>\n",
              "      <th>GDP per capita</th>\n",
              "    </tr>\n",
              "    <tr>\n",
              "      <th>Country Name</th>\n",
              "      <th></th>\n",
              "      <th></th>\n",
              "      <th></th>\n",
              "      <th></th>\n",
              "    </tr>\n",
              "  </thead>\n",
              "  <tbody>\n",
              "    <tr>\n",
              "      <th>Afghanistan</th>\n",
              "      <td>GDP per capita (current US$)</td>\n",
              "      <td>NY.GDP.PCAP.CD</td>\n",
              "      <td>AFG</td>\n",
              "      <td>507.103432</td>\n",
              "    </tr>\n",
              "    <tr>\n",
              "      <th>Albania</th>\n",
              "      <td>GDP per capita (current US$)</td>\n",
              "      <td>NY.GDP.PCAP.CD</td>\n",
              "      <td>ALB</td>\n",
              "      <td>5353.244856</td>\n",
              "    </tr>\n",
              "    <tr>\n",
              "      <th>Algeria</th>\n",
              "      <td>GDP per capita (current US$)</td>\n",
              "      <td>NY.GDP.PCAP.CD</td>\n",
              "      <td>DZA</td>\n",
              "      <td>3973.964072</td>\n",
              "    </tr>\n",
              "    <tr>\n",
              "      <th>American Samoa</th>\n",
              "      <td>GDP per capita (current US$)</td>\n",
              "      <td>NY.GDP.PCAP.CD</td>\n",
              "      <td>ASM</td>\n",
              "      <td>NaN</td>\n",
              "    </tr>\n",
              "    <tr>\n",
              "      <th>Andorra</th>\n",
              "      <td>GDP per capita (current US$)</td>\n",
              "      <td>NY.GDP.PCAP.CD</td>\n",
              "      <td>AND</td>\n",
              "      <td>40886.391165</td>\n",
              "    </tr>\n",
              "  </tbody>\n",
              "</table>\n",
              "</div>"
            ],
            "text/plain": [
              "                                 Series Name  ... GDP per capita\n",
              "Country Name                                  ...               \n",
              "Afghanistan     GDP per capita (current US$)  ...     507.103432\n",
              "Albania         GDP per capita (current US$)  ...    5353.244856\n",
              "Algeria         GDP per capita (current US$)  ...    3973.964072\n",
              "American Samoa  GDP per capita (current US$)  ...            NaN\n",
              "Andorra         GDP per capita (current US$)  ...   40886.391165\n",
              "\n",
              "[5 rows x 4 columns]"
            ]
          },
          "metadata": {
            "tags": []
          },
          "execution_count": 60
        }
      ]
    },
    {
      "cell_type": "markdown",
      "metadata": {
        "id": "GTZXF3wCBpAk"
      },
      "source": [
        "**SE REQUIERE CONOCER EL TIPO DE DATO DE LA COLUMNA**"
      ]
    },
    {
      "cell_type": "code",
      "metadata": {
        "colab": {
          "base_uri": "https://localhost:8080/"
        },
        "id": "xe7Dajzu9kQd",
        "outputId": "f3db63d7-09bd-419b-c663-07be2796e5c2"
      },
      "source": [
        "GDP_2019.info()"
      ],
      "execution_count": null,
      "outputs": [
        {
          "output_type": "stream",
          "text": [
            "<class 'pandas.core.frame.DataFrame'>\n",
            "Index: 222 entries, Afghanistan to nan\n",
            "Data columns (total 4 columns):\n",
            " #   Column          Non-Null Count  Dtype  \n",
            "---  ------          --------------  -----  \n",
            " 0   Series Name     219 non-null    object \n",
            " 1   Series Code     217 non-null    object \n",
            " 2   Country Code    217 non-null    object \n",
            " 3   GDP per capita  186 non-null    float64\n",
            "dtypes: float64(1), object(3)\n",
            "memory usage: 8.7+ KB\n"
          ],
          "name": "stdout"
        }
      ]
    },
    {
      "cell_type": "markdown",
      "metadata": {
        "id": "Bdt69x2MB3S7"
      },
      "source": [
        "**SE REQUIERE QUE LA COLUMNA GDP PER CAPITAL TENGA UNICAMENTE 3 DECIMALES**"
      ]
    },
    {
      "cell_type": "code",
      "metadata": {
        "colab": {
          "base_uri": "https://localhost:8080/",
          "height": 235
        },
        "id": "pgw0CScY9Nf7",
        "outputId": "cbc5ea51-4760-4b35-80f7-c7b1d76361e1"
      },
      "source": [
        "decimales = 3\n",
        "GDP_2019['GDP per capita'] = GDP_2019['GDP per capita'].apply(lambda x: round(x, decimales))\n",
        "GDP_2019.head()"
      ],
      "execution_count": null,
      "outputs": [
        {
          "output_type": "execute_result",
          "data": {
            "text/html": [
              "<div>\n",
              "<style scoped>\n",
              "    .dataframe tbody tr th:only-of-type {\n",
              "        vertical-align: middle;\n",
              "    }\n",
              "\n",
              "    .dataframe tbody tr th {\n",
              "        vertical-align: top;\n",
              "    }\n",
              "\n",
              "    .dataframe thead th {\n",
              "        text-align: right;\n",
              "    }\n",
              "</style>\n",
              "<table border=\"1\" class=\"dataframe\">\n",
              "  <thead>\n",
              "    <tr style=\"text-align: right;\">\n",
              "      <th></th>\n",
              "      <th>Series Name</th>\n",
              "      <th>Series Code</th>\n",
              "      <th>Country Code</th>\n",
              "      <th>GDP per capita</th>\n",
              "    </tr>\n",
              "    <tr>\n",
              "      <th>Country Name</th>\n",
              "      <th></th>\n",
              "      <th></th>\n",
              "      <th></th>\n",
              "      <th></th>\n",
              "    </tr>\n",
              "  </thead>\n",
              "  <tbody>\n",
              "    <tr>\n",
              "      <th>Afghanistan</th>\n",
              "      <td>GDP per capita (current US$)</td>\n",
              "      <td>NY.GDP.PCAP.CD</td>\n",
              "      <td>AFG</td>\n",
              "      <td>507.103</td>\n",
              "    </tr>\n",
              "    <tr>\n",
              "      <th>Albania</th>\n",
              "      <td>GDP per capita (current US$)</td>\n",
              "      <td>NY.GDP.PCAP.CD</td>\n",
              "      <td>ALB</td>\n",
              "      <td>5353.245</td>\n",
              "    </tr>\n",
              "    <tr>\n",
              "      <th>Algeria</th>\n",
              "      <td>GDP per capita (current US$)</td>\n",
              "      <td>NY.GDP.PCAP.CD</td>\n",
              "      <td>DZA</td>\n",
              "      <td>3973.964</td>\n",
              "    </tr>\n",
              "    <tr>\n",
              "      <th>American Samoa</th>\n",
              "      <td>GDP per capita (current US$)</td>\n",
              "      <td>NY.GDP.PCAP.CD</td>\n",
              "      <td>ASM</td>\n",
              "      <td>NaN</td>\n",
              "    </tr>\n",
              "    <tr>\n",
              "      <th>Andorra</th>\n",
              "      <td>GDP per capita (current US$)</td>\n",
              "      <td>NY.GDP.PCAP.CD</td>\n",
              "      <td>AND</td>\n",
              "      <td>40886.391</td>\n",
              "    </tr>\n",
              "  </tbody>\n",
              "</table>\n",
              "</div>"
            ],
            "text/plain": [
              "                                 Series Name  ... GDP per capita\n",
              "Country Name                                  ...               \n",
              "Afghanistan     GDP per capita (current US$)  ...        507.103\n",
              "Albania         GDP per capita (current US$)  ...       5353.245\n",
              "Algeria         GDP per capita (current US$)  ...       3973.964\n",
              "American Samoa  GDP per capita (current US$)  ...            NaN\n",
              "Andorra         GDP per capita (current US$)  ...      40886.391\n",
              "\n",
              "[5 rows x 4 columns]"
            ]
          },
          "metadata": {
            "tags": []
          },
          "execution_count": 62
        }
      ]
    },
    {
      "cell_type": "markdown",
      "metadata": {
        "id": "djrsbMDDB9-D"
      },
      "source": [
        "**SE REQUIERE ELIMINAR LOS DATOS DESAPARECIDOS**"
      ]
    },
    {
      "cell_type": "code",
      "metadata": {
        "colab": {
          "base_uri": "https://localhost:8080/"
        },
        "id": "HUCiG_uv-NfJ",
        "outputId": "669ff914-0629-4c0a-f473-11020e456ce8"
      },
      "source": [
        "GDP_2019.dropna(inplace=True)\n",
        "GDP_2019.isna().sum()"
      ],
      "execution_count": null,
      "outputs": [
        {
          "output_type": "execute_result",
          "data": {
            "text/plain": [
              "Series Name       0\n",
              "Series Code       0\n",
              "Country Code      0\n",
              "GDP per capita    0\n",
              "dtype: int64"
            ]
          },
          "metadata": {
            "tags": []
          },
          "execution_count": 63
        }
      ]
    },
    {
      "cell_type": "markdown",
      "metadata": {
        "id": "KQ69UHWeCDih"
      },
      "source": [
        "**SE REQUIEREN LAS PRIMERAS 5 FILAS**"
      ]
    },
    {
      "cell_type": "code",
      "metadata": {
        "colab": {
          "base_uri": "https://localhost:8080/",
          "height": 235
        },
        "id": "ZF4dKADy_Qn3",
        "outputId": "89bef0e1-b452-4373-c7b3-1ab54072d3e4"
      },
      "source": [
        "GDP_2019.head()"
      ],
      "execution_count": null,
      "outputs": [
        {
          "output_type": "execute_result",
          "data": {
            "text/html": [
              "<div>\n",
              "<style scoped>\n",
              "    .dataframe tbody tr th:only-of-type {\n",
              "        vertical-align: middle;\n",
              "    }\n",
              "\n",
              "    .dataframe tbody tr th {\n",
              "        vertical-align: top;\n",
              "    }\n",
              "\n",
              "    .dataframe thead th {\n",
              "        text-align: right;\n",
              "    }\n",
              "</style>\n",
              "<table border=\"1\" class=\"dataframe\">\n",
              "  <thead>\n",
              "    <tr style=\"text-align: right;\">\n",
              "      <th></th>\n",
              "      <th>Series Name</th>\n",
              "      <th>Series Code</th>\n",
              "      <th>Country Code</th>\n",
              "      <th>GDP per capita</th>\n",
              "    </tr>\n",
              "    <tr>\n",
              "      <th>Country Name</th>\n",
              "      <th></th>\n",
              "      <th></th>\n",
              "      <th></th>\n",
              "      <th></th>\n",
              "    </tr>\n",
              "  </thead>\n",
              "  <tbody>\n",
              "    <tr>\n",
              "      <th>Afghanistan</th>\n",
              "      <td>GDP per capita (current US$)</td>\n",
              "      <td>NY.GDP.PCAP.CD</td>\n",
              "      <td>AFG</td>\n",
              "      <td>507.103</td>\n",
              "    </tr>\n",
              "    <tr>\n",
              "      <th>Albania</th>\n",
              "      <td>GDP per capita (current US$)</td>\n",
              "      <td>NY.GDP.PCAP.CD</td>\n",
              "      <td>ALB</td>\n",
              "      <td>5353.245</td>\n",
              "    </tr>\n",
              "    <tr>\n",
              "      <th>Algeria</th>\n",
              "      <td>GDP per capita (current US$)</td>\n",
              "      <td>NY.GDP.PCAP.CD</td>\n",
              "      <td>DZA</td>\n",
              "      <td>3973.964</td>\n",
              "    </tr>\n",
              "    <tr>\n",
              "      <th>Andorra</th>\n",
              "      <td>GDP per capita (current US$)</td>\n",
              "      <td>NY.GDP.PCAP.CD</td>\n",
              "      <td>AND</td>\n",
              "      <td>40886.391</td>\n",
              "    </tr>\n",
              "    <tr>\n",
              "      <th>Angola</th>\n",
              "      <td>GDP per capita (current US$)</td>\n",
              "      <td>NY.GDP.PCAP.CD</td>\n",
              "      <td>AGO</td>\n",
              "      <td>2790.727</td>\n",
              "    </tr>\n",
              "  </tbody>\n",
              "</table>\n",
              "</div>"
            ],
            "text/plain": [
              "                               Series Name  ... GDP per capita\n",
              "Country Name                                ...               \n",
              "Afghanistan   GDP per capita (current US$)  ...        507.103\n",
              "Albania       GDP per capita (current US$)  ...       5353.245\n",
              "Algeria       GDP per capita (current US$)  ...       3973.964\n",
              "Andorra       GDP per capita (current US$)  ...      40886.391\n",
              "Angola        GDP per capita (current US$)  ...       2790.727\n",
              "\n",
              "[5 rows x 4 columns]"
            ]
          },
          "metadata": {
            "tags": []
          },
          "execution_count": 64
        }
      ]
    },
    {
      "cell_type": "markdown",
      "metadata": {
        "id": "KsvAvybICMxl"
      },
      "source": [
        "**SE REQUIERE FUSIONARL DATASET OCDE CON EL DATASET GDP CONSERVANDO SUS INDICES ORDENANDOLOS DE MAYOR A MENOR POR GDP**"
      ]
    },
    {
      "cell_type": "code",
      "metadata": {
        "colab": {
          "base_uri": "https://localhost:8080/",
          "height": 666
        },
        "id": "i8ZbgV_E_inQ",
        "outputId": "ccea7aeb-7e0b-48e1-c46a-422058c89171"
      },
      "source": [
        "full_dataset = pd.merge(left=OCDE_2019, right=GDP_2019, left_index=True, right_index=True)\n",
        "full_dataset.sort_values('GDP per capita', ascending=False, inplace=True)\n",
        "full_dataset.head()"
      ],
      "execution_count": null,
      "outputs": [
        {
          "output_type": "execute_result",
          "data": {
            "text/html": [
              "<div>\n",
              "<style scoped>\n",
              "    .dataframe tbody tr th:only-of-type {\n",
              "        vertical-align: middle;\n",
              "    }\n",
              "\n",
              "    .dataframe tbody tr th {\n",
              "        vertical-align: top;\n",
              "    }\n",
              "\n",
              "    .dataframe thead th {\n",
              "        text-align: right;\n",
              "    }\n",
              "</style>\n",
              "<table border=\"1\" class=\"dataframe\">\n",
              "  <thead>\n",
              "    <tr style=\"text-align: right;\">\n",
              "      <th></th>\n",
              "      <th>Air pollution</th>\n",
              "      <th>Dwellings without basic facilities</th>\n",
              "      <th>Educational attainment</th>\n",
              "      <th>Employees working very long hours</th>\n",
              "      <th>Employment rate</th>\n",
              "      <th>Feeling safe walking alone at night</th>\n",
              "      <th>Homicide rate</th>\n",
              "      <th>Household net adjusted disposable income</th>\n",
              "      <th>Household net wealth</th>\n",
              "      <th>Housing expenditure</th>\n",
              "      <th>Labour market insecurity</th>\n",
              "      <th>Life expectancy</th>\n",
              "      <th>Life satisfaction</th>\n",
              "      <th>Long-term unemployment rate</th>\n",
              "      <th>Personal earnings</th>\n",
              "      <th>Quality of support network</th>\n",
              "      <th>Rooms per person</th>\n",
              "      <th>Self-reported health</th>\n",
              "      <th>Stakeholder engagement for developing regulations</th>\n",
              "      <th>Student skills</th>\n",
              "      <th>Time devoted to leisure and personal care</th>\n",
              "      <th>Voter turnout</th>\n",
              "      <th>Water quality</th>\n",
              "      <th>Years in education</th>\n",
              "      <th>Series Name</th>\n",
              "      <th>Series Code</th>\n",
              "      <th>Country Code</th>\n",
              "      <th>GDP per capita</th>\n",
              "    </tr>\n",
              "  </thead>\n",
              "  <tbody>\n",
              "    <tr>\n",
              "      <th>Luxembourg</th>\n",
              "      <td>12.0</td>\n",
              "      <td>0.5</td>\n",
              "      <td>77.0</td>\n",
              "      <td>3.82</td>\n",
              "      <td>66.0</td>\n",
              "      <td>75.8</td>\n",
              "      <td>0.6</td>\n",
              "      <td>39264.0</td>\n",
              "      <td>769053.0</td>\n",
              "      <td>21.0</td>\n",
              "      <td>1.7</td>\n",
              "      <td>82.8</td>\n",
              "      <td>6.9</td>\n",
              "      <td>2.35</td>\n",
              "      <td>63062.0</td>\n",
              "      <td>93.0</td>\n",
              "      <td>1.9</td>\n",
              "      <td>69.0</td>\n",
              "      <td>1.7</td>\n",
              "      <td>483.0</td>\n",
              "      <td>NaN</td>\n",
              "      <td>91.0</td>\n",
              "      <td>84.0</td>\n",
              "      <td>15.1</td>\n",
              "      <td>GDP per capita (current US$)</td>\n",
              "      <td>NY.GDP.PCAP.CD</td>\n",
              "      <td>LUX</td>\n",
              "      <td>114704.594</td>\n",
              "    </tr>\n",
              "    <tr>\n",
              "      <th>Switzerland</th>\n",
              "      <td>15.0</td>\n",
              "      <td>0.1</td>\n",
              "      <td>88.0</td>\n",
              "      <td>0.37</td>\n",
              "      <td>80.0</td>\n",
              "      <td>85.3</td>\n",
              "      <td>0.6</td>\n",
              "      <td>37466.0</td>\n",
              "      <td>NaN</td>\n",
              "      <td>22.0</td>\n",
              "      <td>NaN</td>\n",
              "      <td>83.7</td>\n",
              "      <td>7.5</td>\n",
              "      <td>1.82</td>\n",
              "      <td>62283.0</td>\n",
              "      <td>93.0</td>\n",
              "      <td>1.9</td>\n",
              "      <td>78.0</td>\n",
              "      <td>2.3</td>\n",
              "      <td>506.0</td>\n",
              "      <td>NaN</td>\n",
              "      <td>49.0</td>\n",
              "      <td>95.0</td>\n",
              "      <td>17.5</td>\n",
              "      <td>GDP per capita (current US$)</td>\n",
              "      <td>NY.GDP.PCAP.CD</td>\n",
              "      <td>CHE</td>\n",
              "      <td>81993.727</td>\n",
              "    </tr>\n",
              "    <tr>\n",
              "      <th>Ireland</th>\n",
              "      <td>7.0</td>\n",
              "      <td>1.0</td>\n",
              "      <td>82.0</td>\n",
              "      <td>5.25</td>\n",
              "      <td>67.0</td>\n",
              "      <td>75.9</td>\n",
              "      <td>0.7</td>\n",
              "      <td>25310.0</td>\n",
              "      <td>217130.0</td>\n",
              "      <td>20.0</td>\n",
              "      <td>7.8</td>\n",
              "      <td>81.8</td>\n",
              "      <td>7.0</td>\n",
              "      <td>3.23</td>\n",
              "      <td>47653.0</td>\n",
              "      <td>95.0</td>\n",
              "      <td>2.1</td>\n",
              "      <td>83.0</td>\n",
              "      <td>1.3</td>\n",
              "      <td>509.0</td>\n",
              "      <td>NaN</td>\n",
              "      <td>65.0</td>\n",
              "      <td>85.0</td>\n",
              "      <td>18.1</td>\n",
              "      <td>GDP per capita (current US$)</td>\n",
              "      <td>NY.GDP.PCAP.CD</td>\n",
              "      <td>IRL</td>\n",
              "      <td>78660.956</td>\n",
              "    </tr>\n",
              "    <tr>\n",
              "      <th>Norway</th>\n",
              "      <td>5.0</td>\n",
              "      <td>0.0</td>\n",
              "      <td>82.0</td>\n",
              "      <td>2.93</td>\n",
              "      <td>74.0</td>\n",
              "      <td>90.1</td>\n",
              "      <td>0.4</td>\n",
              "      <td>35725.0</td>\n",
              "      <td>228936.0</td>\n",
              "      <td>17.0</td>\n",
              "      <td>NaN</td>\n",
              "      <td>82.5</td>\n",
              "      <td>7.6</td>\n",
              "      <td>0.66</td>\n",
              "      <td>51212.0</td>\n",
              "      <td>94.0</td>\n",
              "      <td>2.1</td>\n",
              "      <td>77.0</td>\n",
              "      <td>2.2</td>\n",
              "      <td>504.0</td>\n",
              "      <td>15.56</td>\n",
              "      <td>78.0</td>\n",
              "      <td>98.0</td>\n",
              "      <td>18.3</td>\n",
              "      <td>GDP per capita (current US$)</td>\n",
              "      <td>NY.GDP.PCAP.CD</td>\n",
              "      <td>NOR</td>\n",
              "      <td>75419.635</td>\n",
              "    </tr>\n",
              "    <tr>\n",
              "      <th>Iceland</th>\n",
              "      <td>3.0</td>\n",
              "      <td>0.0</td>\n",
              "      <td>77.0</td>\n",
              "      <td>15.06</td>\n",
              "      <td>86.0</td>\n",
              "      <td>86.0</td>\n",
              "      <td>0.5</td>\n",
              "      <td>NaN</td>\n",
              "      <td>NaN</td>\n",
              "      <td>24.0</td>\n",
              "      <td>0.7</td>\n",
              "      <td>82.3</td>\n",
              "      <td>7.5</td>\n",
              "      <td>0.26</td>\n",
              "      <td>61787.0</td>\n",
              "      <td>98.0</td>\n",
              "      <td>1.6</td>\n",
              "      <td>76.0</td>\n",
              "      <td>2.1</td>\n",
              "      <td>481.0</td>\n",
              "      <td>NaN</td>\n",
              "      <td>79.0</td>\n",
              "      <td>99.0</td>\n",
              "      <td>19.0</td>\n",
              "      <td>GDP per capita (current US$)</td>\n",
              "      <td>NY.GDP.PCAP.CD</td>\n",
              "      <td>ISL</td>\n",
              "      <td>66944.833</td>\n",
              "    </tr>\n",
              "  </tbody>\n",
              "</table>\n",
              "</div>"
            ],
            "text/plain": [
              "             Air pollution  ...  GDP per capita\n",
              "Luxembourg            12.0  ...      114704.594\n",
              "Switzerland           15.0  ...       81993.727\n",
              "Ireland                7.0  ...       78660.956\n",
              "Norway                 5.0  ...       75419.635\n",
              "Iceland                3.0  ...       66944.833\n",
              "\n",
              "[5 rows x 28 columns]"
            ]
          },
          "metadata": {
            "tags": []
          },
          "execution_count": 65
        }
      ]
    },
    {
      "cell_type": "markdown",
      "metadata": {
        "id": "JMYhuAxFCXcR"
      },
      "source": [
        "**SE REQUIEREN LOS NOMBRES DE LAS COLUMNAS**"
      ]
    },
    {
      "cell_type": "code",
      "metadata": {
        "colab": {
          "base_uri": "https://localhost:8080/"
        },
        "id": "e9G9-f-wAw4T",
        "outputId": "d5cc2f0a-e981-4a4f-8e2c-6c3d9ff7dd1d"
      },
      "source": [
        "full_dataset.columns"
      ],
      "execution_count": null,
      "outputs": [
        {
          "output_type": "execute_result",
          "data": {
            "text/plain": [
              "Index(['Air pollution', 'Dwellings without basic facilities',\n",
              "       'Educational attainment', 'Employees working very long hours',\n",
              "       'Employment rate', 'Feeling safe walking alone at night',\n",
              "       'Homicide rate', 'Household net adjusted disposable income',\n",
              "       'Household net wealth', 'Housing expenditure',\n",
              "       'Labour market insecurity', 'Life expectancy', 'Life satisfaction',\n",
              "       'Long-term unemployment rate', 'Personal earnings',\n",
              "       'Quality of support network', 'Rooms per person',\n",
              "       'Self-reported health',\n",
              "       'Stakeholder engagement for developing regulations', 'Student skills',\n",
              "       'Time devoted to leisure and personal care', 'Voter turnout',\n",
              "       'Water quality', 'Years in education', 'Series Name', 'Series Code',\n",
              "       'Country Code', 'GDP per capita'],\n",
              "      dtype='object')"
            ]
          },
          "metadata": {
            "tags": []
          },
          "execution_count": 66
        }
      ]
    },
    {
      "cell_type": "code",
      "metadata": {
        "colab": {
          "base_uri": "https://localhost:8080/",
          "height": 204
        },
        "id": "tezyysFiBIWp",
        "outputId": "4d0fbc21-2b6a-4da4-be9c-a12f44ecafb1"
      },
      "source": [
        "full_dataset = full_dataset[['GDP per capita', 'Life satisfaction']]\n",
        "full_dataset.head()"
      ],
      "execution_count": null,
      "outputs": [
        {
          "output_type": "execute_result",
          "data": {
            "text/html": [
              "<div>\n",
              "<style scoped>\n",
              "    .dataframe tbody tr th:only-of-type {\n",
              "        vertical-align: middle;\n",
              "    }\n",
              "\n",
              "    .dataframe tbody tr th {\n",
              "        vertical-align: top;\n",
              "    }\n",
              "\n",
              "    .dataframe thead th {\n",
              "        text-align: right;\n",
              "    }\n",
              "</style>\n",
              "<table border=\"1\" class=\"dataframe\">\n",
              "  <thead>\n",
              "    <tr style=\"text-align: right;\">\n",
              "      <th></th>\n",
              "      <th>GDP per capita</th>\n",
              "      <th>Life satisfaction</th>\n",
              "    </tr>\n",
              "  </thead>\n",
              "  <tbody>\n",
              "    <tr>\n",
              "      <th>Luxembourg</th>\n",
              "      <td>114704.594</td>\n",
              "      <td>6.9</td>\n",
              "    </tr>\n",
              "    <tr>\n",
              "      <th>Switzerland</th>\n",
              "      <td>81993.727</td>\n",
              "      <td>7.5</td>\n",
              "    </tr>\n",
              "    <tr>\n",
              "      <th>Ireland</th>\n",
              "      <td>78660.956</td>\n",
              "      <td>7.0</td>\n",
              "    </tr>\n",
              "    <tr>\n",
              "      <th>Norway</th>\n",
              "      <td>75419.635</td>\n",
              "      <td>7.6</td>\n",
              "    </tr>\n",
              "    <tr>\n",
              "      <th>Iceland</th>\n",
              "      <td>66944.833</td>\n",
              "      <td>7.5</td>\n",
              "    </tr>\n",
              "  </tbody>\n",
              "</table>\n",
              "</div>"
            ],
            "text/plain": [
              "             GDP per capita  Life satisfaction\n",
              "Luxembourg       114704.594                6.9\n",
              "Switzerland       81993.727                7.5\n",
              "Ireland           78660.956                7.0\n",
              "Norway            75419.635                7.6\n",
              "Iceland           66944.833                7.5"
            ]
          },
          "metadata": {
            "tags": []
          },
          "execution_count": 67
        }
      ]
    },
    {
      "cell_type": "markdown",
      "metadata": {
        "id": "ddotQ4QR-kOA"
      },
      "source": [
        "**SE MUESTRAN LOS DATOS ESTADISTICOS DEL DATAFRAME**"
      ]
    },
    {
      "cell_type": "code",
      "metadata": {
        "colab": {
          "base_uri": "https://localhost:8080/",
          "height": 111
        },
        "id": "ZIAZJQ35BjKw",
        "outputId": "218a86e3-bd8f-4d27-f5fd-0a9d453c9b9f"
      },
      "source": [
        "full_dataset.describe().T"
      ],
      "execution_count": null,
      "outputs": [
        {
          "output_type": "execute_result",
          "data": {
            "text/html": [
              "<div>\n",
              "<style scoped>\n",
              "    .dataframe tbody tr th:only-of-type {\n",
              "        vertical-align: middle;\n",
              "    }\n",
              "\n",
              "    .dataframe tbody tr th {\n",
              "        vertical-align: top;\n",
              "    }\n",
              "\n",
              "    .dataframe thead th {\n",
              "        text-align: right;\n",
              "    }\n",
              "</style>\n",
              "<table border=\"1\" class=\"dataframe\">\n",
              "  <thead>\n",
              "    <tr style=\"text-align: right;\">\n",
              "      <th></th>\n",
              "      <th>count</th>\n",
              "      <th>mean</th>\n",
              "      <th>std</th>\n",
              "      <th>min</th>\n",
              "      <th>25%</th>\n",
              "      <th>50%</th>\n",
              "      <th>75%</th>\n",
              "      <th>max</th>\n",
              "    </tr>\n",
              "  </thead>\n",
              "  <tbody>\n",
              "    <tr>\n",
              "      <th>GDP per capita</th>\n",
              "      <td>38.0</td>\n",
              "      <td>38736.624184</td>\n",
              "      <td>24631.143644</td>\n",
              "      <td>6001.401</td>\n",
              "      <td>19345.34025</td>\n",
              "      <td>40370.4045</td>\n",
              "      <td>51245.6815</td>\n",
              "      <td>114704.594</td>\n",
              "    </tr>\n",
              "    <tr>\n",
              "      <th>Life satisfaction</th>\n",
              "      <td>38.0</td>\n",
              "      <td>6.571053</td>\n",
              "      <td>0.754771</td>\n",
              "      <td>4.700</td>\n",
              "      <td>5.92500</td>\n",
              "      <td>6.6000</td>\n",
              "      <td>7.2750</td>\n",
              "      <td>7.600</td>\n",
              "    </tr>\n",
              "  </tbody>\n",
              "</table>\n",
              "</div>"
            ],
            "text/plain": [
              "                   count          mean  ...         75%         max\n",
              "GDP per capita      38.0  38736.624184  ...  51245.6815  114704.594\n",
              "Life satisfaction   38.0      6.571053  ...      7.2750       7.600\n",
              "\n",
              "[2 rows x 8 columns]"
            ]
          },
          "metadata": {
            "tags": []
          },
          "execution_count": 68
        }
      ]
    },
    {
      "cell_type": "markdown",
      "metadata": {
        "id": "sw3rbayZ-YR5"
      },
      "source": [
        "**SE REQUIERE PREPARAR Y VISUALIZAR LOS DATOS DE 'GDP PER CAPITA' VS 'LIFE SATISFACTION'**"
      ]
    },
    {
      "cell_type": "code",
      "metadata": {
        "colab": {
          "base_uri": "https://localhost:8080/",
          "height": 279
        },
        "id": "LmMFcElhBoeb",
        "outputId": "5bb91c16-ca70-4623-aea2-96b3ec166c15"
      },
      "source": [
        "X = np.c_[full_dataset['GDP per capita']]\n",
        "y = np.c_[full_dataset['Life satisfaction']]\n",
        "\n",
        "full_dataset.plot(kind='scatter', x='GDP per capita', y = 'Life satisfaction')\n",
        "plt.show()"
      ],
      "execution_count": null,
      "outputs": [
        {
          "output_type": "display_data",
          "data": {
            "image/png": "[encoded data removed]",
            "text/plain": [
              "<Figure size 432x288 with 1 Axes>"
            ]
          },
          "metadata": {
            "tags": [],
            "needs_background": "light"
          }
        }
      ]
    },
    {
      "cell_type": "markdown",
      "metadata": {
        "id": "RSRPqu6r-SiJ"
      },
      "source": [
        "**SE REQUIERE SABER CUAL ES LA SATISFACCION DE VIDA EN COLOMBIA**"
      ]
    },
    {
      "cell_type": "code",
      "metadata": {
        "colab": {
          "base_uri": "https://localhost:8080/"
        },
        "id": "hIh_ZUUGC9cX",
        "outputId": "60896901-dec5-4c81-d860-ee9dc5c165e7"
      },
      "source": [
        "full_dataset[['GDP per capita', 'Life satisfaction']].loc['Colombia']"
      ],
      "execution_count": null,
      "outputs": [
        {
          "output_type": "execute_result",
          "data": {
            "text/plain": [
              "GDP per capita       6428.676\n",
              "Life satisfaction       6.300\n",
              "Name: Colombia, dtype: float64"
            ]
          },
          "metadata": {
            "tags": []
          },
          "execution_count": 70
        }
      ]
    },
    {
      "cell_type": "markdown",
      "metadata": {
        "id": "HfnVuyEB-NGu"
      },
      "source": [
        "**SE REQUIERE SABER CUAL ES LA SATISFACCION DE VIDA EN FRANCIA**"
      ]
    },
    {
      "cell_type": "code",
      "metadata": {
        "colab": {
          "base_uri": "https://localhost:8080/"
        },
        "id": "GFazXh1SD9lQ",
        "outputId": "02a01ea0-a3a2-46aa-e164-4b43a7988fdb"
      },
      "source": [
        "full_dataset[['GDP per capita', 'Life satisfaction']].loc['France']"
      ],
      "execution_count": null,
      "outputs": [
        {
          "output_type": "execute_result",
          "data": {
            "text/plain": [
              "GDP per capita       40493.929\n",
              "Life satisfaction        6.500\n",
              "Name: France, dtype: float64"
            ]
          },
          "metadata": {
            "tags": []
          },
          "execution_count": 71
        }
      ]
    },
    {
      "cell_type": "markdown",
      "metadata": {
        "id": "6JMoKxrO-AKU"
      },
      "source": [
        "**SE REQUIERE GRAFICAR LOS DATOS DE GDP PER CAPITA EN RELACION A LIFE SATISFACTION**"
      ]
    },
    {
      "cell_type": "code",
      "metadata": {
        "colab": {
          "base_uri": "https://localhost:8080/",
          "height": 404
        },
        "id": "oRIMUbyVEE-h",
        "outputId": "ac80f89c-e372-40ff-b782-c1dbe2aa20bc"
      },
      "source": [
        "full_dataset.plot(kind='scatter', x='GDP per capita', y = 'Life satisfaction', figsize=(10,6))\n",
        "plt.title('GDP per capita vs Life Satisfaction')\n",
        "plt.show()"
      ],
      "execution_count": null,
      "outputs": [
        {
          "output_type": "display_data",
          "data": {
            "image/png": "[encoded data removed]",
            "text/plain": [
              "<Figure size 720x432 with 1 Axes>"
            ]
          },
          "metadata": {
            "tags": [],
            "needs_background": "light"
          }
        }
      ]
    },
    {
      "cell_type": "markdown",
      "metadata": {
        "id": "eHgV48LZ98gE"
      },
      "source": [
        "**SE REQUIERE MOSTRAR LOS DATOS DE LOS PAISES (LUXEMBURGO,COLOMBIA,FRANCE,HUNGARY,NORWAY)**"
      ]
    },
    {
      "cell_type": "code",
      "metadata": {
        "colab": {
          "base_uri": "https://localhost:8080/",
          "height": 404
        },
        "id": "TR56Se_xEdng",
        "outputId": "bcfbaf95-feef-40c1-981f-b6807cc5f79f"
      },
      "source": [
        "full_dataset.plot(kind='scatter', x='GDP per capita', y = 'Life satisfaction', figsize=(10,6))\n",
        "texto_paises = {'Luxembourg': (105000, 6.3), \n",
        "                'Colombia':   (7000, 5.8),\n",
        "                'France':     (45000, 6.0),\n",
        "                'Hungary':    (19000, 5.0),\n",
        "                'Norway':     (80000, 7.0)}\n",
        "\n",
        "for country, pos_text in texto_paises.items():\n",
        "  pos_x, pos_y = full_dataset.loc[country]\n",
        "  plt.annotate(country, xy=(pos_x, pos_y), xytext=pos_text, \n",
        "               arrowprops=dict(facecolor='black', width=0.8, headwidth=5, shrink=0.1))\n",
        "  plt.plot(pos_x, pos_y, 'ro') \n",
        "\n",
        "plt.title('GDP per capita vs Life Satisfaction')\n",
        "plt.show()"
      ],
      "execution_count": null,
      "outputs": [
        {
          "output_type": "display_data",
          "data": {
            "image/png": "[encoded data removed]",
            "text/plain": [
              "<Figure size 720x432 with 1 Axes>"
            ]
          },
          "metadata": {
            "tags": [],
            "needs_background": "light"
          }
        }
      ]
    },
    {
      "cell_type": "markdown",
      "metadata": {
        "id": "wUPw2Sb89mOA"
      },
      "source": [
        "**SE REQUIERE OBTENER INFORMACION DE LOS PAISES PRESENTES EN EL GRAFICO**"
      ]
    },
    {
      "cell_type": "code",
      "metadata": {
        "id": "5EMc3Gr7IwlF",
        "colab": {
          "base_uri": "https://localhost:8080/",
          "height": 204
        },
        "outputId": "1f3a95e0-9b65-4fff-c51f-2c4e0bd93442"
      },
      "source": [
        "full_dataset.loc[list(texto_paises.keys())]"
      ],
      "execution_count": null,
      "outputs": [
        {
          "output_type": "execute_result",
          "data": {
            "text/html": [
              "<div>\n",
              "<style scoped>\n",
              "    .dataframe tbody tr th:only-of-type {\n",
              "        vertical-align: middle;\n",
              "    }\n",
              "\n",
              "    .dataframe tbody tr th {\n",
              "        vertical-align: top;\n",
              "    }\n",
              "\n",
              "    .dataframe thead th {\n",
              "        text-align: right;\n",
              "    }\n",
              "</style>\n",
              "<table border=\"1\" class=\"dataframe\">\n",
              "  <thead>\n",
              "    <tr style=\"text-align: right;\">\n",
              "      <th></th>\n",
              "      <th>GDP per capita</th>\n",
              "      <th>Life satisfaction</th>\n",
              "    </tr>\n",
              "  </thead>\n",
              "  <tbody>\n",
              "    <tr>\n",
              "      <th>Luxembourg</th>\n",
              "      <td>114704.594</td>\n",
              "      <td>6.9</td>\n",
              "    </tr>\n",
              "    <tr>\n",
              "      <th>Colombia</th>\n",
              "      <td>6428.676</td>\n",
              "      <td>6.3</td>\n",
              "    </tr>\n",
              "    <tr>\n",
              "      <th>France</th>\n",
              "      <td>40493.929</td>\n",
              "      <td>6.5</td>\n",
              "    </tr>\n",
              "    <tr>\n",
              "      <th>Hungary</th>\n",
              "      <td>16731.822</td>\n",
              "      <td>5.6</td>\n",
              "    </tr>\n",
              "    <tr>\n",
              "      <th>Norway</th>\n",
              "      <td>75419.635</td>\n",
              "      <td>7.6</td>\n",
              "    </tr>\n",
              "  </tbody>\n",
              "</table>\n",
              "</div>"
            ],
            "text/plain": [
              "            GDP per capita  Life satisfaction\n",
              "Luxembourg      114704.594                6.9\n",
              "Colombia          6428.676                6.3\n",
              "France           40493.929                6.5\n",
              "Hungary          16731.822                5.6\n",
              "Norway           75419.635                7.6"
            ]
          },
          "metadata": {
            "tags": []
          },
          "execution_count": 74
        }
      ]
    },
    {
      "cell_type": "markdown",
      "metadata": {
        "id": "WCJiKVwm9YdX"
      },
      "source": [
        "**TRAZAR LINEA RECTA\n",
        "Y=0.00005xX+0**"
      ]
    },
    {
      "cell_type": "code",
      "metadata": {
        "colab": {
          "base_uri": "https://localhost:8080/",
          "height": 404
        },
        "id": "fMjYEmpGzbal",
        "outputId": "9980346a-e503-4f90-bbab-c5b40b56c6f3"
      },
      "source": [
        "full_dataset.plot(kind='scatter', x='GDP per capita', y = 'Life satisfaction', figsize=(10,6))\n",
        "plt.title('GDP per capita vs Life Satisfaction')\n",
        "x = np.linspace(0, 120000)\n",
        "\n",
        "plt.plot(x, 0.00005*x+0, 'r')\n",
        "plt.text(60000, 2, '$y=0.00005x+0$', fontsize=14, color='r')\n",
        "plt.text(60000, 1.6, '$m=5*10^-5$', fontsize=14, color='r')\n",
        "plt.text(60000, 1.3, '$b=0$', fontsize=14, color='r')\n",
        "\n",
        "\n",
        "plt.show()"
      ],
      "execution_count": null,
      "outputs": [
        {
          "output_type": "display_data",
          "data": {
            "image/png": "[encoded data removed]",
            "text/plain": [
              "<Figure size 720x432 with 1 Axes>"
            ]
          },
          "metadata": {
            "tags": [],
            "needs_background": "light"
          }
        }
      ]
    },
    {
      "cell_type": "markdown",
      "metadata": {
        "id": "pqXfseS4D0RT"
      },
      "source": [
        "**NOTEBOOK CON 3 LINEAS RECTAS ADICIONALES**"
      ]
    },
    {
      "cell_type": "code",
      "metadata": {
        "colab": {
          "base_uri": "https://localhost:8080/",
          "height": 404
        },
        "id": "_JSFsJZfChhM",
        "outputId": "247976f6-9d45-4bbf-d924-2e811aafde71"
      },
      "source": [
        "full_dataset.plot(kind='scatter', x='GDP per capita', y = 'Life satisfaction', figsize=(10,6))\n",
        "plt.title('GDP per capita vs Life Satisfaction')\n",
        "x = np.linspace(0, 120000)\n",
        "\n",
        "plt.plot(x, 0.00002*x+6, 'r')\n",
        "\n",
        "\n",
        "plt.show()"
      ],
      "execution_count": null,
      "outputs": [
        {
          "output_type": "display_data",
          "data": {
            "image/png": "[encoded data removed]",
            "text/plain": [
              "<Figure size 720x432 with 1 Axes>"
            ]
          },
          "metadata": {
            "tags": [],
            "needs_background": "light"
          }
        }
      ]
    },
    {
      "cell_type": "code",
      "metadata": {
        "colab": {
          "base_uri": "https://localhost:8080/",
          "height": 404
        },
        "id": "WhMIVLujDlWj",
        "outputId": "a70c0732-6d3a-4711-a2c5-2270fc7869ca"
      },
      "source": [
        "full_dataset.plot(kind='scatter', x='GDP per capita', y = 'Life satisfaction', figsize=(10,6))\n",
        "plt.title('GDP per capita vs Life Satisfaction')\n",
        "x = np.linspace(0, 120000)\n",
        "\n",
        "plt.plot(x, 0.00003*x+5, 'r')\n",
        "\n",
        "\n",
        "plt.show()"
      ],
      "execution_count": null,
      "outputs": [
        {
          "output_type": "display_data",
          "data": {
            "image/png": "[encoded data removed]",
            "text/plain": [
              "<Figure size 720x432 with 1 Axes>"
            ]
          },
          "metadata": {
            "tags": [],
            "needs_background": "light"
          }
        }
      ]
    },
    {
      "cell_type": "code",
      "metadata": {
        "colab": {
          "base_uri": "https://localhost:8080/",
          "height": 404
        },
        "id": "TjhMVwA7Dl4h",
        "outputId": "b3c74393-2304-4ca7-c183-aaa2ffff57c1"
      },
      "source": [
        "full_dataset.plot(kind='scatter', x='GDP per capita', y = 'Life satisfaction', figsize=(10,6))\n",
        "plt.title('GDP per capita vs Life Satisfaction')\n",
        "x = np.linspace(0, 120000)\n",
        "\n",
        "plt.plot(x, 0.00005*x+4, 'r')\n",
        "\n",
        "\n",
        "plt.show()"
      ],
      "execution_count": null,
      "outputs": [
        {
          "output_type": "display_data",
          "data": {
            "image/png": "[encoded data removed]",
            "text/plain": [
              "<Figure size 720x432 with 1 Axes>"
            ]
          },
          "metadata": {
            "tags": [],
            "needs_background": "light"
          }
        }
      ]
    }
  ]
}