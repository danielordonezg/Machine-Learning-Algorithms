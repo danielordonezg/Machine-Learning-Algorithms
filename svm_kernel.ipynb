{
  "nbformat": 4,
  "nbformat_minor": 0,
  "metadata": {
    "colab": {
      "name": "svm_kernel_Mayo4.ipynb",
      "provenance": [],
      "collapsed_sections": []
    },
    "kernelspec": {
      "name": "python3",
      "display_name": "Python 3"
    },
    "language_info": {
      "name": "python"
    }
  },
  "cells": [
    {
      "cell_type": "code",
      "metadata": {
        "id": "4Cs4yYHWZGv7"
      },
      "source": [
        "import numpy as np\n",
        "import matplotlib.pyplot as plt"
      ],
      "execution_count": null,
      "outputs": []
    },
    {
      "cell_type": "markdown",
      "metadata": {
        "id": "JeZnpiFob0sm"
      },
      "source": [
        "# Máquinas con vectores de Soporte con Kernel Polinomial"
      ]
    },
    {
      "cell_type": "code",
      "metadata": {
        "id": "wk5qilyxZbEy"
      },
      "source": [
        "x = np.array([-4, -3, -2.2, -1, 0, 1,  2 , 3, 4])\n",
        "y = np.array([1, 1, 0, 0 , 0 ,0 , 0, 1, 1])"
      ],
      "execution_count": null,
      "outputs": []
    },
    {
      "cell_type": "code",
      "metadata": {
        "colab": {
          "base_uri": "https://localhost:8080/",
          "height": 265
        },
        "id": "xLZAa-qQZdCu",
        "outputId": "853ea025-96f0-4bcc-ac31-2b71a5c336cb"
      },
      "source": [
        "plt.scatter(x, np.zeros(len(x)), c=y)\n",
        "plt.show()"
      ],
      "execution_count": null,
      "outputs": [
        {
          "output_type": "display_data",
          "data": {
            "image/png": "[encoded data removed]",
            "text/plain": [
              "<Figure size 432x288 with 1 Axes>"
            ]
          },
          "metadata": {
            "tags": [],
            "needs_background": "light"
          }
        }
      ]
    },
    {
      "cell_type": "markdown",
      "metadata": {
        "id": "ItjbRPSQZxJC"
      },
      "source": [
        "1- Crear una nueva variable $x_2$ para el dataset  tal que $x_2 = x_1^2$, donde $x_1$ es la variable original.\n",
        "El nuevo dataset tendrá un vector de características de dos dimensiones $(x_1, x_2)$"
      ]
    },
    {
      "cell_type": "code",
      "metadata": {
        "colab": {
          "base_uri": "https://localhost:8080/"
        },
        "id": "I3PIQKsJ7O3A",
        "outputId": "2054561c-d08e-46f0-a1e9-8e31d0d74e1a"
      },
      "source": [
        "x_new = np.array([x, x**2])\n",
        "x_new"
      ],
      "execution_count": null,
      "outputs": [
        {
          "output_type": "execute_result",
          "data": {
            "text/plain": [
              "array([[-4.  , -3.  , -2.2 , -1.  ,  0.  ,  1.  ,  2.  ,  3.  ,  4.  ],\n",
              "       [16.  ,  9.  ,  4.84,  1.  ,  0.  ,  1.  ,  4.  ,  9.  , 16.  ]])"
            ]
          },
          "metadata": {
            "tags": []
          },
          "execution_count": 4
        }
      ]
    },
    {
      "cell_type": "markdown",
      "metadata": {
        "id": "S_AOU4jTaym7"
      },
      "source": [
        "2- Graficar el nuevo dataset"
      ]
    },
    {
      "cell_type": "code",
      "metadata": {
        "colab": {
          "base_uri": "https://localhost:8080/",
          "height": 265
        },
        "id": "d4Vcip1D-Rd5",
        "outputId": "1a79cb78-75b7-40c2-cbda-172dc05d8900"
      },
      "source": [
        "plt.scatter(x_new[0], x_new[1], c=y)\n",
        "plt.show()"
      ],
      "execution_count": null,
      "outputs": [
        {
          "output_type": "display_data",
          "data": {
            "image/png": "[encoded data removed]",
            "text/plain": [
              "<Figure size 432x288 with 1 Axes>"
            ]
          },
          "metadata": {
            "tags": [],
            "needs_background": "light"
          }
        }
      ]
    },
    {
      "cell_type": "markdown",
      "metadata": {
        "id": "uJw2rNWmbECj"
      },
      "source": [
        "3- El nuevo dataset es ahora linealmente separable. Encuentre manualmente una línea que maximice el margen utilizando vectores de soporte"
      ]
    },
    {
      "cell_type": "code",
      "metadata": {
        "colab": {
          "base_uri": "https://localhost:8080/",
          "height": 265
        },
        "id": "iZpSWcm7-kD5",
        "outputId": "bdfefd3a-4897-4226-f336-1c88dfd06f04"
      },
      "source": [
        "x_ = np.arange(-5, 5, 0.1)\n",
        "plt.scatter(x_new[0], x_new[1], c=y)\n",
        "# Linea Separable\n",
        "plt.plot(x_, -0.15*x_+6.5, 'r')\n",
        "# Vectores de soporte\n",
        "plt.plot(x_, -0.15*x_+8.5, 'r--')\n",
        "plt.plot(x_, -0.15*x_+4.5, 'r--')\n",
        "\n",
        "plt.show()"
      ],
      "execution_count": null,
      "outputs": [
        {
          "output_type": "display_data",
          "data": {
            "image/png": "[encoded data removed]",
            "text/plain": [
              "<Figure size 432x288 with 1 Axes>"
            ]
          },
          "metadata": {
            "tags": [],
            "needs_background": "light"
          }
        }
      ]
    },
    {
      "cell_type": "markdown",
      "metadata": {
        "id": "hmpaMfx8bOO4"
      },
      "source": [
        "5- Entrene un SVC con kernel polinomial de grado 2 sin regularización para el dataset original(el de una sola dimensión). ¿Cuáles son los vectores se soporte encontrador? ¿Coinciden con los encontrados manualmente en el punto 4?\n",
        "\n",
        "https://scikit-learn.org/stable/modules/generated/sklearn.svm.SVC.html"
      ]
    },
    {
      "cell_type": "code",
      "metadata": {
        "id": "gQxBRKDhbClW"
      },
      "source": [
        "from sklearn.svm import SVC"
      ],
      "execution_count": null,
      "outputs": []
    },
    {
      "cell_type": "code",
      "metadata": {
        "colab": {
          "base_uri": "https://localhost:8080/"
        },
        "id": "gkGCSC1WAAxt",
        "outputId": "9e8121dc-c5de-4775-9df9-b669dde03865"
      },
      "source": [
        "svc = SVC(kernel='poly', degree=2, C=100000)\n",
        "svc.fit(x.reshape(-1,1), y)"
      ],
      "execution_count": null,
      "outputs": [
        {
          "output_type": "execute_result",
          "data": {
            "text/plain": [
              "SVC(C=100000, break_ties=False, cache_size=200, class_weight=None, coef0=0.0,\n",
              "    decision_function_shape='ovr', degree=2, gamma='scale', kernel='poly',\n",
              "    max_iter=-1, probability=False, random_state=None, shrinking=True,\n",
              "    tol=0.001, verbose=False)"
            ]
          },
          "metadata": {
            "tags": []
          },
          "execution_count": 8
        }
      ]
    },
    {
      "cell_type": "code",
      "metadata": {
        "colab": {
          "base_uri": "https://localhost:8080/"
        },
        "id": "u2vYLUKlAL0x",
        "outputId": "874d9642-9d7b-498c-c107-f9df731f1074"
      },
      "source": [
        "svc.support_vectors_"
      ],
      "execution_count": null,
      "outputs": [
        {
          "output_type": "execute_result",
          "data": {
            "text/plain": [
              "array([[-2.2],\n",
              "       [ 3. ]])"
            ]
          },
          "metadata": {
            "tags": []
          },
          "execution_count": 9
        }
      ]
    },
    {
      "cell_type": "markdown",
      "metadata": {
        "id": "RyNU5qoeEZuV"
      },
      "source": [
        "Los vectores de soporte encontrados manualmente son cercanos a los que se encuentran al usar sklearn.svm.SVC"
      ]
    },
    {
      "cell_type": "markdown",
      "metadata": {
        "id": "tbkcVMaZcexg"
      },
      "source": [
        "# Máquinas con vectores de soporte con Kernel de funciones de base radial"
      ]
    },
    {
      "cell_type": "code",
      "metadata": {
        "id": "aU6mqPWTiyL7"
      },
      "source": [
        "x = np.array([-4, -3, -2.2, -1, 0, 1,  2 , 3, 4])\n",
        "y = np.array([1, 1, 0, 0 , 0 ,0 , 0, 1, 1])\n"
      ],
      "execution_count": null,
      "outputs": []
    },
    {
      "cell_type": "code",
      "metadata": {
        "colab": {
          "base_uri": "https://localhost:8080/",
          "height": 265
        },
        "id": "j8MmyWcXi0dg",
        "outputId": "1ad408b8-7380-4200-e044-52de9af62d98"
      },
      "source": [
        "plt.scatter(x, np.zeros(len(x)), c=y)\n",
        "plt.show()"
      ],
      "execution_count": null,
      "outputs": [
        {
          "output_type": "display_data",
          "data": {
            "image/png": "[encoded data removed]",
            "text/plain": [
              "<Figure size 432x288 with 1 Axes>"
            ]
          },
          "metadata": {
            "tags": [],
            "needs_background": "light"
          }
        }
      ]
    },
    {
      "cell_type": "code",
      "metadata": {
        "id": "5BbnmNL6ckkW"
      },
      "source": [
        "def rbf(x, c=0, gamma=0.3):\n",
        "    return np.exp(-gamma*(x - c)**2)"
      ],
      "execution_count": null,
      "outputs": []
    },
    {
      "cell_type": "code",
      "metadata": {
        "id": "rhxZB1e3dJew"
      },
      "source": [
        "x1 = np.arange(-5, 5, 0.1)"
      ],
      "execution_count": null,
      "outputs": []
    },
    {
      "cell_type": "markdown",
      "metadata": {
        "id": "5y7Jfb9jgi40"
      },
      "source": [
        "1 - graficar x1 vs rbf(x1)\n"
      ]
    },
    {
      "cell_type": "code",
      "metadata": {
        "id": "ziMy3-RPc6jq",
        "colab": {
          "base_uri": "https://localhost:8080/",
          "height": 265
        },
        "outputId": "7e83ae35-e5d1-4cb9-d04f-9d9ed139db00"
      },
      "source": [
        "plt.scatter(x1, rbf(x1), c='orange')\n",
        "plt.show()"
      ],
      "execution_count": null,
      "outputs": [
        {
          "output_type": "display_data",
          "data": {
            "image/png": "[encoded data removed]",
            "text/plain": [
              "<Figure size 432x288 with 1 Axes>"
            ]
          },
          "metadata": {
            "tags": [],
            "needs_background": "light"
          }
        }
      ]
    },
    {
      "cell_type": "markdown",
      "metadata": {
        "id": "gfNgGqqpg4Zm"
      },
      "source": [
        "2- ¿qué ocurre cuando se varían los valores de gamma y de c?"
      ]
    },
    {
      "cell_type": "code",
      "metadata": {
        "colab": {
          "base_uri": "https://localhost:8080/",
          "height": 553
        },
        "id": "7-Ej7EAxQhbo",
        "outputId": "43a17f8d-89d9-4dc6-cc67-4ea5f9376a92"
      },
      "source": [
        "plt.figure(figsize=(18,9))\n",
        "plt.subplot(2,3,1)\n",
        "plt.scatter(x1, rbf(x1, c=0, gamma=0.3))\n",
        "plt.title('C=0, gamma=0.3')\n",
        "plt.subplot(2,3,2)\n",
        "plt.scatter(x1, rbf(x1, c=5, gamma=0.3))\n",
        "plt.title('C=5, gamma=0.3')\n",
        "plt.subplot(2,3,3)\n",
        "plt.scatter(x1, rbf(x1, c=10, gamma=0.3))\n",
        "plt.title('C=10, gamma=0.3')\n",
        "plt.subplot(2,3,4)\n",
        "plt.scatter(x1, rbf(x1, c=0, gamma=0.05))\n",
        "plt.title('C=0, gamma=0.05')\n",
        "plt.subplot(2,3,5)\n",
        "plt.scatter(x1, rbf(x1, c=0, gamma=0.6))\n",
        "plt.title('C=0, gamma=0.6')\n",
        "plt.subplot(2,3,6)\n",
        "plt.scatter(x1, rbf(x1, c=0, gamma=1))\n",
        "plt.title('C=0, gamma=1');"
      ],
      "execution_count": null,
      "outputs": [
        {
          "output_type": "display_data",
          "data": {
            "image/png": "[encoded data removed]",
            "text/plain": [
              "<Figure size 1296x648 with 6 Axes>"
            ]
          },
          "metadata": {
            "tags": [],
            "needs_background": "light"
          }
        }
      ]
    },
    {
      "cell_type": "markdown",
      "metadata": {
        "id": "2gl4ipr0VKUp"
      },
      "source": [
        "A medida que aumenta el valor de $c$, se pierde la distribución normal que se forma al tomar $c$ = 0, incluso cuando ya se toma un valor alto como $c$ = 10, se pierde la dimensionalidad en el eje $y$. \n",
        "\n",
        "A medida que aumenta el valor de $gamma$, la amplitud de la distribución normal se va reduciendo, pero al parecer después de tomar valores de $gamma$ mayores o iguales a 0.5, esta amplitud se mantiene casi constante."
      ]
    },
    {
      "cell_type": "markdown",
      "metadata": {
        "id": "YsziQSKshJzY"
      },
      "source": [
        "3 - Crear un nuevo dataset con las variables $(x_2, x_3)$ donde \n",
        "\n",
        "$x_2=rbf(x_1, c=-2, gamma=0,3)$ \n",
        "\n",
        "\n",
        "\n",
        "$x_3=rbf(x_1, c=1, gamma=0,3)$\n",
        "\n",
        "$x_1$ es la variable del dataset original "
      ]
    },
    {
      "cell_type": "code",
      "metadata": {
        "colab": {
          "base_uri": "https://localhost:8080/"
        },
        "id": "gV36TWC4I6rN",
        "outputId": "465bb822-d7f9-4fdd-cc77-3b9b96fbcf59"
      },
      "source": [
        "x_new = np.array([rbf(x, c=-2, gamma=0.3), rbf(x, c=1, gamma=0.3)])\n",
        "x_new"
      ],
      "execution_count": null,
      "outputs": [
        {
          "output_type": "execute_result",
          "data": {
            "text/plain": [
              "array([[3.01194212e-01, 7.40818221e-01, 9.88071713e-01, 7.40818221e-01,\n",
              "        3.01194212e-01, 6.72055127e-02, 8.22974705e-03, 5.53084370e-04,\n",
              "        2.03995034e-05],\n",
              "       [5.53084370e-04, 8.22974705e-03, 4.63284053e-02, 3.01194212e-01,\n",
              "        7.40818221e-01, 1.00000000e+00, 7.40818221e-01, 3.01194212e-01,\n",
              "        6.72055127e-02]])"
            ]
          },
          "metadata": {
            "tags": []
          },
          "execution_count": 27
        }
      ]
    },
    {
      "cell_type": "markdown",
      "metadata": {
        "id": "_TXoq0QQi_S8"
      },
      "source": [
        "4 - graficar el nuevo dataset"
      ]
    },
    {
      "cell_type": "code",
      "metadata": {
        "colab": {
          "base_uri": "https://localhost:8080/",
          "height": 265
        },
        "id": "qLl29WiHIwMd",
        "outputId": "a9827b04-16a7-4509-aa01-ebab236c2025"
      },
      "source": [
        "plt.scatter(x_new[0], x_new[1], c=y)\n",
        "plt.show()"
      ],
      "execution_count": null,
      "outputs": [
        {
          "output_type": "display_data",
          "data": {
            "image/png": "[encoded data removed]",
            "text/plain": [
              "<Figure size 432x288 with 1 Axes>"
            ]
          },
          "metadata": {
            "tags": [],
            "needs_background": "light"
          }
        }
      ]
    },
    {
      "cell_type": "markdown",
      "metadata": {
        "id": "RQPHmne0jZHD"
      },
      "source": [
        "5 - ¿qué es lo que hace la función rbf?"
      ]
    },
    {
      "cell_type": "code",
      "metadata": {
        "id": "_mMTPUjmjagz"
      },
      "source": [
        ""
      ],
      "execution_count": null,
      "outputs": []
    },
    {
      "cell_type": "markdown",
      "metadata": {
        "id": "PUNe6ATPjel0"
      },
      "source": [
        "6 - entrenar un svc de sklearn utilizando kernel rbf sin regularización"
      ]
    },
    {
      "cell_type": "code",
      "metadata": {
        "id": "o5CJNFqAjjwx",
        "colab": {
          "base_uri": "https://localhost:8080/"
        },
        "outputId": "bde971c0-ee1f-4e6b-fcec-6d348b944f42"
      },
      "source": [
        "svc = SVC(kernel='rbf', C=100000)\n",
        "svc.fit(x.reshape(-1,1), y)"
      ],
      "execution_count": null,
      "outputs": [
        {
          "output_type": "execute_result",
          "data": {
            "text/plain": [
              "SVC(C=100000, break_ties=False, cache_size=200, class_weight=None, coef0=0.0,\n",
              "    decision_function_shape='ovr', degree=3, gamma='scale', kernel='rbf',\n",
              "    max_iter=-1, probability=False, random_state=None, shrinking=True,\n",
              "    tol=0.001, verbose=False)"
            ]
          },
          "metadata": {
            "tags": []
          },
          "execution_count": 25
        }
      ]
    },
    {
      "cell_type": "code",
      "metadata": {
        "id": "tWhSAHTojYQU",
        "colab": {
          "base_uri": "https://localhost:8080/"
        },
        "outputId": "1ff4bb68-c7b4-485c-bbc2-37f2ffad5f0f"
      },
      "source": [
        "svc.support_vectors_"
      ],
      "execution_count": null,
      "outputs": [
        {
          "output_type": "execute_result",
          "data": {
            "text/plain": [
              "array([[-2.2],\n",
              "       [ 2. ],\n",
              "       [-3. ],\n",
              "       [ 3. ]])"
            ]
          },
          "metadata": {
            "tags": []
          },
          "execution_count": 26
        }
      ]
    },
    {
      "cell_type": "code",
      "metadata": {
        "id": "IC8WsiENjA-U",
        "colab": {
          "base_uri": "https://localhost:8080/"
        },
        "outputId": "566a12cc-68f9-4391-804b-7389a25214eb"
      },
      "source": [
        "svc.support_"
      ],
      "execution_count": null,
      "outputs": [
        {
          "output_type": "execute_result",
          "data": {
            "text/plain": [
              "array([2, 6, 1, 7], dtype=int32)"
            ]
          },
          "metadata": {
            "tags": []
          },
          "execution_count": 30
        }
      ]
    },
    {
      "cell_type": "code",
      "metadata": {
        "id": "r076mt-HjVcv"
      },
      "source": [
        ""
      ],
      "execution_count": null,
      "outputs": []
    }
  ]
}