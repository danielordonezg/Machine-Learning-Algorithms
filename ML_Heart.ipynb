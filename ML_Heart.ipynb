{
  "nbformat": 4,
  "nbformat_minor": 0,
  "metadata": {
    "colab": {
      "name": "parcial1_ML_Heart_JhonBuesaquillo_DanielGomez.ipynb",
      "provenance": [],
      "collapsed_sections": []
    },
    "kernelspec": {
      "name": "python3",
      "display_name": "Python 3"
    }
  },
  "cells": [
    {
      "cell_type": "code",
      "metadata": {
        "id": "OYbyBXjz3eZY"
      },
      "source": [
        "# Se importan las librerías que corresponden\n",
        "import pandas as pd\n",
        "import numpy as np\n",
        "from sklearn.model_selection import train_test_split\n",
        "from sklearn.preprocessing import OrdinalEncoder, StandardScaler\n",
        "from sklearn.pipeline import Pipeline\n",
        "from sklearn.impute import SimpleImputer\n",
        "from sklearn.compose import ColumnTransformer\n",
        "from sklearn.model_selection import GridSearchCV\n",
        "from sklearn.metrics import accuracy_score, precision_score, recall_score, f1_score, confusion_matrix\n",
        "from sklearn.model_selection import cross_val_score\n",
        "from sklearn.linear_model import LogisticRegression\n",
        "from sklearn.neighbors import KNeighborsClassifier\n",
        "from sklearn.tree import DecisionTreeClassifier\n",
        "from matplotlib import pyplot as plt\n",
        "import seaborn as sns\n",
        "from pandas.plotting import scatter_matrix\n",
        "\n",
        "import warnings\n",
        "warnings.filterwarnings(\"ignore\")"
      ],
      "execution_count": null,
      "outputs": []
    },
    {
      "cell_type": "code",
      "metadata": {
        "colab": {
          "base_uri": "https://localhost:8080/",
          "height": 204
        },
        "id": "D0Cp9rS76hD0",
        "outputId": "e59ba744-9bd8-47b1-f3f9-abcd580d5cd7"
      },
      "source": [
        "# Se leen los datos\n",
        "df_heart = pd.read_csv('https://raw.githubusercontent.com/JhonBS17/machineLearningFiles/main/heart.csv')\n",
        "df_heart.head()"
      ],
      "execution_count": null,
      "outputs": [
        {
          "output_type": "execute_result",
          "data": {
            "text/html": [
              "<div>\n",
              "<style scoped>\n",
              "    .dataframe tbody tr th:only-of-type {\n",
              "        vertical-align: middle;\n",
              "    }\n",
              "\n",
              "    .dataframe tbody tr th {\n",
              "        vertical-align: top;\n",
              "    }\n",
              "\n",
              "    .dataframe thead th {\n",
              "        text-align: right;\n",
              "    }\n",
              "</style>\n",
              "<table border=\"1\" class=\"dataframe\">\n",
              "  <thead>\n",
              "    <tr style=\"text-align: right;\">\n",
              "      <th></th>\n",
              "      <th>age</th>\n",
              "      <th>sex</th>\n",
              "      <th>cp</th>\n",
              "      <th>trestbps</th>\n",
              "      <th>chol</th>\n",
              "      <th>fbs</th>\n",
              "      <th>restecg</th>\n",
              "      <th>thalach</th>\n",
              "      <th>exang</th>\n",
              "      <th>oldpeak</th>\n",
              "      <th>slope</th>\n",
              "      <th>ca</th>\n",
              "      <th>thal</th>\n",
              "      <th>target</th>\n",
              "    </tr>\n",
              "  </thead>\n",
              "  <tbody>\n",
              "    <tr>\n",
              "      <th>0</th>\n",
              "      <td>52</td>\n",
              "      <td>1</td>\n",
              "      <td>0</td>\n",
              "      <td>125</td>\n",
              "      <td>212</td>\n",
              "      <td>0</td>\n",
              "      <td>1</td>\n",
              "      <td>168</td>\n",
              "      <td>0</td>\n",
              "      <td>1.0</td>\n",
              "      <td>2</td>\n",
              "      <td>2</td>\n",
              "      <td>3</td>\n",
              "      <td>0</td>\n",
              "    </tr>\n",
              "    <tr>\n",
              "      <th>1</th>\n",
              "      <td>53</td>\n",
              "      <td>1</td>\n",
              "      <td>0</td>\n",
              "      <td>140</td>\n",
              "      <td>203</td>\n",
              "      <td>1</td>\n",
              "      <td>0</td>\n",
              "      <td>155</td>\n",
              "      <td>1</td>\n",
              "      <td>3.1</td>\n",
              "      <td>0</td>\n",
              "      <td>0</td>\n",
              "      <td>3</td>\n",
              "      <td>0</td>\n",
              "    </tr>\n",
              "    <tr>\n",
              "      <th>2</th>\n",
              "      <td>70</td>\n",
              "      <td>1</td>\n",
              "      <td>0</td>\n",
              "      <td>145</td>\n",
              "      <td>174</td>\n",
              "      <td>0</td>\n",
              "      <td>1</td>\n",
              "      <td>125</td>\n",
              "      <td>1</td>\n",
              "      <td>2.6</td>\n",
              "      <td>0</td>\n",
              "      <td>0</td>\n",
              "      <td>3</td>\n",
              "      <td>0</td>\n",
              "    </tr>\n",
              "    <tr>\n",
              "      <th>3</th>\n",
              "      <td>61</td>\n",
              "      <td>1</td>\n",
              "      <td>0</td>\n",
              "      <td>148</td>\n",
              "      <td>203</td>\n",
              "      <td>0</td>\n",
              "      <td>1</td>\n",
              "      <td>161</td>\n",
              "      <td>0</td>\n",
              "      <td>0.0</td>\n",
              "      <td>2</td>\n",
              "      <td>1</td>\n",
              "      <td>3</td>\n",
              "      <td>0</td>\n",
              "    </tr>\n",
              "    <tr>\n",
              "      <th>4</th>\n",
              "      <td>62</td>\n",
              "      <td>0</td>\n",
              "      <td>0</td>\n",
              "      <td>138</td>\n",
              "      <td>294</td>\n",
              "      <td>1</td>\n",
              "      <td>1</td>\n",
              "      <td>106</td>\n",
              "      <td>0</td>\n",
              "      <td>1.9</td>\n",
              "      <td>1</td>\n",
              "      <td>3</td>\n",
              "      <td>2</td>\n",
              "      <td>0</td>\n",
              "    </tr>\n",
              "  </tbody>\n",
              "</table>\n",
              "</div>"
            ],
            "text/plain": [
              "   age  sex  cp  trestbps  chol  fbs  ...  exang  oldpeak  slope  ca  thal  target\n",
              "0   52    1   0       125   212    0  ...      0      1.0      2   2     3       0\n",
              "1   53    1   0       140   203    1  ...      1      3.1      0   0     3       0\n",
              "2   70    1   0       145   174    0  ...      1      2.6      0   0     3       0\n",
              "3   61    1   0       148   203    0  ...      0      0.0      2   1     3       0\n",
              "4   62    0   0       138   294    1  ...      0      1.9      1   3     2       0\n",
              "\n",
              "[5 rows x 14 columns]"
            ]
          },
          "metadata": {
            "tags": []
          },
          "execution_count": 67
        }
      ]
    },
    {
      "cell_type": "markdown",
      "metadata": {
        "id": "ddUV3zWP7nB6"
      },
      "source": [
        "A continuación, se presenta el significado de cada columna del dataset:\n",
        "* age\n",
        "* sex\n",
        "* cp - Tipo de dolor de pecho (4 valores desde 0 hasta 3)\n",
        "* trestbps - Presión arterial en reposo\n",
        "* chol - Colesterol sérico en mg/dl\n",
        "* fbs - Azucar en la sangre en ayunas > 120 mg/dl\n",
        "* restecg - Resultados electrocardiográficos en reposo (valores de 0,1,2)\n",
        "* thalach - Frecuencia cardíaca máxima alcanzada\n",
        "* exang - Angina inducida por ejercicio\n",
        "* oldpeak - Depresión inducida por el ejercicio en relación con el reposo\n",
        "* slope - \n",
        "* ca - Número de vasos principales (0-3) coloreados por la floración\n",
        "* thal - 0 = normal; 1 = defecto fijo; 2 = defecto reversible\n",
        "* target - Infarto: sí = 1; no = 0\n",
        "\n"
      ]
    },
    {
      "cell_type": "markdown",
      "metadata": {
        "id": "17WCLbCrEfbR"
      },
      "source": [
        "#**1. Exploración Inicial**"
      ]
    },
    {
      "cell_type": "code",
      "metadata": {
        "colab": {
          "base_uri": "https://localhost:8080/"
        },
        "id": "ylCy6b-9GiNq",
        "outputId": "a4f13a73-34f9-4f8e-8e8d-531d29db7eec"
      },
      "source": [
        "# Obtener el número de registros y features del dataset\n",
        "df_heart.shape"
      ],
      "execution_count": null,
      "outputs": [
        {
          "output_type": "execute_result",
          "data": {
            "text/plain": [
              "(1025, 14)"
            ]
          },
          "metadata": {
            "tags": []
          },
          "execution_count": 68
        }
      ]
    },
    {
      "cell_type": "code",
      "metadata": {
        "colab": {
          "base_uri": "https://localhost:8080/"
        },
        "id": "ZgJcxZ_Z6yWE",
        "outputId": "c23d0dc7-f812-4225-cc81-b9354b2196ba"
      },
      "source": [
        "# Obtener información acerca del dataset\n",
        "df_heart.info()"
      ],
      "execution_count": null,
      "outputs": [
        {
          "output_type": "stream",
          "text": [
            "<class 'pandas.core.frame.DataFrame'>\n",
            "RangeIndex: 1025 entries, 0 to 1024\n",
            "Data columns (total 14 columns):\n",
            " #   Column    Non-Null Count  Dtype  \n",
            "---  ------    --------------  -----  \n",
            " 0   age       1025 non-null   int64  \n",
            " 1   sex       1025 non-null   int64  \n",
            " 2   cp        1025 non-null   int64  \n",
            " 3   trestbps  1025 non-null   int64  \n",
            " 4   chol      1025 non-null   int64  \n",
            " 5   fbs       1025 non-null   int64  \n",
            " 6   restecg   1025 non-null   int64  \n",
            " 7   thalach   1025 non-null   int64  \n",
            " 8   exang     1025 non-null   int64  \n",
            " 9   oldpeak   1025 non-null   float64\n",
            " 10  slope     1025 non-null   int64  \n",
            " 11  ca        1025 non-null   int64  \n",
            " 12  thal      1025 non-null   int64  \n",
            " 13  target    1025 non-null   int64  \n",
            "dtypes: float64(1), int64(13)\n",
            "memory usage: 112.2 KB\n"
          ],
          "name": "stdout"
        }
      ]
    },
    {
      "cell_type": "code",
      "metadata": {
        "colab": {
          "base_uri": "https://localhost:8080/",
          "height": 483
        },
        "id": "JTANI9BcE8VL",
        "outputId": "9cd1e222-63f4-4e5a-82b1-6e6589fd78fe"
      },
      "source": [
        "# Generar estadísticas del dataset\n",
        "df_heart.describe().T"
      ],
      "execution_count": null,
      "outputs": [
        {
          "output_type": "execute_result",
          "data": {
            "text/html": [
              "<div>\n",
              "<style scoped>\n",
              "    .dataframe tbody tr th:only-of-type {\n",
              "        vertical-align: middle;\n",
              "    }\n",
              "\n",
              "    .dataframe tbody tr th {\n",
              "        vertical-align: top;\n",
              "    }\n",
              "\n",
              "    .dataframe thead th {\n",
              "        text-align: right;\n",
              "    }\n",
              "</style>\n",
              "<table border=\"1\" class=\"dataframe\">\n",
              "  <thead>\n",
              "    <tr style=\"text-align: right;\">\n",
              "      <th></th>\n",
              "      <th>count</th>\n",
              "      <th>mean</th>\n",
              "      <th>std</th>\n",
              "      <th>min</th>\n",
              "      <th>25%</th>\n",
              "      <th>50%</th>\n",
              "      <th>75%</th>\n",
              "      <th>max</th>\n",
              "    </tr>\n",
              "  </thead>\n",
              "  <tbody>\n",
              "    <tr>\n",
              "      <th>age</th>\n",
              "      <td>1025.0</td>\n",
              "      <td>54.434146</td>\n",
              "      <td>9.072290</td>\n",
              "      <td>29.0</td>\n",
              "      <td>48.0</td>\n",
              "      <td>56.0</td>\n",
              "      <td>61.0</td>\n",
              "      <td>77.0</td>\n",
              "    </tr>\n",
              "    <tr>\n",
              "      <th>sex</th>\n",
              "      <td>1025.0</td>\n",
              "      <td>0.695610</td>\n",
              "      <td>0.460373</td>\n",
              "      <td>0.0</td>\n",
              "      <td>0.0</td>\n",
              "      <td>1.0</td>\n",
              "      <td>1.0</td>\n",
              "      <td>1.0</td>\n",
              "    </tr>\n",
              "    <tr>\n",
              "      <th>cp</th>\n",
              "      <td>1025.0</td>\n",
              "      <td>0.942439</td>\n",
              "      <td>1.029641</td>\n",
              "      <td>0.0</td>\n",
              "      <td>0.0</td>\n",
              "      <td>1.0</td>\n",
              "      <td>2.0</td>\n",
              "      <td>3.0</td>\n",
              "    </tr>\n",
              "    <tr>\n",
              "      <th>trestbps</th>\n",
              "      <td>1025.0</td>\n",
              "      <td>131.611707</td>\n",
              "      <td>17.516718</td>\n",
              "      <td>94.0</td>\n",
              "      <td>120.0</td>\n",
              "      <td>130.0</td>\n",
              "      <td>140.0</td>\n",
              "      <td>200.0</td>\n",
              "    </tr>\n",
              "    <tr>\n",
              "      <th>chol</th>\n",
              "      <td>1025.0</td>\n",
              "      <td>246.000000</td>\n",
              "      <td>51.592510</td>\n",
              "      <td>126.0</td>\n",
              "      <td>211.0</td>\n",
              "      <td>240.0</td>\n",
              "      <td>275.0</td>\n",
              "      <td>564.0</td>\n",
              "    </tr>\n",
              "    <tr>\n",
              "      <th>fbs</th>\n",
              "      <td>1025.0</td>\n",
              "      <td>0.149268</td>\n",
              "      <td>0.356527</td>\n",
              "      <td>0.0</td>\n",
              "      <td>0.0</td>\n",
              "      <td>0.0</td>\n",
              "      <td>0.0</td>\n",
              "      <td>1.0</td>\n",
              "    </tr>\n",
              "    <tr>\n",
              "      <th>restecg</th>\n",
              "      <td>1025.0</td>\n",
              "      <td>0.529756</td>\n",
              "      <td>0.527878</td>\n",
              "      <td>0.0</td>\n",
              "      <td>0.0</td>\n",
              "      <td>1.0</td>\n",
              "      <td>1.0</td>\n",
              "      <td>2.0</td>\n",
              "    </tr>\n",
              "    <tr>\n",
              "      <th>thalach</th>\n",
              "      <td>1025.0</td>\n",
              "      <td>149.114146</td>\n",
              "      <td>23.005724</td>\n",
              "      <td>71.0</td>\n",
              "      <td>132.0</td>\n",
              "      <td>152.0</td>\n",
              "      <td>166.0</td>\n",
              "      <td>202.0</td>\n",
              "    </tr>\n",
              "    <tr>\n",
              "      <th>exang</th>\n",
              "      <td>1025.0</td>\n",
              "      <td>0.336585</td>\n",
              "      <td>0.472772</td>\n",
              "      <td>0.0</td>\n",
              "      <td>0.0</td>\n",
              "      <td>0.0</td>\n",
              "      <td>1.0</td>\n",
              "      <td>1.0</td>\n",
              "    </tr>\n",
              "    <tr>\n",
              "      <th>oldpeak</th>\n",
              "      <td>1025.0</td>\n",
              "      <td>1.071512</td>\n",
              "      <td>1.175053</td>\n",
              "      <td>0.0</td>\n",
              "      <td>0.0</td>\n",
              "      <td>0.8</td>\n",
              "      <td>1.8</td>\n",
              "      <td>6.2</td>\n",
              "    </tr>\n",
              "    <tr>\n",
              "      <th>slope</th>\n",
              "      <td>1025.0</td>\n",
              "      <td>1.385366</td>\n",
              "      <td>0.617755</td>\n",
              "      <td>0.0</td>\n",
              "      <td>1.0</td>\n",
              "      <td>1.0</td>\n",
              "      <td>2.0</td>\n",
              "      <td>2.0</td>\n",
              "    </tr>\n",
              "    <tr>\n",
              "      <th>ca</th>\n",
              "      <td>1025.0</td>\n",
              "      <td>0.754146</td>\n",
              "      <td>1.030798</td>\n",
              "      <td>0.0</td>\n",
              "      <td>0.0</td>\n",
              "      <td>0.0</td>\n",
              "      <td>1.0</td>\n",
              "      <td>4.0</td>\n",
              "    </tr>\n",
              "    <tr>\n",
              "      <th>thal</th>\n",
              "      <td>1025.0</td>\n",
              "      <td>2.323902</td>\n",
              "      <td>0.620660</td>\n",
              "      <td>0.0</td>\n",
              "      <td>2.0</td>\n",
              "      <td>2.0</td>\n",
              "      <td>3.0</td>\n",
              "      <td>3.0</td>\n",
              "    </tr>\n",
              "    <tr>\n",
              "      <th>target</th>\n",
              "      <td>1025.0</td>\n",
              "      <td>0.513171</td>\n",
              "      <td>0.500070</td>\n",
              "      <td>0.0</td>\n",
              "      <td>0.0</td>\n",
              "      <td>1.0</td>\n",
              "      <td>1.0</td>\n",
              "      <td>1.0</td>\n",
              "    </tr>\n",
              "  </tbody>\n",
              "</table>\n",
              "</div>"
            ],
            "text/plain": [
              "           count        mean        std    min    25%    50%    75%    max\n",
              "age       1025.0   54.434146   9.072290   29.0   48.0   56.0   61.0   77.0\n",
              "sex       1025.0    0.695610   0.460373    0.0    0.0    1.0    1.0    1.0\n",
              "cp        1025.0    0.942439   1.029641    0.0    0.0    1.0    2.0    3.0\n",
              "trestbps  1025.0  131.611707  17.516718   94.0  120.0  130.0  140.0  200.0\n",
              "chol      1025.0  246.000000  51.592510  126.0  211.0  240.0  275.0  564.0\n",
              "fbs       1025.0    0.149268   0.356527    0.0    0.0    0.0    0.0    1.0\n",
              "restecg   1025.0    0.529756   0.527878    0.0    0.0    1.0    1.0    2.0\n",
              "thalach   1025.0  149.114146  23.005724   71.0  132.0  152.0  166.0  202.0\n",
              "exang     1025.0    0.336585   0.472772    0.0    0.0    0.0    1.0    1.0\n",
              "oldpeak   1025.0    1.071512   1.175053    0.0    0.0    0.8    1.8    6.2\n",
              "slope     1025.0    1.385366   0.617755    0.0    1.0    1.0    2.0    2.0\n",
              "ca        1025.0    0.754146   1.030798    0.0    0.0    0.0    1.0    4.0\n",
              "thal      1025.0    2.323902   0.620660    0.0    2.0    2.0    3.0    3.0\n",
              "target    1025.0    0.513171   0.500070    0.0    0.0    1.0    1.0    1.0"
            ]
          },
          "metadata": {
            "tags": []
          },
          "execution_count": 70
        }
      ]
    },
    {
      "cell_type": "code",
      "metadata": {
        "colab": {
          "base_uri": "https://localhost:8080/",
          "height": 595
        },
        "id": "7dErCGoyHLVf",
        "outputId": "be3a8bf0-63b2-49f1-a41a-3e75fcf8e4ed"
      },
      "source": [
        "# Obtener la correlación entre las variables del dataset\n",
        "plt.figure(figsize=(13,10))\n",
        "sns.heatmap(df_heart.corr(), annot=True, cmap='inferno')\n",
        "plt.show()"
      ],
      "execution_count": null,
      "outputs": [
        {
          "output_type": "display_data",
          "data": {
            "image/png": "[encoded data removed]",
            "text/plain": [
              "<Figure size 936x720 with 2 Axes>"
            ]
          },
          "metadata": {
            "tags": [],
            "needs_background": "light"
          }
        }
      ]
    },
    {
      "cell_type": "markdown",
      "metadata": {
        "id": "8B91vUef8qxd"
      },
      "source": [
        "#**2. Separación en entrenamiento y test**"
      ]
    },
    {
      "cell_type": "code",
      "metadata": {
        "id": "FOT-_q1kbFwC"
      },
      "source": [
        "# Se escogen las variables con las que se van a trabajar, teniendo en cuenta las correlaciones halladas anteriormente\n",
        "columns_df = ['cp', 'thalach', 'exang', 'oldpeak', 'slope', 'ca', 'target']\n",
        "df_heart_final = df_heart[columns_df]"
      ],
      "execution_count": null,
      "outputs": []
    },
    {
      "cell_type": "code",
      "metadata": {
        "id": "novZ-PYz8Ukh"
      },
      "source": [
        "# Se divide el dataset en training y test\n",
        "training, test = train_test_split(df_heart_final, test_size=0.3)"
      ],
      "execution_count": null,
      "outputs": []
    },
    {
      "cell_type": "markdown",
      "metadata": {
        "id": "vhvKj8gq8yfx"
      },
      "source": [
        "#**3.Preprocesamiento**"
      ]
    },
    {
      "cell_type": "code",
      "metadata": {
        "id": "n78kD8wD8huz"
      },
      "source": [
        "# Usar un pipeline para generar el modelo que se desea\n",
        "pipe = Pipeline([('clean', SimpleImputer(strategy='most_frequent')), ('scaler', StandardScaler())])"
      ],
      "execution_count": null,
      "outputs": []
    },
    {
      "cell_type": "code",
      "metadata": {
        "id": "Iz_lSLGf0Okj"
      },
      "source": [
        "# Agrupar todos los datos al aplicar el pipeline en el DataFrame de training, a excepción de la variable 'target'\n",
        "ct = ColumnTransformer([('pipe', pipe, [0, 1, 2, 3, 4, 5])], remainder='passthrough')\n",
        "training_data = ct.fit_transform(training)"
      ],
      "execution_count": null,
      "outputs": []
    },
    {
      "cell_type": "code",
      "metadata": {
        "colab": {
          "base_uri": "https://localhost:8080/",
          "height": 204
        },
        "id": "3mVEQwqdE2Jv",
        "outputId": "541ba517-4fcc-4821-c2ea-67fbdb0eb3e2"
      },
      "source": [
        "# Se crea el nuevo dataframe de training con los datos procesados\n",
        "new_training = pd.DataFrame(training_data, columns=columns_df)\n",
        "new_training.head()"
      ],
      "execution_count": null,
      "outputs": [
        {
          "output_type": "execute_result",
          "data": {
            "text/html": [
              "<div>\n",
              "<style scoped>\n",
              "    .dataframe tbody tr th:only-of-type {\n",
              "        vertical-align: middle;\n",
              "    }\n",
              "\n",
              "    .dataframe tbody tr th {\n",
              "        vertical-align: top;\n",
              "    }\n",
              "\n",
              "    .dataframe thead th {\n",
              "        text-align: right;\n",
              "    }\n",
              "</style>\n",
              "<table border=\"1\" class=\"dataframe\">\n",
              "  <thead>\n",
              "    <tr style=\"text-align: right;\">\n",
              "      <th></th>\n",
              "      <th>cp</th>\n",
              "      <th>thalach</th>\n",
              "      <th>exang</th>\n",
              "      <th>oldpeak</th>\n",
              "      <th>slope</th>\n",
              "      <th>ca</th>\n",
              "      <th>target</th>\n",
              "    </tr>\n",
              "  </thead>\n",
              "  <tbody>\n",
              "    <tr>\n",
              "      <th>0</th>\n",
              "      <td>1.053125</td>\n",
              "      <td>0.238695</td>\n",
              "      <td>1.354250</td>\n",
              "      <td>-0.926241</td>\n",
              "      <td>0.999721</td>\n",
              "      <td>0.250913</td>\n",
              "      <td>1.0</td>\n",
              "    </tr>\n",
              "    <tr>\n",
              "      <th>1</th>\n",
              "      <td>0.078815</td>\n",
              "      <td>-0.707092</td>\n",
              "      <td>-0.738416</td>\n",
              "      <td>-0.926241</td>\n",
              "      <td>-0.600279</td>\n",
              "      <td>-0.737573</td>\n",
              "      <td>1.0</td>\n",
              "    </tr>\n",
              "    <tr>\n",
              "      <th>2</th>\n",
              "      <td>1.053125</td>\n",
              "      <td>0.496637</td>\n",
              "      <td>-0.738416</td>\n",
              "      <td>0.433257</td>\n",
              "      <td>-0.600279</td>\n",
              "      <td>-0.737573</td>\n",
              "      <td>1.0</td>\n",
              "    </tr>\n",
              "    <tr>\n",
              "      <th>3</th>\n",
              "      <td>2.027436</td>\n",
              "      <td>-0.191208</td>\n",
              "      <td>1.354250</td>\n",
              "      <td>0.603195</td>\n",
              "      <td>-0.600279</td>\n",
              "      <td>-0.737573</td>\n",
              "      <td>1.0</td>\n",
              "    </tr>\n",
              "    <tr>\n",
              "      <th>4</th>\n",
              "      <td>1.053125</td>\n",
              "      <td>1.012522</td>\n",
              "      <td>-0.738416</td>\n",
              "      <td>-0.926241</td>\n",
              "      <td>0.999721</td>\n",
              "      <td>-0.737573</td>\n",
              "      <td>1.0</td>\n",
              "    </tr>\n",
              "  </tbody>\n",
              "</table>\n",
              "</div>"
            ],
            "text/plain": [
              "         cp   thalach     exang   oldpeak     slope        ca  target\n",
              "0  1.053125  0.238695  1.354250 -0.926241  0.999721  0.250913     1.0\n",
              "1  0.078815 -0.707092 -0.738416 -0.926241 -0.600279 -0.737573     1.0\n",
              "2  1.053125  0.496637 -0.738416  0.433257 -0.600279 -0.737573     1.0\n",
              "3  2.027436 -0.191208  1.354250  0.603195 -0.600279 -0.737573     1.0\n",
              "4  1.053125  1.012522 -0.738416 -0.926241  0.999721 -0.737573     1.0"
            ]
          },
          "metadata": {
            "tags": []
          },
          "execution_count": 76
        }
      ]
    },
    {
      "cell_type": "code",
      "metadata": {
        "id": "sUyJ49SDL7yK"
      },
      "source": [
        "# Se dividen estos datos de entrenamiento en trainig y validation\n",
        "X = new_training[columns_df[:6]]\n",
        "y = new_training['target']\n",
        "\n",
        "X_train, X_val, y_train, y_val = train_test_split(X, y, test_size=0.3)"
      ],
      "execution_count": null,
      "outputs": []
    },
    {
      "cell_type": "markdown",
      "metadata": {
        "id": "LuSw6f5j-2PQ"
      },
      "source": [
        "# **4. Selección y extracción de características**"
      ]
    },
    {
      "cell_type": "code",
      "metadata": {
        "colab": {
          "base_uri": "https://localhost:8080/",
          "height": 499
        },
        "id": "JARoqAUzAEA8",
        "outputId": "c1937e26-2f8b-4404-aace-e1f0afe57ff1"
      },
      "source": [
        "# Verificar la distribución de los datos mediante histogramas\n",
        "X.hist(figsize=(10,8))\n",
        "plt.show()"
      ],
      "execution_count": null,
      "outputs": [
        {
          "output_type": "display_data",
          "data": {
            "image/png": "[encoded data removed]",
            "text/plain": [
              "<Figure size 720x576 with 6 Axes>"
            ]
          },
          "metadata": {
            "tags": [],
            "needs_background": "light"
          }
        }
      ]
    },
    {
      "cell_type": "markdown",
      "metadata": {
        "id": "_y1zLmPNf7PN"
      },
      "source": [
        "Inicialmente, se realizan histogramas para poder obsevar de mejor forma la distribucion de los datos en las variables escogidas. En algunas variables como 'exang' y 'ca' se puede ver una tendencia hacia cierto valores."
      ]
    },
    {
      "cell_type": "code",
      "metadata": {
        "colab": {
          "base_uri": "https://localhost:8080/",
          "height": 714
        },
        "id": "4Njrl20_MvDa",
        "outputId": "1005ba0b-c07a-42a8-c87e-7256ee3f9f87"
      },
      "source": [
        "# Obtener los principales datos estadísiticos de cada variable mediante el diagrama boxplot\n",
        "plt.figure(figsize=(13,12))\n",
        "plt.subplot(3,2,1)\n",
        "sns.boxplot(x=X['cp'])\n",
        "plt.subplot(3,2,2)\n",
        "sns.boxplot(x=X['thalach'], color='red')\n",
        "plt.subplot(3,2,3)\n",
        "sns.boxplot(x=X['exang'], color='green')\n",
        "plt.subplot(3,2,4)\n",
        "sns.boxplot(x=X['oldpeak'], color='yellow')\n",
        "plt.subplot(3,2,5)\n",
        "sns.boxplot(x=X['slope'], color='orange')\n",
        "plt.subplot(3,2,6)\n",
        "sns.boxplot(x=X['ca'], color='grey')\n",
        "plt.show()"
      ],
      "execution_count": null,
      "outputs": [
        {
          "output_type": "display_data",
          "data": {
            "image/png": "[encoded data removed]",
            "text/plain": [
              "<Figure size 936x864 with 6 Axes>"
            ]
          },
          "metadata": {
            "tags": [],
            "needs_background": "light"
          }
        }
      ]
    },
    {
      "cell_type": "markdown",
      "metadata": {
        "id": "0k9a2eSvhOTj"
      },
      "source": [
        "El diagrama de cajas y bigotes nos muestra algunos datos estadísticos relevantes, en donde se puede resaltar la escasez de datos extraordinarios o alejados del promedio en casi todas las variables, lo cual es un aspecto positivo al momento de elegir dichas variables."
      ]
    },
    {
      "cell_type": "code",
      "metadata": {
        "colab": {
          "base_uri": "https://localhost:8080/",
          "height": 269
        },
        "id": "WKVg3E0TSf03",
        "outputId": "48bef1f9-a387-4cab-857b-967daa6ded2a"
      },
      "source": [
        "# Obtener la correlación entre las variables del dataset de training\n",
        "sns.heatmap(X.corr(), annot=True)\n",
        "plt.show()"
      ],
      "execution_count": null,
      "outputs": [
        {
          "output_type": "display_data",
          "data": {
            "image/png": "[encoded data removed]",
            "text/plain": [
              "<Figure size 432x288 with 2 Axes>"
            ]
          },
          "metadata": {
            "tags": [],
            "needs_background": "light"
          }
        }
      ]
    },
    {
      "cell_type": "markdown",
      "metadata": {
        "id": "-JcpXcsoiE-v"
      },
      "source": [
        "Por último se puede apreciar una correlación entre variables como se había presentado anteriormente con todo el dataset. Esta gráfica comprueba que las variables escogidas representan las correlaciones más altas encontradas y que pueden aportar al rendimiento de los modelos a realizar."
      ]
    },
    {
      "cell_type": "markdown",
      "metadata": {
        "id": "7O-FmnOBcvOb"
      },
      "source": [
        "#**5. Evaluación de modelos**"
      ]
    },
    {
      "cell_type": "markdown",
      "metadata": {
        "id": "TRyYTdsEeTfq"
      },
      "source": [
        "**Decision Tree**"
      ]
    },
    {
      "cell_type": "code",
      "metadata": {
        "id": "9iWhbokRZI_5"
      },
      "source": [
        "clf_DT = DecisionTreeClassifier()"
      ],
      "execution_count": null,
      "outputs": []
    },
    {
      "cell_type": "code",
      "metadata": {
        "colab": {
          "base_uri": "https://localhost:8080/"
        },
        "id": "qPX86IRQemO8",
        "outputId": "422be3e1-9bd2-4787-bc10-319c72bf2e73"
      },
      "source": [
        "# Se utilizan algunas métricas para evaluar el modelo)\n",
        "accuracy = np.around(cross_val_score(clf_DT, X, y, cv=5), decimals=3)\n",
        "recall = np.around(cross_val_score(clf_DT, X, y, cv=5, scoring='recall'), decimals=3)\n",
        "f1 = np.around(cross_val_score(clf_DT, X, y, cv=5, scoring='f1'), decimals=3)\n",
        "\n",
        "print(f'''Decision Tree Metrics\\n\n",
        "Accuracy:\n",
        "array: {accuracy.tolist()}\n",
        "mean: {round(np.mean(accuracy), 3)}\n",
        "std: {round(np.std(accuracy), 3)}\\n\n",
        "Recall:\n",
        "array: {recall.tolist()}\n",
        "mean: {round(np.mean(recall), 3)}\n",
        "std: {round(np.std(recall), 3)}\\n\n",
        "f1-score:\n",
        "array: {f1.tolist()}\n",
        "mean: {round(np.mean(f1), 3)}\n",
        "std: {round(np.std(f1), 3)}''')"
      ],
      "execution_count": null,
      "outputs": [
        {
          "output_type": "stream",
          "text": [
            "Decision Tree Metrics\n",
            "\n",
            "Accuracy:\n",
            "array: [0.917, 0.951, 0.923, 0.972, 0.986]\n",
            "mean: 0.95\n",
            "std: 0.027\n",
            "\n",
            "Recall:\n",
            "array: [0.918, 0.959, 0.945, 0.959, 1.0]\n",
            "mean: 0.956\n",
            "std: 0.027\n",
            "\n",
            "f1-score:\n",
            "array: [0.924, 0.952, 0.926, 0.966, 0.993]\n",
            "mean: 0.952\n",
            "std: 0.026\n"
          ],
          "name": "stdout"
        }
      ]
    },
    {
      "cell_type": "code",
      "metadata": {
        "colab": {
          "base_uri": "https://localhost:8080/"
        },
        "id": "EhZEFpyCp6tV",
        "outputId": "343e4fa7-3421-4d59-fb10-9864e8deda25"
      },
      "source": [
        "# Se entrena el clasificador\n",
        "clf_DT.fit(X_train, y_train)"
      ],
      "execution_count": null,
      "outputs": [
        {
          "output_type": "execute_result",
          "data": {
            "text/plain": [
              "DecisionTreeClassifier(ccp_alpha=0.0, class_weight=None, criterion='gini',\n",
              "                       max_depth=None, max_features=None, max_leaf_nodes=None,\n",
              "                       min_impurity_decrease=0.0, min_impurity_split=None,\n",
              "                       min_samples_leaf=1, min_samples_split=2,\n",
              "                       min_weight_fraction_leaf=0.0, presort='deprecated',\n",
              "                       random_state=None, splitter='best')"
            ]
          },
          "metadata": {
            "tags": []
          },
          "execution_count": 83
        }
      ]
    },
    {
      "cell_type": "code",
      "metadata": {
        "id": "pE8S2dErqlFz",
        "colab": {
          "base_uri": "https://localhost:8080/"
        },
        "outputId": "3feeebd7-c875-4fc6-cb8d-01c8582ab738"
      },
      "source": [
        "# Se realiza la prediccion de validación\n",
        "y_predict = clf_DT.predict(X_val)\n",
        "recall_score(y_val, y_predict)"
      ],
      "execution_count": null,
      "outputs": [
        {
          "output_type": "execute_result",
          "data": {
            "text/plain": [
              "0.8938053097345132"
            ]
          },
          "metadata": {
            "tags": []
          },
          "execution_count": 84
        }
      ]
    },
    {
      "cell_type": "code",
      "metadata": {
        "colab": {
          "base_uri": "https://localhost:8080/",
          "height": 297
        },
        "id": "Xyxf1SaPs8Z-",
        "outputId": "051f9989-346d-4257-d887-25ae6d631bde"
      },
      "source": [
        "# Se comparan los valores de y_val y y_predict\n",
        "values = pd.DataFrame({'Actual': y_val, 'Predicted': y_predict})\n",
        "values.head(8)"
      ],
      "execution_count": null,
      "outputs": [
        {
          "output_type": "execute_result",
          "data": {
            "text/html": [
              "<div>\n",
              "<style scoped>\n",
              "    .dataframe tbody tr th:only-of-type {\n",
              "        vertical-align: middle;\n",
              "    }\n",
              "\n",
              "    .dataframe tbody tr th {\n",
              "        vertical-align: top;\n",
              "    }\n",
              "\n",
              "    .dataframe thead th {\n",
              "        text-align: right;\n",
              "    }\n",
              "</style>\n",
              "<table border=\"1\" class=\"dataframe\">\n",
              "  <thead>\n",
              "    <tr style=\"text-align: right;\">\n",
              "      <th></th>\n",
              "      <th>Actual</th>\n",
              "      <th>Predicted</th>\n",
              "    </tr>\n",
              "  </thead>\n",
              "  <tbody>\n",
              "    <tr>\n",
              "      <th>321</th>\n",
              "      <td>0.0</td>\n",
              "      <td>0.0</td>\n",
              "    </tr>\n",
              "    <tr>\n",
              "      <th>435</th>\n",
              "      <td>1.0</td>\n",
              "      <td>0.0</td>\n",
              "    </tr>\n",
              "    <tr>\n",
              "      <th>577</th>\n",
              "      <td>1.0</td>\n",
              "      <td>1.0</td>\n",
              "    </tr>\n",
              "    <tr>\n",
              "      <th>543</th>\n",
              "      <td>1.0</td>\n",
              "      <td>1.0</td>\n",
              "    </tr>\n",
              "    <tr>\n",
              "      <th>482</th>\n",
              "      <td>0.0</td>\n",
              "      <td>0.0</td>\n",
              "    </tr>\n",
              "    <tr>\n",
              "      <th>622</th>\n",
              "      <td>0.0</td>\n",
              "      <td>0.0</td>\n",
              "    </tr>\n",
              "    <tr>\n",
              "      <th>437</th>\n",
              "      <td>0.0</td>\n",
              "      <td>0.0</td>\n",
              "    </tr>\n",
              "    <tr>\n",
              "      <th>68</th>\n",
              "      <td>0.0</td>\n",
              "      <td>0.0</td>\n",
              "    </tr>\n",
              "  </tbody>\n",
              "</table>\n",
              "</div>"
            ],
            "text/plain": [
              "     Actual  Predicted\n",
              "321     0.0        0.0\n",
              "435     1.0        0.0\n",
              "577     1.0        1.0\n",
              "543     1.0        1.0\n",
              "482     0.0        0.0\n",
              "622     0.0        0.0\n",
              "437     0.0        0.0\n",
              "68      0.0        0.0"
            ]
          },
          "metadata": {
            "tags": []
          },
          "execution_count": 85
        }
      ]
    },
    {
      "cell_type": "code",
      "metadata": {
        "colab": {
          "base_uri": "https://localhost:8080/",
          "height": 267
        },
        "id": "e8TQb1gt6vrg",
        "outputId": "8d30a012-e6c1-41bd-e248-87c36ef45418"
      },
      "source": [
        "# Se implementa la matriz de confusión\n",
        "cf_matrix = confusion_matrix(y_val, y_predict)\n",
        "group_names = ['True Neg', 'False Pos', 'False Neg', 'True Pos']\n",
        "group_counts = ['{0:0.0f}'.format(value) for value in cf_matrix.flatten()]\n",
        "group_percentages = ['{0:.2%}'.format(value) for value in cf_matrix.flatten()/np.sum(cf_matrix)]\n",
        "labels = [f'{v1}\\n{v2}\\n{v3}' for v1, v2, v3 in zip(group_names,group_counts,group_percentages)]\n",
        "labels = np.asarray(labels).reshape(2,2)\n",
        "\n",
        "sns.heatmap(cf_matrix, annot=labels, fmt='', cmap='Greens')\n",
        "plt.show()"
      ],
      "execution_count": null,
      "outputs": [
        {
          "output_type": "display_data",
          "data": {
            "image/png": "[encoded data removed]",
            "text/plain": [
              "<Figure size 432x288 with 2 Axes>"
            ]
          },
          "metadata": {
            "tags": [],
            "needs_background": "light"
          }
        }
      ]
    },
    {
      "cell_type": "markdown",
      "metadata": {
        "id": "Xg99Q-VBlJEB"
      },
      "source": [
        "**K-Nearest Neighbors**"
      ]
    },
    {
      "cell_type": "code",
      "metadata": {
        "id": "Pvj3bSuwx1ce"
      },
      "source": [
        "param_grid = [{'n_neighbors': [1, 5, 10, 20]}]"
      ],
      "execution_count": null,
      "outputs": []
    },
    {
      "cell_type": "code",
      "metadata": {
        "id": "72VowfIhyDIw"
      },
      "source": [
        "# Se realiza el ajuste de hiperparámetros\n",
        "clf_KNN = KNeighborsClassifier()\n",
        "gs = GridSearchCV(clf_KNN, param_grid)"
      ],
      "execution_count": null,
      "outputs": []
    },
    {
      "cell_type": "code",
      "metadata": {
        "colab": {
          "base_uri": "https://localhost:8080/"
        },
        "id": "63vAiY7iyLnP",
        "outputId": "519936b4-4850-4178-b076-a95018271ab2"
      },
      "source": [
        "gs.fit(X, y)"
      ],
      "execution_count": null,
      "outputs": [
        {
          "output_type": "execute_result",
          "data": {
            "text/plain": [
              "GridSearchCV(cv=None, error_score=nan,\n",
              "             estimator=KNeighborsClassifier(algorithm='auto', leaf_size=30,\n",
              "                                            metric='minkowski',\n",
              "                                            metric_params=None, n_jobs=None,\n",
              "                                            n_neighbors=5, p=2,\n",
              "                                            weights='uniform'),\n",
              "             iid='deprecated', n_jobs=None,\n",
              "             param_grid=[{'n_neighbors': [1, 5, 10, 20]}],\n",
              "             pre_dispatch='2*n_jobs', refit=True, return_train_score=False,\n",
              "             scoring=None, verbose=0)"
            ]
          },
          "metadata": {
            "tags": []
          },
          "execution_count": 89
        }
      ]
    },
    {
      "cell_type": "code",
      "metadata": {
        "colab": {
          "base_uri": "https://localhost:8080/"
        },
        "id": "RQFl6LuFyO6f",
        "outputId": "b8111ee0-78c3-49da-a97b-84370a16b578"
      },
      "source": [
        "# Se consulta el mejor valor para el parámetro 'n_neighbors'\n",
        "gs.best_params_"
      ],
      "execution_count": null,
      "outputs": [
        {
          "output_type": "execute_result",
          "data": {
            "text/plain": [
              "{'n_neighbors': 1}"
            ]
          },
          "metadata": {
            "tags": []
          },
          "execution_count": 90
        }
      ]
    },
    {
      "cell_type": "code",
      "metadata": {
        "id": "68UOvMHulJEJ"
      },
      "source": [
        "clf_KNN = KNeighborsClassifier(n_neighbors=1)"
      ],
      "execution_count": null,
      "outputs": []
    },
    {
      "cell_type": "code",
      "metadata": {
        "colab": {
          "base_uri": "https://localhost:8080/"
        },
        "id": "6K_LGrKElJEK",
        "outputId": "750252e4-5163-4d66-9fd9-c919b2342313"
      },
      "source": [
        "# Se utilizan algunas métricas para evaluar el modelo)\n",
        "accuracy = np.around(cross_val_score(clf_KNN, X, y, cv=5), decimals=3)\n",
        "recall = np.around(cross_val_score(clf_KNN, X, y, cv=5, scoring='recall'), decimals=3)\n",
        "f1 = np.around(cross_val_score(clf_KNN, X, y, cv=5, scoring='f1'), decimals=3)\n",
        "\n",
        "print(f'''K-Neirest Neighbors Metrics\\n\n",
        "Accuracy:\n",
        "array: {accuracy.tolist()}\n",
        "mean: {round(np.mean(accuracy), 3)}\n",
        "std: {round(np.std(accuracy), 3)}\\n\n",
        "Recall:\n",
        "array: {recall.tolist()}\n",
        "mean: {round(np.mean(recall), 3)}\n",
        "std: {round(np.std(recall), 3)}\\n\n",
        "f1-score:\n",
        "array: {f1.tolist()}\n",
        "mean: {round(np.mean(f1), 3)}\n",
        "std: {round(np.std(f1), 3)}''')"
      ],
      "execution_count": null,
      "outputs": [
        {
          "output_type": "stream",
          "text": [
            "Decision Tree Metrics\n",
            "\n",
            "Accuracy:\n",
            "array: [0.91, 0.944, 0.93, 0.986, 0.972]\n",
            "mean: 0.948\n",
            "std: 0.028\n",
            "\n",
            "Recall:\n",
            "array: [0.945, 0.945, 0.945, 1.0, 1.0]\n",
            "mean: 0.967\n",
            "std: 0.027\n",
            "\n",
            "f1-score:\n",
            "array: [0.914, 0.945, 0.932, 0.986, 0.973]\n",
            "mean: 0.95\n",
            "std: 0.026\n"
          ],
          "name": "stdout"
        }
      ]
    },
    {
      "cell_type": "code",
      "metadata": {
        "colab": {
          "base_uri": "https://localhost:8080/"
        },
        "id": "2O17ujJGlJEK",
        "outputId": "61780b4d-8ef2-4b63-e693-c973a1fbe944"
      },
      "source": [
        "# Se entrena el clasificador\n",
        "clf_KNN.fit(X_train, y_train)"
      ],
      "execution_count": null,
      "outputs": [
        {
          "output_type": "execute_result",
          "data": {
            "text/plain": [
              "KNeighborsClassifier(algorithm='auto', leaf_size=30, metric='minkowski',\n",
              "                     metric_params=None, n_jobs=None, n_neighbors=1, p=2,\n",
              "                     weights='uniform')"
            ]
          },
          "metadata": {
            "tags": []
          },
          "execution_count": 93
        }
      ]
    },
    {
      "cell_type": "code",
      "metadata": {
        "colab": {
          "base_uri": "https://localhost:8080/"
        },
        "id": "XZkjiDaylJEL",
        "outputId": "aceae928-ac72-4420-b18b-d9dad5446d5d"
      },
      "source": [
        "# Se realiza la prediccion de validación\n",
        "y_predict = clf_KNN.predict(X_val)\n",
        "recall_score(y_val, y_predict)"
      ],
      "execution_count": null,
      "outputs": [
        {
          "output_type": "execute_result",
          "data": {
            "text/plain": [
              "0.8938053097345132"
            ]
          },
          "metadata": {
            "tags": []
          },
          "execution_count": 94
        }
      ]
    },
    {
      "cell_type": "code",
      "metadata": {
        "colab": {
          "base_uri": "https://localhost:8080/",
          "height": 297
        },
        "id": "8KAoxLrulJEL",
        "outputId": "ad4b3c87-88d0-4ab0-e76b-fae799982ab9"
      },
      "source": [
        "# Se comparan los valores de y_val y y_predict\n",
        "values = pd.DataFrame({'Actual': y_val, 'Predicted': y_predict})\n",
        "values.head(8)"
      ],
      "execution_count": null,
      "outputs": [
        {
          "output_type": "execute_result",
          "data": {
            "text/html": [
              "<div>\n",
              "<style scoped>\n",
              "    .dataframe tbody tr th:only-of-type {\n",
              "        vertical-align: middle;\n",
              "    }\n",
              "\n",
              "    .dataframe tbody tr th {\n",
              "        vertical-align: top;\n",
              "    }\n",
              "\n",
              "    .dataframe thead th {\n",
              "        text-align: right;\n",
              "    }\n",
              "</style>\n",
              "<table border=\"1\" class=\"dataframe\">\n",
              "  <thead>\n",
              "    <tr style=\"text-align: right;\">\n",
              "      <th></th>\n",
              "      <th>Actual</th>\n",
              "      <th>Predicted</th>\n",
              "    </tr>\n",
              "  </thead>\n",
              "  <tbody>\n",
              "    <tr>\n",
              "      <th>321</th>\n",
              "      <td>0.0</td>\n",
              "      <td>0.0</td>\n",
              "    </tr>\n",
              "    <tr>\n",
              "      <th>435</th>\n",
              "      <td>1.0</td>\n",
              "      <td>1.0</td>\n",
              "    </tr>\n",
              "    <tr>\n",
              "      <th>577</th>\n",
              "      <td>1.0</td>\n",
              "      <td>0.0</td>\n",
              "    </tr>\n",
              "    <tr>\n",
              "      <th>543</th>\n",
              "      <td>1.0</td>\n",
              "      <td>1.0</td>\n",
              "    </tr>\n",
              "    <tr>\n",
              "      <th>482</th>\n",
              "      <td>0.0</td>\n",
              "      <td>0.0</td>\n",
              "    </tr>\n",
              "    <tr>\n",
              "      <th>622</th>\n",
              "      <td>0.0</td>\n",
              "      <td>0.0</td>\n",
              "    </tr>\n",
              "    <tr>\n",
              "      <th>437</th>\n",
              "      <td>0.0</td>\n",
              "      <td>0.0</td>\n",
              "    </tr>\n",
              "    <tr>\n",
              "      <th>68</th>\n",
              "      <td>0.0</td>\n",
              "      <td>0.0</td>\n",
              "    </tr>\n",
              "  </tbody>\n",
              "</table>\n",
              "</div>"
            ],
            "text/plain": [
              "     Actual  Predicted\n",
              "321     0.0        0.0\n",
              "435     1.0        1.0\n",
              "577     1.0        0.0\n",
              "543     1.0        1.0\n",
              "482     0.0        0.0\n",
              "622     0.0        0.0\n",
              "437     0.0        0.0\n",
              "68      0.0        0.0"
            ]
          },
          "metadata": {
            "tags": []
          },
          "execution_count": 95
        }
      ]
    },
    {
      "cell_type": "code",
      "metadata": {
        "colab": {
          "base_uri": "https://localhost:8080/",
          "height": 267
        },
        "id": "UsWVWOgm6-8F",
        "outputId": "f416886d-6a3a-4d53-a73f-747265754e02"
      },
      "source": [
        "# Se implementa la matriz de confusión\n",
        "cf_matrix = confusion_matrix(y_val, y_predict)\n",
        "group_names = ['True Neg', 'False Pos', 'False Neg', 'True Pos']\n",
        "group_counts = ['{0:0.0f}'.format(value) for value in cf_matrix.flatten()]\n",
        "group_percentages = ['{0:.2%}'.format(value) for value in cf_matrix.flatten()/np.sum(cf_matrix)]\n",
        "labels = [f'{v1}\\n{v2}\\n{v3}' for v1, v2, v3 in zip(group_names,group_counts,group_percentages)]\n",
        "labels = np.asarray(labels).reshape(2,2)\n",
        "\n",
        "sns.heatmap(cf_matrix, annot=labels, fmt='', cmap='Greens')\n",
        "plt.show()"
      ],
      "execution_count": null,
      "outputs": [
        {
          "output_type": "display_data",
          "data": {
            "image/png": "[encoded data removed]",
            "text/plain": [
              "<Figure size 432x288 with 2 Axes>"
            ]
          },
          "metadata": {
            "tags": [],
            "needs_background": "light"
          }
        }
      ]
    },
    {
      "cell_type": "markdown",
      "metadata": {
        "id": "rNbnykxMkhPk"
      },
      "source": [
        "**Logistic Regression**"
      ]
    },
    {
      "cell_type": "code",
      "metadata": {
        "id": "Fvb-eQ-2kefg"
      },
      "source": [
        "clf_LR = LogisticRegression()"
      ],
      "execution_count": null,
      "outputs": []
    },
    {
      "cell_type": "code",
      "metadata": {
        "colab": {
          "base_uri": "https://localhost:8080/"
        },
        "id": "pP8NFU3_kefo",
        "outputId": "ee19aa44-aef1-4d8e-8959-8958a3cd5f16"
      },
      "source": [
        "# Se utilizan algunas métricas para evaluar el modelo)\n",
        "accuracy = np.around(cross_val_score(clf_LR, X, y, cv=5), decimals=3)\n",
        "recall = np.around(cross_val_score(clf_LR, X, y, cv=5, scoring='recall'), decimals=3)\n",
        "f1 = np.around(cross_val_score(clf_LR, X, y, cv=5, scoring='f1'), decimals=3)\n",
        "\n",
        "print(f'''Logistic Regression Metrics\\n\n",
        "Accuracy:\n",
        "array: {accuracy.tolist()}\n",
        "mean: {round(np.mean(accuracy), 3)}\n",
        "std: {round(np.std(accuracy), 3)}\\n\n",
        "Recall:\n",
        "array: {recall.tolist()}\n",
        "mean: {round(np.mean(recall), 3)}\n",
        "std: {round(np.std(recall), 3)}\\n\n",
        "f1-score:\n",
        "array: {f1.tolist()}\n",
        "mean: {round(np.mean(f1), 3)}\n",
        "std: {round(np.std(f1), 3)}''')"
      ],
      "execution_count": null,
      "outputs": [
        {
          "output_type": "stream",
          "text": [
            "Decision Tree Metrics\n",
            "\n",
            "Accuracy:\n",
            "array: [0.812, 0.84, 0.783, 0.853, 0.811]\n",
            "mean: 0.82\n",
            "std: 0.025\n",
            "\n",
            "Recall:\n",
            "array: [0.89, 0.877, 0.795, 0.932, 0.808]\n",
            "mean: 0.86\n",
            "std: 0.052\n",
            "\n",
            "f1-score:\n",
            "array: [0.828, 0.848, 0.789, 0.866, 0.814]\n",
            "mean: 0.829\n",
            "std: 0.027\n"
          ],
          "name": "stdout"
        }
      ]
    },
    {
      "cell_type": "code",
      "metadata": {
        "colab": {
          "base_uri": "https://localhost:8080/"
        },
        "id": "HcsLhQeFkefp",
        "outputId": "147ee5bc-dcee-4bd2-905f-d485f7d14c7f"
      },
      "source": [
        "# Se entrena el clasificador\n",
        "clf_LR.fit(X_train, y_train)"
      ],
      "execution_count": null,
      "outputs": [
        {
          "output_type": "execute_result",
          "data": {
            "text/plain": [
              "LogisticRegression(C=1.0, class_weight=None, dual=False, fit_intercept=True,\n",
              "                   intercept_scaling=1, l1_ratio=None, max_iter=100,\n",
              "                   multi_class='auto', n_jobs=None, penalty='l2',\n",
              "                   random_state=None, solver='lbfgs', tol=0.0001, verbose=0,\n",
              "                   warm_start=False)"
            ]
          },
          "metadata": {
            "tags": []
          },
          "execution_count": 99
        }
      ]
    },
    {
      "cell_type": "code",
      "metadata": {
        "colab": {
          "base_uri": "https://localhost:8080/"
        },
        "id": "dN1s5CFbkefq",
        "outputId": "eea9ac61-0b01-49ff-9fd2-29831feb9213"
      },
      "source": [
        "# Se realiza la prediccion de validación\n",
        "y_predict = clf_LR.predict(X_val)\n",
        "recall_score(y_val, y_predict)"
      ],
      "execution_count": null,
      "outputs": [
        {
          "output_type": "execute_result",
          "data": {
            "text/plain": [
              "0.8761061946902655"
            ]
          },
          "metadata": {
            "tags": []
          },
          "execution_count": 100
        }
      ]
    },
    {
      "cell_type": "code",
      "metadata": {
        "colab": {
          "base_uri": "https://localhost:8080/",
          "height": 297
        },
        "id": "5J0kJ-Ngkefq",
        "outputId": "ea2c7058-4bde-4e42-b029-fe96755e814e"
      },
      "source": [
        "# Se comparan los valores de y_val y y_predict\n",
        "values = pd.DataFrame({'Actual': y_val, 'Predicted': y_predict})\n",
        "values.head(8)"
      ],
      "execution_count": null,
      "outputs": [
        {
          "output_type": "execute_result",
          "data": {
            "text/html": [
              "<div>\n",
              "<style scoped>\n",
              "    .dataframe tbody tr th:only-of-type {\n",
              "        vertical-align: middle;\n",
              "    }\n",
              "\n",
              "    .dataframe tbody tr th {\n",
              "        vertical-align: top;\n",
              "    }\n",
              "\n",
              "    .dataframe thead th {\n",
              "        text-align: right;\n",
              "    }\n",
              "</style>\n",
              "<table border=\"1\" class=\"dataframe\">\n",
              "  <thead>\n",
              "    <tr style=\"text-align: right;\">\n",
              "      <th></th>\n",
              "      <th>Actual</th>\n",
              "      <th>Predicted</th>\n",
              "    </tr>\n",
              "  </thead>\n",
              "  <tbody>\n",
              "    <tr>\n",
              "      <th>321</th>\n",
              "      <td>0.0</td>\n",
              "      <td>0.0</td>\n",
              "    </tr>\n",
              "    <tr>\n",
              "      <th>435</th>\n",
              "      <td>1.0</td>\n",
              "      <td>1.0</td>\n",
              "    </tr>\n",
              "    <tr>\n",
              "      <th>577</th>\n",
              "      <td>1.0</td>\n",
              "      <td>1.0</td>\n",
              "    </tr>\n",
              "    <tr>\n",
              "      <th>543</th>\n",
              "      <td>1.0</td>\n",
              "      <td>1.0</td>\n",
              "    </tr>\n",
              "    <tr>\n",
              "      <th>482</th>\n",
              "      <td>0.0</td>\n",
              "      <td>0.0</td>\n",
              "    </tr>\n",
              "    <tr>\n",
              "      <th>622</th>\n",
              "      <td>0.0</td>\n",
              "      <td>1.0</td>\n",
              "    </tr>\n",
              "    <tr>\n",
              "      <th>437</th>\n",
              "      <td>0.0</td>\n",
              "      <td>0.0</td>\n",
              "    </tr>\n",
              "    <tr>\n",
              "      <th>68</th>\n",
              "      <td>0.0</td>\n",
              "      <td>0.0</td>\n",
              "    </tr>\n",
              "  </tbody>\n",
              "</table>\n",
              "</div>"
            ],
            "text/plain": [
              "     Actual  Predicted\n",
              "321     0.0        0.0\n",
              "435     1.0        1.0\n",
              "577     1.0        1.0\n",
              "543     1.0        1.0\n",
              "482     0.0        0.0\n",
              "622     0.0        1.0\n",
              "437     0.0        0.0\n",
              "68      0.0        0.0"
            ]
          },
          "metadata": {
            "tags": []
          },
          "execution_count": 101
        }
      ]
    },
    {
      "cell_type": "code",
      "metadata": {
        "colab": {
          "base_uri": "https://localhost:8080/",
          "height": 265
        },
        "id": "IVRDPwZB7A7C",
        "outputId": "c2c475bb-9b5b-4ddf-aa33-865d821d6ce0"
      },
      "source": [
        "# Se implementa la matriz de confusión\n",
        "cf_matrix = confusion_matrix(y_val, y_predict)\n",
        "group_names = ['True Neg', 'False Pos', 'False Neg', 'True Pos']\n",
        "group_counts = ['{0:0.0f}'.format(value) for value in cf_matrix.flatten()]\n",
        "group_percentages = ['{0:.2%}'.format(value) for value in cf_matrix.flatten()/np.sum(cf_matrix)]\n",
        "labels = [f'{v1}\\n{v2}\\n{v3}' for v1, v2, v3 in zip(group_names,group_counts,group_percentages)]\n",
        "labels = np.asarray(labels).reshape(2,2)\n",
        "\n",
        "sns.heatmap(cf_matrix, annot=labels, fmt='', cmap='Greens')\n",
        "plt.show()"
      ],
      "execution_count": null,
      "outputs": [
        {
          "output_type": "display_data",
          "data": {
            "image/png": "[encoded data removed]",
            "text/plain": [
              "<Figure size 432x288 with 2 Axes>"
            ]
          },
          "metadata": {
            "tags": [],
            "needs_background": "light"
          }
        }
      ]
    },
    {
      "cell_type": "markdown",
      "metadata": {
        "id": "Cg0oUODVmGCN"
      },
      "source": [
        "#**6. Evaluación final sobre dataset de test**"
      ]
    },
    {
      "cell_type": "code",
      "metadata": {
        "id": "7l_MNW_dtMvu"
      },
      "source": [
        "# Usar un pipeline para estandarizar el dataframe de test\n",
        "pipe = Pipeline([('scaler', StandardScaler())])"
      ],
      "execution_count": null,
      "outputs": []
    },
    {
      "cell_type": "code",
      "metadata": {
        "id": "8l18c5iytMvv"
      },
      "source": [
        "# Agrupar todos los datos al aplicar el pipeline en el DataFrame de test, a excepción de la variable 'target'\n",
        "ct = ColumnTransformer([('pipe', pipe, [0, 1, 2, 3, 4, 5])], remainder='passthrough')\n",
        "test_data = ct.fit_transform(test)"
      ],
      "execution_count": null,
      "outputs": []
    },
    {
      "cell_type": "code",
      "metadata": {
        "colab": {
          "base_uri": "https://localhost:8080/",
          "height": 204
        },
        "id": "pj-GLjmYtMvx",
        "outputId": "7b6fce5f-33e1-4ac1-d00b-0859e9105ee4"
      },
      "source": [
        "# Se crea el nuevo dataframe de test con los datos procesados\n",
        "new_test = pd.DataFrame(test_data, columns=columns_df)\n",
        "new_test.head()"
      ],
      "execution_count": null,
      "outputs": [
        {
          "output_type": "execute_result",
          "data": {
            "text/html": [
              "<div>\n",
              "<style scoped>\n",
              "    .dataframe tbody tr th:only-of-type {\n",
              "        vertical-align: middle;\n",
              "    }\n",
              "\n",
              "    .dataframe tbody tr th {\n",
              "        vertical-align: top;\n",
              "    }\n",
              "\n",
              "    .dataframe thead th {\n",
              "        text-align: right;\n",
              "    }\n",
              "</style>\n",
              "<table border=\"1\" class=\"dataframe\">\n",
              "  <thead>\n",
              "    <tr style=\"text-align: right;\">\n",
              "      <th></th>\n",
              "      <th>cp</th>\n",
              "      <th>thalach</th>\n",
              "      <th>exang</th>\n",
              "      <th>oldpeak</th>\n",
              "      <th>slope</th>\n",
              "      <th>ca</th>\n",
              "      <th>target</th>\n",
              "    </tr>\n",
              "  </thead>\n",
              "  <tbody>\n",
              "    <tr>\n",
              "      <th>0</th>\n",
              "      <td>-0.964422</td>\n",
              "      <td>-0.029867</td>\n",
              "      <td>1.532262</td>\n",
              "      <td>-0.880596</td>\n",
              "      <td>0.986743</td>\n",
              "      <td>1.144614</td>\n",
              "      <td>0.0</td>\n",
              "    </tr>\n",
              "    <tr>\n",
              "      <th>1</th>\n",
              "      <td>0.003141</td>\n",
              "      <td>0.957359</td>\n",
              "      <td>-0.652630</td>\n",
              "      <td>-0.880596</td>\n",
              "      <td>0.986743</td>\n",
              "      <td>-0.720683</td>\n",
              "      <td>1.0</td>\n",
              "    </tr>\n",
              "    <tr>\n",
              "      <th>2</th>\n",
              "      <td>-0.964422</td>\n",
              "      <td>-0.837598</td>\n",
              "      <td>1.532262</td>\n",
              "      <td>0.660934</td>\n",
              "      <td>0.986743</td>\n",
              "      <td>2.077262</td>\n",
              "      <td>0.0</td>\n",
              "    </tr>\n",
              "    <tr>\n",
              "      <th>3</th>\n",
              "      <td>-0.964422</td>\n",
              "      <td>0.463746</td>\n",
              "      <td>-0.652630</td>\n",
              "      <td>-0.452394</td>\n",
              "      <td>-0.683130</td>\n",
              "      <td>-0.720683</td>\n",
              "      <td>1.0</td>\n",
              "    </tr>\n",
              "    <tr>\n",
              "      <th>4</th>\n",
              "      <td>0.970705</td>\n",
              "      <td>0.957359</td>\n",
              "      <td>1.532262</td>\n",
              "      <td>-0.880596</td>\n",
              "      <td>0.986743</td>\n",
              "      <td>-0.720683</td>\n",
              "      <td>1.0</td>\n",
              "    </tr>\n",
              "  </tbody>\n",
              "</table>\n",
              "</div>"
            ],
            "text/plain": [
              "         cp   thalach     exang   oldpeak     slope        ca  target\n",
              "0 -0.964422 -0.029867  1.532262 -0.880596  0.986743  1.144614     0.0\n",
              "1  0.003141  0.957359 -0.652630 -0.880596  0.986743 -0.720683     1.0\n",
              "2 -0.964422 -0.837598  1.532262  0.660934  0.986743  2.077262     0.0\n",
              "3 -0.964422  0.463746 -0.652630 -0.452394 -0.683130 -0.720683     1.0\n",
              "4  0.970705  0.957359  1.532262 -0.880596  0.986743 -0.720683     1.0"
            ]
          },
          "metadata": {
            "tags": []
          },
          "execution_count": 105
        }
      ]
    },
    {
      "cell_type": "code",
      "metadata": {
        "id": "zhGV27ugrYJC"
      },
      "source": [
        "# Se divide el dataset de test en X_test y y_test\n",
        "X_test = new_test[columns_df[:6]]\n",
        "y_test = new_test['target']"
      ],
      "execution_count": null,
      "outputs": []
    },
    {
      "cell_type": "code",
      "metadata": {
        "id": "0zDKFDVNmMJU"
      },
      "source": [
        "def clasificar(clf, X, umbral):\n",
        "  \n",
        "  \"\"\"Función que determina si para un conjunto de muestras,\n",
        "      cada muestra pertenece o no a la clase\n",
        "\n",
        "  Args:\n",
        "      clf: clasificador entrenado\n",
        "      X: matriz de variables de entrada\n",
        "      umbral: valor a tener en cuenta para determinar si una muestra es \n",
        "      de la clase 1 o no\n",
        "      basado en las probabilidades retornadas por el clasificador.\n",
        "  Returns:\n",
        "      y: Devuelve un arreglo correspondiente a las clases encontradas para cada \n",
        "      una de las muestras\n",
        "\n",
        "  \"\"\"\n",
        "  y_pred_proba = clf.predict_proba(X)\n",
        "  return [0 if x[0] > umbral else 1 for x in y_pred_proba]\n"
      ],
      "execution_count": null,
      "outputs": []
    },
    {
      "cell_type": "markdown",
      "metadata": {
        "id": "bZXVLcTRrRJQ"
      },
      "source": [
        "**Decision Tree**"
      ]
    },
    {
      "cell_type": "code",
      "metadata": {
        "colab": {
          "base_uri": "https://localhost:8080/"
        },
        "id": "TmrRSEOH4gV4",
        "outputId": "80d7de4c-f221-4b9e-dca7-9b2f182dddeb"
      },
      "source": [
        "# Se realiza la predicción de y_test para evaluar el modelo mediant las métricas correspondientes\n",
        "y_pred = clf_DT.predict(X_test)\n",
        "print(f'''Accuracy: {accuracy_score(y_test, y_pred)}\n",
        "Recall: {recall_score(y_test, y_pred)}\n",
        "f1-score: {f1_score(y_test, y_pred)}''')"
      ],
      "execution_count": null,
      "outputs": [
        {
          "output_type": "stream",
          "text": [
            "Accuracy: 0.8441558441558441\n",
            "Recall: 0.8633540372670807\n",
            "f1-score: 0.852760736196319\n"
          ],
          "name": "stdout"
        }
      ]
    },
    {
      "cell_type": "code",
      "metadata": {
        "colab": {
          "base_uri": "https://localhost:8080/",
          "height": 295
        },
        "id": "EmzWQtx8rBnd",
        "outputId": "e676b9e4-6315-4338-fe0c-22f636830e10"
      },
      "source": [
        "# Se crea la curva Precision vs Recall\n",
        "i = []; j = []\n",
        "\n",
        "for k in range(1, 11):\n",
        "  clasif = clasificar(clf_DT, X_test, k*0.1)\n",
        "  i.append(recall_score(y_test, clasif))\n",
        "  j.append(precision_score(y_test, clasif))\n",
        "\n",
        "plt.plot(i, j)\n",
        "plt.title('Precision vs Recall')\n",
        "plt.xlabel('Recall')\n",
        "plt.ylabel('Precision')\n",
        "plt.show()"
      ],
      "execution_count": null,
      "outputs": [
        {
          "output_type": "display_data",
          "data": {
            "image/png": "[encoded data removed]",
            "text/plain": [
              "<Figure size 432x288 with 1 Axes>"
            ]
          },
          "metadata": {
            "tags": [],
            "needs_background": "light"
          }
        }
      ]
    },
    {
      "cell_type": "code",
      "metadata": {
        "colab": {
          "base_uri": "https://localhost:8080/",
          "height": 295
        },
        "id": "AyY5MOTlr3-9",
        "outputId": "6436fe68-6809-4aff-ed68-b8dd149f942c"
      },
      "source": [
        "# Se crea la curva ROC (TPR vs FPR)\n",
        "TPR = []\n",
        "FPR = []\n",
        "\n",
        "for k in range(0, 10):\n",
        "  clasif = clasificar(clf_LR, X_test, k*0.1)\n",
        "  TPR.append(recall_score(y_test, clasif))\n",
        "  FPR.append(1 - recall_score(np.logical_not(y_test), np.logical_not(clasif)))\n",
        "\n",
        "plt.plot(FPR, TPR)\n",
        "plt.title('TPR vs FPR')\n",
        "plt.xlabel('FPR')\n",
        "plt.ylabel('TPR')\n",
        "plt.show()"
      ],
      "execution_count": null,
      "outputs": [
        {
          "output_type": "display_data",
          "data": {
            "image/png": "[encoded data removed]",
            "text/plain": [
              "<Figure size 432x288 with 1 Axes>"
            ]
          },
          "metadata": {
            "tags": [],
            "needs_background": "light"
          }
        }
      ]
    },
    {
      "cell_type": "markdown",
      "metadata": {
        "id": "7tih56Yn2cyf"
      },
      "source": [
        "**K-Nearest Neighbors**"
      ]
    },
    {
      "cell_type": "code",
      "metadata": {
        "colab": {
          "base_uri": "https://localhost:8080/"
        },
        "id": "zQ726fEU5tPY",
        "outputId": "6f68c308-60b6-4c12-80a2-c641a2540890"
      },
      "source": [
        "# Se realiza la predicción de y_test para evaluar el modelo mediant las métricas correspondientes\n",
        "y_pred = clf_KNN.predict(X_test)\n",
        "print(f'''Accuracy: {accuracy_score(y_test, y_pred)}\n",
        "Recall: {recall_score(y_test, y_pred)}\n",
        "f1-score: {f1_score(y_test, y_pred)}''')"
      ],
      "execution_count": null,
      "outputs": [
        {
          "output_type": "stream",
          "text": [
            "Accuracy: 0.948051948051948\n",
            "Recall: 0.9503105590062112\n",
            "f1-score: 0.9503105590062112\n"
          ],
          "name": "stdout"
        }
      ]
    },
    {
      "cell_type": "code",
      "metadata": {
        "colab": {
          "base_uri": "https://localhost:8080/",
          "height": 295
        },
        "id": "RjjupzdT2cyy",
        "outputId": "1be59f76-0593-43ef-b78f-b1dd6ecbb7bf"
      },
      "source": [
        "# Se crea la curva Precision vs Recall\n",
        "i = []; j = []\n",
        "\n",
        "for k in range(1, 11):\n",
        "  clasif = clasificar(clf_KNN, X_test, k*0.1)\n",
        "  i.append(recall_score(y_test, clasif))\n",
        "  j.append(precision_score(y_test, clasif))\n",
        "\n",
        "plt.plot(i, j)\n",
        "plt.title('Precision vs Recall')\n",
        "plt.xlabel('Recall')\n",
        "plt.ylabel('Precision')\n",
        "plt.show()"
      ],
      "execution_count": null,
      "outputs": [
        {
          "output_type": "display_data",
          "data": {
            "image/png": "[encoded data removed]",
            "text/plain": [
              "<Figure size 432x288 with 1 Axes>"
            ]
          },
          "metadata": {
            "tags": [],
            "needs_background": "light"
          }
        }
      ]
    },
    {
      "cell_type": "code",
      "metadata": {
        "colab": {
          "base_uri": "https://localhost:8080/",
          "height": 295
        },
        "id": "tEFS2Pi72cyz",
        "outputId": "3022054c-73fc-441c-efc7-ba41b88ecb64"
      },
      "source": [
        "# Se crea la curva ROC (TPR vs FPR)\n",
        "TPR = []\n",
        "FPR = []\n",
        "\n",
        "for k in range(0, 10):\n",
        "  clasif = clasificar(clf_KNN, X_test, k*0.1)\n",
        "  TPR.append(recall_score(y_test, clasif))\n",
        "  FPR.append(1 - recall_score(np.logical_not(y_test), np.logical_not(clasif)))\n",
        "\n",
        "plt.plot(FPR, TPR)\n",
        "plt.title('TPR vs FPR')\n",
        "plt.xlabel('FPR')\n",
        "plt.ylabel('TPR')\n",
        "plt.show()"
      ],
      "execution_count": null,
      "outputs": [
        {
          "output_type": "display_data",
          "data": {
            "image/png": "[encoded data removed]",
            "text/plain": [
              "<Figure size 432x288 with 1 Axes>"
            ]
          },
          "metadata": {
            "tags": [],
            "needs_background": "light"
          }
        }
      ]
    },
    {
      "cell_type": "markdown",
      "metadata": {
        "id": "NsKwpXAO3khe"
      },
      "source": [
        "**Logistic Regression**"
      ]
    },
    {
      "cell_type": "code",
      "metadata": {
        "colab": {
          "base_uri": "https://localhost:8080/"
        },
        "id": "t2dPgQ7u5yHm",
        "outputId": "0df9fd08-2125-49da-bec6-9b4c147ab2c3"
      },
      "source": [
        "# Se realiza la predicción de y_test para evaluar el modelo mediant las métricas correspondientes\n",
        "y_pred = clf_LR.predict(X_test)\n",
        "print(f'''Accuracy: {accuracy_score(y_test, y_pred)}\n",
        "Recall: {recall_score(y_test, y_pred)}\n",
        "f1-score: {f1_score(y_test, y_pred)}''')"
      ],
      "execution_count": null,
      "outputs": [
        {
          "output_type": "stream",
          "text": [
            "Accuracy: 0.7954545454545454\n",
            "Recall: 0.8385093167701864\n",
            "f1-score: 0.8108108108108109\n"
          ],
          "name": "stdout"
        }
      ]
    },
    {
      "cell_type": "code",
      "metadata": {
        "colab": {
          "base_uri": "https://localhost:8080/",
          "height": 295
        },
        "id": "TFPfnkP73khg",
        "outputId": "623cbdc6-f339-4f49-a926-f4b0a19fa9ee"
      },
      "source": [
        "# Se crea la curva Precision vs Recall\n",
        "i = []; j = []\n",
        "\n",
        "for k in range(1, 11):\n",
        "  clasif = clasificar(clf_LR, X_test, k*0.1)\n",
        "  i.append(recall_score(y_test, clasif))\n",
        "  j.append(precision_score(y_test, clasif))\n",
        "\n",
        "plt.plot(i, j)\n",
        "plt.title('Precision vs Recall')\n",
        "plt.xlabel('Recall')\n",
        "plt.ylabel('Precision')\n",
        "plt.show()"
      ],
      "execution_count": null,
      "outputs": [
        {
          "output_type": "display_data",
          "data": {
            "image/png": "[encoded data removed]",
            "text/plain": [
              "<Figure size 432x288 with 1 Axes>"
            ]
          },
          "metadata": {
            "tags": [],
            "needs_background": "light"
          }
        }
      ]
    },
    {
      "cell_type": "code",
      "metadata": {
        "colab": {
          "base_uri": "https://localhost:8080/",
          "height": 295
        },
        "id": "8gaYbs4o3khh",
        "outputId": "9d14ba6f-e847-496a-fe85-71457994bbee"
      },
      "source": [
        "# Se crea la curva ROC (TPR vs FPR)\n",
        "TPR = []\n",
        "FPR = []\n",
        "\n",
        "for k in range(0, 10):\n",
        "  clasif = clasificar(clf_LR, X_test, k*0.1)\n",
        "  TPR.append(recall_score(y_test, clasif))\n",
        "  FPR.append(1 - recall_score(np.logical_not(y_test), np.logical_not(clasif)))\n",
        "\n",
        "plt.plot(FPR, TPR)\n",
        "plt.title('TPR vs FPR')\n",
        "plt.xlabel('FPR')\n",
        "plt.ylabel('TPR')\n",
        "plt.show()"
      ],
      "execution_count": null,
      "outputs": [
        {
          "output_type": "display_data",
          "data": {
            "image/png": "[encoded data removed]",
            "text/plain": [
              "<Figure size 432x288 with 1 Axes>"
            ]
          },
          "metadata": {
            "tags": [],
            "needs_background": "light"
          }
        }
      ]
    },
    {
      "cell_type": "markdown",
      "metadata": {
        "id": "-B2jDPbhiw84"
      },
      "source": [
        "##**Análisis Final**\n",
        "\n",
        "* Teniendo en cuenta los algoritmos implementados, se puede concluir que al utilizar **Decision Tree** hubo un mayor rendimiento o resultados al realizar el entrenamiento del modelo, aunque es muy cercano al de **KNN**. Por otro lado, con la implementación del algoritmo **KNN** se logró un rendimiento más alto en la etapa de test con respecto a los demás algoritmos.\n",
        "\n",
        "* Al usar el algoritmo **Logistic Regression** se obtuvieron los datos más bajos, sin embargo superan el 80% por lo que se puede considerar como un buen modelo.\n",
        "\n",
        "* Con las variables escogidas se obtuvo el mayor rendimiento posible, esto debido a los valores de correlación que, aunque no sean tan altos en general, son los más altos en este dataset.\n",
        "\n",
        "* Al realizar la evaluación final sobre el dataset de test, las gráficas de curvas **ROC** y **Precision vs Recall** halladas para cada algoritmo presentan una tendencia ideal con respecto a los valores esperados, esto debido a los altos rendimientos en cada modelo como ya se ha mencionado anteriormente."
      ]
    },
    {
      "cell_type": "code",
      "metadata": {
        "id": "dpoDKnYs3MPS"
      },
      "source": [
        ""
      ],
      "execution_count": null,
      "outputs": []
    }
  ]
}