{
  "nbformat": 4,
  "nbformat_minor": 0,
  "metadata": {
    "colab": {
      "name": "Robot_IA_DanielGomez.ipynb",
      "provenance": [],
      "collapsed_sections": []
    },
    "kernelspec": {
      "name": "python3",
      "display_name": "Python 3"
    },
    "widgets": {
      "application/vnd.jupyter.widget-state+json": {
        "393757cd87bf4d6aa4b9b594c5a0e44f": {
          "model_module": "@jupyter-widgets/controls",
          "model_name": "HTMLModel",
          "model_module_version": "1.5.0",
          "state": {
            "_view_name": "HTMLView",
            "style": "IPY_MODEL_f468069ed2914960bd0885b1f82b1eeb",
            "_dom_classes": [],
            "description": "",
            "_model_name": "HTMLModel",
            "placeholder": "​",
            "_view_module": "@jupyter-widgets/controls",
            "_model_module_version": "1.5.0",
            "value": "",
            "_view_count": null,
            "_view_module_version": "1.5.0",
            "description_tooltip": null,
            "_model_module": "@jupyter-widgets/controls",
            "layout": "IPY_MODEL_0da5c5a91a9346e7a8c1b25de99c0aae"
          }
        },
        "f468069ed2914960bd0885b1f82b1eeb": {
          "model_module": "@jupyter-widgets/controls",
          "model_name": "DescriptionStyleModel",
          "model_module_version": "1.5.0",
          "state": {
            "_view_name": "StyleView",
            "_model_name": "DescriptionStyleModel",
            "description_width": "",
            "_view_module": "@jupyter-widgets/base",
            "_model_module_version": "1.5.0",
            "_view_count": null,
            "_view_module_version": "1.2.0",
            "_model_module": "@jupyter-widgets/controls"
          }
        },
        "0da5c5a91a9346e7a8c1b25de99c0aae": {
          "model_module": "@jupyter-widgets/base",
          "model_name": "LayoutModel",
          "model_module_version": "1.2.0",
          "state": {
            "_view_name": "LayoutView",
            "grid_template_rows": null,
            "right": null,
            "justify_content": null,
            "_view_module": "@jupyter-widgets/base",
            "overflow": null,
            "_model_module_version": "1.2.0",
            "_view_count": null,
            "flex_flow": null,
            "width": null,
            "min_width": null,
            "border": null,
            "align_items": null,
            "bottom": null,
            "_model_module": "@jupyter-widgets/base",
            "top": null,
            "grid_column": null,
            "overflow_y": null,
            "overflow_x": null,
            "grid_auto_flow": null,
            "grid_area": null,
            "grid_template_columns": null,
            "flex": null,
            "_model_name": "LayoutModel",
            "justify_items": null,
            "grid_row": null,
            "max_height": null,
            "align_content": null,
            "visibility": null,
            "align_self": null,
            "height": null,
            "min_height": null,
            "padding": null,
            "grid_auto_rows": null,
            "grid_gap": null,
            "max_width": null,
            "order": null,
            "_view_module_version": "1.2.0",
            "grid_template_areas": null,
            "object_position": null,
            "object_fit": null,
            "grid_auto_columns": null,
            "margin": null,
            "display": null,
            "left": null
          }
        },
        "307f5e2046a340ff8471192a1c73a1f4": {
          "model_module": "@jupyter-widgets/controls",
          "model_name": "HTMLModel",
          "model_module_version": "1.5.0",
          "state": {
            "_view_name": "HTMLView",
            "style": "IPY_MODEL_491bf94ae6e9417e8f309abe53586fe1",
            "_dom_classes": [],
            "description": "",
            "_model_name": "HTMLModel",
            "placeholder": "​",
            "_view_module": "@jupyter-widgets/controls",
            "_model_module_version": "1.5.0",
            "value": "<table border='1' ><tr><td style='height:40px;width:40px'></td><td style='height:40px;width:40px'></td><td style='height:40px;width:40px'></td><td style='height:40px;width:40px'></td><td style='height:40px;width:40px'></td></tr><tr><td style='height:40px;width:40px'></td><td style='height:40px;width:40px'><span style='font-size:30px;'>🗑️</span></td><td style='height:40px;width:40px'></td><td style='height:40px;width:40px'></td><td style='height:40px;width:40px'></td></tr><tr><td style='height:40px;width:40px'></td><td style='height:40px;width:40px'></td><td style='height:40px;width:40px'></td><td style='height:40px;width:40px'></td><td style='height:40px;width:40px'></td></tr><tr><td style='height:40px;width:40px'></td><td style='height:40px;width:40px'></td><td style='height:40px;width:40px'></td><td style='height:40px;width:40px'></td><td style='height:40px;width:40px'></td></tr><tr><td style='height:40px;width:40px'><span style='font-size:30px;'>🤖</span></td><td style='height:40px;width:40px'></td><td style='height:40px;width:40px'></td><td style='height:40px;width:40px'></td><td style='height:40px;width:40px'></td></tr><tr><td style='height:40px;width:40px'></td><td style='height:40px;width:40px'></td><td style='height:40px;width:40px'></td><td style='height:40px;width:40px'></td><td style='height:40px;width:40px'></td></tr><tr><td style='height:40px;width:40px'></td><td style='height:40px;width:40px'></td><td style='height:40px;width:40px'></td><td style='height:40px;width:40px'></td><td style='height:40px;width:40px'></td></tr></table>",
            "_view_count": null,
            "_view_module_version": "1.5.0",
            "description_tooltip": null,
            "_model_module": "@jupyter-widgets/controls",
            "layout": "IPY_MODEL_3d6097cd651345c481c44eb0b57e8817"
          }
        },
        "491bf94ae6e9417e8f309abe53586fe1": {
          "model_module": "@jupyter-widgets/controls",
          "model_name": "DescriptionStyleModel",
          "model_module_version": "1.5.0",
          "state": {
            "_view_name": "StyleView",
            "_model_name": "DescriptionStyleModel",
            "description_width": "",
            "_view_module": "@jupyter-widgets/base",
            "_model_module_version": "1.5.0",
            "_view_count": null,
            "_view_module_version": "1.2.0",
            "_model_module": "@jupyter-widgets/controls"
          }
        },
        "3d6097cd651345c481c44eb0b57e8817": {
          "model_module": "@jupyter-widgets/base",
          "model_name": "LayoutModel",
          "model_module_version": "1.2.0",
          "state": {
            "_view_name": "LayoutView",
            "grid_template_rows": null,
            "right": null,
            "justify_content": null,
            "_view_module": "@jupyter-widgets/base",
            "overflow": null,
            "_model_module_version": "1.2.0",
            "_view_count": null,
            "flex_flow": null,
            "width": null,
            "min_width": null,
            "border": null,
            "align_items": null,
            "bottom": null,
            "_model_module": "@jupyter-widgets/base",
            "top": null,
            "grid_column": null,
            "overflow_y": null,
            "overflow_x": null,
            "grid_auto_flow": null,
            "grid_area": null,
            "grid_template_columns": null,
            "flex": null,
            "_model_name": "LayoutModel",
            "justify_items": null,
            "grid_row": null,
            "max_height": null,
            "align_content": null,
            "visibility": null,
            "align_self": null,
            "height": null,
            "min_height": null,
            "padding": null,
            "grid_auto_rows": null,
            "grid_gap": null,
            "max_width": null,
            "order": null,
            "_view_module_version": "1.2.0",
            "grid_template_areas": null,
            "object_position": null,
            "object_fit": null,
            "grid_auto_columns": null,
            "margin": null,
            "display": null,
            "left": null
          }
        }
      }
    }
  },
  "cells": [
    {
      "cell_type": "code",
      "metadata": {
        "id": "b8bpZUGWjhkS"
      },
      "source": [
        "from IPython.display import display\n",
        "import ipywidgets as widgets\n",
        "import time\n",
        "import random\n",
        "\n",
        "\n",
        "class Tablero:\n",
        "  def __init__(self, tamanoc=(40, 40), numeroceldas=(5,5)):\n",
        "    self.out = widgets.HTML()\n",
        "    display(self.out)\n",
        "    self.tamanoc = tamanoc\n",
        "    self.numeroceldas = numeroceldas\n",
        "\n",
        "  def dibujar(self, agente , trashes):\n",
        "    tablero = \"<table border='1' >{}</table>\"\n",
        "    filas = \"\"\n",
        "    basuraLimpia = Agente(x=7 , y=7 , emoticon=\"🗑️\" )\n",
        "\n",
        "    \n",
        "\n",
        "    for i in range(self.numeroceldas[0]):\n",
        "      s = \"\"\n",
        "      for j in range(self.numeroceldas[1]):\n",
        "        \n",
        "\n",
        "        if agente.x == j and agente.y == i:\n",
        "          contenido = \\\n",
        "          \"<span style='font-size:{tamanoEmoticon}px;'>{emoticon}</span>\".\\\n",
        "          format(tamanoEmoticon=agente.tamanoEmoticon, emoticon=agente.emoticon)\n",
        "\n",
        "        else:\n",
        "          contenido=\"\"\n",
        "          for k in range(len(trashes)):\n",
        "            if trashes[k].x == j and trashes[k].y == i:\n",
        "              contenido = \\\n",
        "              \"<span style='font-size:{tamanoEmoticon}px;'>{emoticon}</span>\".\\\n",
        "              format(tamanoEmoticon=trash.tamanoEmoticon, emoticon=trash.emoticon)\n",
        "              break\n",
        "            else:\n",
        "              contenido=\"\"\n",
        "        s += \"<td style='height:{alto}px;width:{ancho}px'>{contenido}</td>\".\\\n",
        "        format(alto=self.tamanoc[0], ancho=self.tamanoc[1], \n",
        "               contenido=contenido)\n",
        "      filas += \"<tr>{}</tr>\".format(s)\n",
        "    tablero = tablero.format(filas)\n",
        "    \n",
        "    self.out.value=tablero\n",
        "    return trashes"
      ],
      "execution_count": null,
      "outputs": []
    },
    {
      "cell_type": "markdown",
      "metadata": {
        "id": "opV08sslHn6T"
      },
      "source": [
        "Reflexivo simple"
      ]
    },
    {
      "cell_type": "code",
      "metadata": {
        "id": "RcPuFIlhIWQS"
      },
      "source": [
        "\n",
        "class Agente:\n",
        "  def __init__(self, x=2, y=2, emoticon=\"🤖\", tamanoEmoticon=30, carga=80):\n",
        "    self.x = x\n",
        "    self.y = y\n",
        "    self.emoticon = emoticon\n",
        "    self.tamanoEmoticon = tamanoEmoticon\n",
        "    self.carga=carga\n",
        "\n",
        "  def __eq__(self, other):\n",
        "    return self.x == other.x and self.y == other.y\n",
        "\n",
        "  def __str__(self):\n",
        "    return \"(\"+str(self.x)+\",\"+str(self.y)+\",\"+self.emoticon+\")\"\n",
        "\n",
        "  def __repr__(self):\n",
        "    return self.__str__()\n",
        "\n",
        "  def movimiento_abajo(self):\n",
        "    self.y += 1\n",
        "    self.carga-=1\n",
        "    self.comprobarBasura()\n",
        "\n",
        "  def movimiento_arriba(self):\n",
        "    self.y -= 1\n",
        "    self.carga-=1\n",
        "    self.comprobarBasura()\n",
        "\n",
        "  def movimiento_arriba(self):\n",
        "    self.x += 1\n",
        "    self.carga-=1\n",
        "    self.comprobarBasura()\n",
        "\n",
        "  def movimiento_izquierda(self):\n",
        "    self.x -= 1\n",
        "    self.carga-=1\n",
        "    self.comprobarBasura()\n",
        "\n",
        "  def Movimiento(self,trashes,escenario):\n",
        "    if self.carga > 0:\n",
        "      a = 0\n",
        "      for i in range(len(trashes)):\n",
        "        a = self.buscarBasura(trashes[i])\n",
        "        if a != 0:\n",
        "          break\n",
        "      if a != 0:\n",
        "        mov = a\n",
        "      else:\n",
        "        mov = self.ValidarMov(escenario)\n",
        "      if self.carga > 0:\n",
        "        if mov == 1:\n",
        "          self.movimiento_arriba()\n",
        "        if mov == 2:\n",
        "          self.movimiento_abajo()\n",
        "        if mov == 3:\n",
        "          self.movimiento_arriba()\n",
        "        if mov == 4:\n",
        "          self.movimiento_izquierda()\n",
        "\n",
        "  def buscarBasura(self, trash):\n",
        "    if self.carga > 0:\n",
        "      self.carga-=1\n",
        "      if trash.y == (self.y-1) and trash.x == self.x:\n",
        "        return 1\n",
        "      if trash.y == (self.y+1) and trash.x == self.x:\n",
        "        return 2\n",
        "      if trash.x == (self.x+1) and trash.y == self.y:\n",
        "        return 3\n",
        "      if trash.x == (self.x-1) and trash.y == self.y:\n",
        "        return 4\n",
        "      return 0\n",
        "  \n",
        "  def comprobarBasura(self):\n",
        "    temporal = Agente(x=self.x,y=self.y)\n",
        "    if temporal in Trashes:\n",
        "      self.eliminarBasura(temporal)\n",
        "\n",
        "  def eliminarBasura(self, basura ):\n",
        "    if self.carga > 0:\n",
        "      Trashes.remove(basura)\n",
        "      self.carga-=1\n",
        "  \n",
        "  def ValidarMov(self,escenario):\n",
        "    while True:\n",
        "      mov = random.randint(1, 4)\n",
        "      if mov == 1:\n",
        "        if self.y > 0:\n",
        "          return mov\n",
        "      elif mov == 2:\n",
        "        if self.y < escenario.numeroceldas[1]-1:\n",
        "          return mov\n",
        "      elif mov == 3:\n",
        "        if self.x < escenario.numeroceldas[0]-1:\n",
        "          return mov\n",
        "      elif mov == 4:\n",
        "        if self.x > 0:\n",
        "          return mov\n",
        "    \n",
        "\n",
        "\n"
      ],
      "execution_count": null,
      "outputs": []
    },
    {
      "cell_type": "markdown",
      "metadata": {
        "id": "Ur7_avvQHxin"
      },
      "source": [
        "Funcion para generar obstaculos de manera aleatoria"
      ]
    },
    {
      "cell_type": "code",
      "metadata": {
        "id": "w-sUszoGuDgS"
      },
      "source": [
        "\n",
        "def aleatorio(cantidad,emoticon,mesa):\n",
        "  arreglo = []\n",
        "  for i in range(cantidad):\n",
        "    x=mesa.numeroceldas[0]\n",
        "    y=mesa.numeroceldas[1]\n",
        "    arreglo.append(Agente(x=random.randint(1, x),y=random.randint(1,y), emoticon=emoticon))\n",
        "  return arreglo"
      ],
      "execution_count": null,
      "outputs": []
    },
    {
      "cell_type": "markdown",
      "metadata": {
        "id": "6htLs1lOPU6y"
      },
      "source": [
        "Se generan los obstaculos de manera aleatoria"
      ]
    },
    {
      "cell_type": "code",
      "metadata": {
        "id": "YL7VEb_jm691",
        "colab": {
          "base_uri": "https://localhost:8080/",
          "height": 89,
          "referenced_widgets": [
            "393757cd87bf4d6aa4b9b594c5a0e44f",
            "f468069ed2914960bd0885b1f82b1eeb",
            "0da5c5a91a9346e7a8c1b25de99c0aae"
          ]
        },
        "outputId": "e410d8c9-9777-4d12-c81f-f36e38b5cbcd"
      },
      "source": [
        "escenario = Tablero(numeroceldas=(7,7))\n",
        "Arreglo = aleatorio(cantidad=4,emoticon=\"🧱\",mesa=escenario)\n",
        "for i in range(len(Arreglo)):\n",
        "  print(Arreglo[i])"
      ],
      "execution_count": null,
      "outputs": [
        {
          "output_type": "display_data",
          "data": {
            "application/vnd.jupyter.widget-view+json": {
              "model_id": "393757cd87bf4d6aa4b9b594c5a0e44f",
              "version_minor": 0,
              "version_major": 2
            },
            "text/plain": [
              "HTML(value='')"
            ]
          },
          "metadata": {
            "tags": []
          }
        },
        {
          "output_type": "stream",
          "text": [
            "(2,2,🧱)\n",
            "(4,3,🧱)\n",
            "(1,7,🧱)\n",
            "(7,4,🧱)\n"
          ],
          "name": "stdout"
        }
      ]
    },
    {
      "cell_type": "markdown",
      "metadata": {
        "id": "-Qfi3BAfmrGH"
      },
      "source": [
        "**Agente Reflexivo Simple**"
      ]
    },
    {
      "cell_type": "code",
      "metadata": {
        "id": "AR910BHuQtCv",
        "colab": {
          "base_uri": "https://localhost:8080/",
          "height": 517,
          "referenced_widgets": [
            "307f5e2046a340ff8471192a1c73a1f4",
            "491bf94ae6e9417e8f309abe53586fe1",
            "3d6097cd651345c481c44eb0b57e8817"
          ]
        },
        "outputId": "ff84f286-73de-4e17-d863-e40d18f968ee"
      },
      "source": [
        "#Se crea el escenario\n",
        "escenario = Tablero(numeroceldas=(7,5))\n",
        "\n",
        "#Se configura la ubicacion de la basura\n",
        "trash = Agente(x=1 , y=1 , emoticon=\"🗑️\" )\n",
        "trash2 = Agente(x=1 , y=2 , emoticon=\"🗑️\" )\n",
        "trash4 = Agente(x=2 , y=3 , emoticon=\"🗑️\" )\n",
        "Trashes = [trash , trash2 ,trash4]\n",
        "\n",
        "#Se configura la ubicacion de los Obstaculos\n",
        "obstaculo1 = Agente(x=0 , y=0 , emoticon=\"🧱\" )\n",
        "obstaculo2 = Agente(x=2 , y=3 , emoticon=\"🧱\" )\n",
        "obstaculo3 = Agente(x=0 , y=1 , emoticon=\"🧱\" )\n",
        "Obstaculos = [obstaculo1 , obstaculo2 ,obstaculo3]\n",
        "\n",
        "agente = Agente(x=2,y=2,carga=20)\n",
        "\n",
        "escenario.dibujar(agente , Trashes)\n",
        "time.sleep(0.8)\n",
        "\n",
        "while agente.carga > 0:\n",
        "  if len(Trashes) == 0:\n",
        "    break\n",
        "  agente.Movimiento(Trashes,escenario)\n",
        "  print(\"La carga del Robot es : \" + str(agente.carga))\n",
        "  time.sleep(0.8)\n",
        "  Trashes=escenario.dibujar(agente, Trashes)\n",
        "\n",
        "if agente.carga == 0:\n",
        "  print(\"Se acabo Toda la carga.\")\n",
        "  print(\"El numero restante de basuras fueron : \" + str(len(Trashes)) + \" \")\n",
        "else:\n",
        "  print(\"El restante de carga es \" + str(agente.carga) + \" de carga\")\n",
        "\n"
      ],
      "execution_count": null,
      "outputs": [
        {
          "output_type": "display_data",
          "data": {
            "application/vnd.jupyter.widget-view+json": {
              "model_id": "307f5e2046a340ff8471192a1c73a1f4",
              "version_minor": 0,
              "version_major": 2
            },
            "text/plain": [
              "HTML(value='')"
            ]
          },
          "metadata": {
            "tags": []
          }
        },
        {
          "output_type": "stream",
          "text": [
            "La carga del Robot es : 16\n",
            "La carga del Robot es : 14\n",
            "La carga del Robot es : 10\n",
            "La carga del Robot es : 8\n",
            "La carga del Robot es : 6\n",
            "La carga del Robot es : 4\n",
            "La carga del Robot es : 2\n",
            "La carga del Robot es : 0\n",
            "Se acabo Toda la carga.\n",
            "El numero restante de basuras fueron : 1 \n"
          ],
          "name": "stdout"
        }
      ]
    },
    {
      "cell_type": "markdown",
      "metadata": {
        "id": "pDXOm2FCJcmX"
      },
      "source": [
        "Agente Reflexivo con Estado"
      ]
    },
    {
      "cell_type": "code",
      "metadata": {
        "id": "i0Xn48bOj8CE"
      },
      "source": [
        "\n",
        "class Agente:\n",
        "  def __init__(self, x=2, y=2, emoticon=\"🤖\", tamanoEmoticon=30 , recorrido=[\"2,2\"]):\n",
        "    self.x = x\n",
        "    self.y = y\n",
        "    self.emoticon = emoticon\n",
        "    self.tamanoEmoticon = tamanoEmoticon\n",
        "    self.recorrido = recorrido\n",
        "\n",
        "  def __eq__(self, other):\n",
        "    return self.x == other.x and self.y == other.y\n",
        "\n",
        "  def __str__(self):\n",
        "    return \"(\"+str(self.x)+\",\"+str(self.y)+\",\"+self.emoticon+\")\"\n",
        "\n",
        "  def __repr__(self):\n",
        "    return self.__str__()\n",
        "\n",
        "  def movimiento_abajo(self):\n",
        "    self.y += 1\n",
        "    self.comprobarBasura()\n",
        "\n",
        "  def movimiento_arriba(self):\n",
        "    self.y -= 1\n",
        "    self.comprobarBasura()\n",
        "\n",
        "  def movimiento_derecha(self):\n",
        "    self.x += 1\n",
        "    self.comprobarBasura()\n",
        "\n",
        "  def movimiento_izquierda(self):\n",
        "    self.x -= 1\n",
        "    self.comprobarBasura()\n",
        "\n",
        "  def Movimiento(self,trashes,escenario):\n",
        "    a = 0\n",
        "    for i in range(len(trashes)):\n",
        "      a = self.buscarBasura(trashes[i])\n",
        "      if a != 0:\n",
        "        break\n",
        "    if a != 0:\n",
        "      mov = a\n",
        "    else:\n",
        "      mov = self.ValidarMov(escenario)\n",
        "    \n",
        "    lados = self.verificarLados(escenario)\n",
        "    if lados:\n",
        "      while True:\n",
        "        check = self.verificarMov(mov)\n",
        "        if (check):\n",
        "          break\n",
        "        else:\n",
        "          mov = self.ValidarMov(escenario)\n",
        "    else:\n",
        "      mov = self.ValidarMov(escenario)\n",
        "\n",
        "    if mov == 1:\n",
        "      self.movimiento_arriba()\n",
        "    if mov == 2:\n",
        "      self.movimiento_abajo()\n",
        "    if mov == 3:\n",
        "      self.movimiento_derecha()\n",
        "    if mov == 4:\n",
        "      self.movimiento_izquierda()\n",
        "  def verificarLados(self , escenario):\n",
        "    lados = [(str(self.x) + \",\" + str(self.y-1)),(str(self.x) + \",\" + str(self.y+1)),(str(self.x+1) + \",\" + str(self.y)),(str(self.x-1) + \",\" + str(self.y))]\n",
        "    if self.y == 0:\n",
        "      lados.remove(str(self.x) + \",\" + str(self.y-1))\n",
        "    if self.y == escenario.numeroceldas[1]-1:\n",
        "      lados.remove(str(self.x) + \",\" + str(self.y+1))\n",
        "    if self.x == escenario.numeroceldas[0]-1:\n",
        "      lados.remove(str(self.x+1) + \",\" + str(self.y))\n",
        "    if self.x == 0:\n",
        "      lados.remove(str(self.x-1) + \",\" + str(self.y))\n",
        "    \n",
        "    for i in range(len(lados)):\n",
        "      contiene = self.recorrido.count(lados[i])\n",
        "      if contiene == 0:\n",
        "        return True\n",
        "    return False\n",
        "\n",
        "  def buscarBasura(self, trash):\n",
        "    if trash.y == (self.y-1) and trash.x == self.x:\n",
        "      return 1\n",
        "    if trash.y == (self.y+1) and trash.x == self.x:\n",
        "      return 2\n",
        "    if trash.x == (self.x+1) and trash.y == self.y:\n",
        "      return 3\n",
        "    if trash.x == (self.x-1) and trash.y == self.y:\n",
        "      return 4\n",
        "    return 0\n",
        "\n",
        "  def comprobarBasura(self):\n",
        "    temporal = Agente(x=self.x,y=self.y)\n",
        "    if temporal in Trashes:\n",
        "      Trashes.remove(temporal)\n",
        "\n",
        "  def verificarMov(self, movimiento):\n",
        "    coordenadas = self.coordenadaMovimiento(movimiento)\n",
        "    if self.recorrido.count(coordenadas) == 0:\n",
        "      self.recorrido.append(coordenadas)\n",
        "      return True\n",
        "    else:\n",
        "      return False\n",
        "    \n",
        "  \n",
        "  def coordenadaMovimiento(self, movimiento):\n",
        "    if movimiento == 1:\n",
        "      return (str(self.x) + \",\" + str(self.y-1))\n",
        "    if movimiento == 2:\n",
        "      return (str(self.x) + \",\" + str(self.y+1))\n",
        "    if movimiento == 3:\n",
        "      return (str(self.x+1) + \",\" + str(self.y))\n",
        "    if movimiento == 4:\n",
        "      return (str(self.x-1) + \",\" + str(self.y))\n",
        "   \n",
        "  def ValidarMov(self,escenario):\n",
        "    while True:\n",
        "      mov = random.randint(1, 4)\n",
        "      if mov == 1:\n",
        "        if self.y > 0:\n",
        "          return mov\n",
        "      elif mov == 2:\n",
        "        if self.y < escenario.numeroceldas[1]-1:\n",
        "          return mov\n",
        "      elif mov == 3:\n",
        "        if self.x < escenario.numeroceldas[0]-1:\n",
        "          return mov\n",
        "      elif mov == 4:\n",
        "        if self.x > 0:\n",
        "          return mov   \n",
        "\n"
      ],
      "execution_count": null,
      "outputs": []
    }
  ]
}